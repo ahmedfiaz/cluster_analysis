{
 "cells": [
  {
   "cell_type": "markdown",
   "metadata": {},
   "source": [
    "The goal here is to modify the notebook that calculates cluster statistics on both <b> TRMM </b> and <b> CMIP6 </b> model output. "
   ]
  },
  {
   "cell_type": "markdown",
   "metadata": {},
   "source": [
    "Import modules\n"
   ]
  },
  {
   "cell_type": "code",
   "execution_count": 1,
   "metadata": {},
   "outputs": [],
   "source": [
    "import numpy as np\n",
    "import matplotlib.pyplot as plt\n",
    "from netCDF4 import Dataset\n",
    "import matplotlib\n",
    "from matplotlib.ticker import MaxNLocator,FormatStrFormatter\n",
    "import pickle\n",
    "from glob import glob\n",
    "import sys  \n",
    "import matplotlib.gridspec as gridspec\n",
    "from scipy.stats import linregress\n",
    "from dateutil.relativedelta import relativedelta\n",
    "import itertools\n",
    "import pickle\n",
    "from cartopy.util import add_cyclic_point\n",
    "\n",
    "\n",
    "from scipy.ndimage import label,find_objects\n",
    "import scipy.ndimage as ndimage\n",
    "from matplotlib.colors import LinearSegmentedColormap\n",
    "\n",
    "import datetime as dt\n",
    "\n",
    "import cartopy\n",
    "import cartopy.crs as ccrs\n",
    "import matplotlib.ticker as mticker\n",
    "from cartopy.mpl.gridliner import LONGITUDE_FORMATTER, LATITUDE_FORMATTER\n",
    "import xarray as xr\n",
    "import pandas as pd\n",
    "from scipy.stats import norm\n",
    "import os \n",
    "\n",
    "\n",
    "\n",
    "\n",
    "%matplotlib inline"
   ]
  },
  {
   "cell_type": "markdown",
   "metadata": {},
   "source": [
    "### Try using dask "
   ]
  },
  {
   "cell_type": "code",
   "execution_count": 2,
   "metadata": {},
   "outputs": [
    {
     "name": "stderr",
     "output_type": "stream",
     "text": [
      "/home/fiaz/anaconda3/envs/aos112/lib/python3.7/site-packages/distributed/node.py:155: UserWarning: Port 8787 is already in use.\n",
      "Perhaps you already have a cluster running?\n",
      "Hosting the HTTP server on port 41724 instead\n",
      "  http_address[\"port\"], self.http_server.port\n"
     ]
    },
    {
     "data": {
      "text/html": [
       "<table style=\"border: 2px solid white;\">\n",
       "<tr>\n",
       "<td style=\"vertical-align: top; border: 0px solid white\">\n",
       "<h3 style=\"text-align: left;\">Client</h3>\n",
       "<ul style=\"text-align: left; list-style: none; margin: 0; padding: 0;\">\n",
       "  <li><b>Scheduler: </b>tcp://127.0.0.1:35659</li>\n",
       "  <li><b>Dashboard: </b><a href='http://127.0.0.1:41724/status' target='_blank'>http://127.0.0.1:41724/status</a></li>\n",
       "</ul>\n",
       "</td>\n",
       "<td style=\"vertical-align: top; border: 0px solid white\">\n",
       "<h3 style=\"text-align: left;\">Cluster</h3>\n",
       "<ul style=\"text-align: left; list-style:none; margin: 0; padding: 0;\">\n",
       "  <li><b>Workers: </b>4</li>\n",
       "  <li><b>Cores: </b>4</li>\n",
       "  <li><b>Memory: </b>387.99 GB</li>\n",
       "</ul>\n",
       "</td>\n",
       "</tr>\n",
       "</table>"
      ],
      "text/plain": [
       "<Client: 'tcp://127.0.0.1:35659' processes=4 threads=4, memory=387.99 GB>"
      ]
     },
     "execution_count": 2,
     "metadata": {},
     "output_type": "execute_result"
    }
   ],
   "source": [
    "from dask.distributed import Client\n",
    "client = Client(n_workers=4, threads_per_worker=1)\n",
    "client"
   ]
  },
  {
   "cell_type": "markdown",
   "metadata": {},
   "source": [
    "CMIP6 stands for Coupled Model Intercomparison Project 6, : <a href=\"https://www.wcrp-climate.org/wgcm-cmip/wgcm-cmip6\">https://www.wcrp-climate.org/wgcm-cmip/wgcm-cmip6</a>.\n",
    "The algorithm in this notebook is roughly as follows:\n",
    "<ol>\n",
    "    <li> Create a list of CMIP6 files to read with specified start and end dates. Each file contains one month of data. </li>\n",
    "    <li> Visualize the precipitation field, and the corresponding clusters for a specific time step. You can play around with this to develop a physical intuition for clusters </li>\n",
    "    <li> Create clusters and construct probability density functions (pdfs) for cluster size and cluster power. The data can be saved to file to avoid re-running time consuming computation. </li>\n",
    "    <li> Plot the pdfs for different time periods. You can play around to see how the pdfs vary with time length and period. Also include information about the cutoff in the plots. </li>\n",
    "</ol>\n"
   ]
  },
  {
   "cell_type": "markdown",
   "metadata": {},
   "source": [
    "<b>EDIT:</b> a few changes have been made to the previous version of this notebook:\n",
    "<ol>\n",
    "    <li> We now use the xarray package to read and slice input files</li>\n",
    "    <li> We can now set the starting and ending dates for extraction, so you can use the same time period across models </li>\n",
    "    <li> We now read both historical and SSP runs in the same notebook </li>\n",
    "</ol>"
   ]
  },
  {
   "cell_type": "markdown",
   "metadata": {},
   "source": [
    "<b> <font color=blue>EDITS (08/09/20)</font>:</b>\n",
    "<ol>\n",
    "    <li> We can now skip the visualization of precip. maps. Clicking on a link now directly takes you the cluster pdf computation part of the code.</li>\n",
    "    <li> We now save the grid size information in the .out files, so they don't have to be read in separately when comparing historical to SSP. </li>\n",
    "</ol>"
   ]
  },
  {
   "cell_type": "markdown",
   "metadata": {},
   "source": [
    "<b> <font color=blue>EDITS (10/15/20)</font>:</b>\n",
    "<ol>\n",
    "    <li> We have now implemented errorbars in the plotting routine.</li>\n",
    "    <li> We have changed the plotting workflow; now there is a separate plotting function which takes takes preset plotting parameters</li>\n",
    "    <li> The plotting function can also do log-linear plots, and compute $a_L$ and $c_L$ </li>\n",
    "</ol>"
   ]
  },
  {
   "cell_type": "markdown",
   "metadata": {},
   "source": [
    "### 1. Create a list of CMIP6 files to read with specified start and end dates. <br> Each file contains one month of data.\n"
   ]
  },
  {
   "cell_type": "markdown",
   "metadata": {},
   "source": [
    "### First set the type of forcing ('HIST' or 'SSP')"
   ]
  },
  {
   "cell_type": "code",
   "execution_count": 3,
   "metadata": {},
   "outputs": [
    {
     "name": "stdout",
     "output_type": "stream",
     "text": [
      "['@FGOALS-f3-L', '@GISS-E2-1-G', 'ACCESS-CM2', 'ACCESS-ESM1-5', 'BCC-CSM2-MR', 'CMIP6-yxli.tar', 'auto_folder.ncl', 'wget_multi.ncl', 'CESM2', 'CNRM-CM6-1-HR', 'CNRM-CM6-1', 'FGOALS-g3', 'GFDL-CM4', 'IITM-ESM', 'KACE-1-0-G', 'MIROC-ES2L', 'MIROC6', 'MPI-ESM-1-2-HAM', 'MPI-ESM1-2-LR', 'MRI-ESM2-0', 'NESM3', 'NorESM2-LM', 'NorESM2-MM', 'MPI-ESM1-2-HR', 'CanESM5', 'SAM0-UNICON', '@IPSL-CM6A-LR', 'IPSL-CM6A-LR', 'GISS-E2-1-G']\n"
     ]
    }
   ],
   "source": [
    "forcing='HIST'\n",
    "# forcing='SSP'\n",
    "# forcing='obs'\n",
    "\n",
    "## small snippet to extract model names from the scratch directory ##\n",
    "if forcing=='HIST':\n",
    "    diri='/scratch/neelin/CMIP6/'\n",
    "    diri='/neelin2020/CMIP6-HISTORICAL/'\n",
    "elif forcing=='SSP':\n",
    "#     diri='/scratch/neelin/CMIP6-SSP585/'\n",
    "    diri='/neelin2020/CMIP6-SSP585/'\n",
    "\n",
    "\n",
    "pr_dir='HIST_r1i1p1f2/pr'\n",
    "# pr_dir='pr'\n",
    "pr_ext='3hr'\n",
    "# pr_ext=''\n",
    "# pr_ext='E1hr'\n",
    "# pr_ext='6hrPlev' ## for NorESM2-MM\n",
    "\n",
    "\n",
    "\n",
    "model_list=[]\n",
    "model_dir=[]\n",
    "\n",
    "if forcing!='obs':\n",
    "    list_temp=(glob(diri+'*'))\n",
    "\n",
    "    for name in list_temp:\n",
    "        temp_name=name.split('/')[-1]\n",
    "        model_list.append(temp_name)\n",
    "        model_dir.append(diri+temp_name+'/'+pr_dir+'/pr_'+pr_ext+'*')\n",
    "\n",
    "    model_list=model_list[1:] ### neglect the first name, since it is not really a model\n",
    "    model_dir=model_dir[1:] ### neglect the first name, since it is not really a model\n",
    "    print(model_list)\n",
    "    model_index=model_list.index('CNRM-CM6-1') ## find index of any model you want    \n",
    "\n",
    "    \n",
    "elif forcing=='obs':\n",
    "    model_dir.append('/scratch/neelin/TRMM_3B42/*')\n",
    "    model_index=0"
   ]
  },
  {
   "cell_type": "markdown",
   "metadata": {},
   "source": [
    "### check the list of files in the model directory to see what the ```pr_ext``` variable should be ##"
   ]
  },
  {
   "cell_type": "code",
   "execution_count": 4,
   "metadata": {},
   "outputs": [
    {
     "data": {
      "text/plain": [
       "'/neelin2020/CMIP6-HISTORICAL/CNRM-CM6-1/HIST_r1i1p1f2/pr/pr_3hr*'"
      ]
     },
     "execution_count": 4,
     "metadata": {},
     "output_type": "execute_result"
    }
   ],
   "source": [
    "model_dir[model_index]"
   ]
  },
  {
   "cell_type": "code",
   "execution_count": 5,
   "metadata": {},
   "outputs": [],
   "source": [
    "# os.listdir('/neelin2020/CMIP6-SSP585/CNRM-CM6-1/HIST_r1i1p1f2/*')"
   ]
  },
  {
   "cell_type": "markdown",
   "metadata": {},
   "source": [
    "### Read files and extract subsets in time and latitude"
   ]
  },
  {
   "cell_type": "code",
   "execution_count": 6,
   "metadata": {},
   "outputs": [
    {
     "data": {
      "text/plain": [
       "['/neelin2020/CMIP6-HISTORICAL/CNRM-CM6-1/HIST_r1i1p1f2/pr/pr_3hr_CNRM-CM6-1_historical_r1i1p1f2_gr_200001010130-200912312230.nc',\n",
       " '/neelin2020/CMIP6-HISTORICAL/CNRM-CM6-1/HIST_r1i1p1f2/pr/pr_3hr_CNRM-CM6-1_historical_r1i1p1f2_gr_201001010130-201412312230.nc']"
      ]
     },
     "execution_count": 6,
     "metadata": {},
     "output_type": "execute_result"
    }
   ],
   "source": [
    "model_files=glob(model_dir[model_index])\n",
    "model_files"
   ]
  },
  {
   "cell_type": "code",
   "execution_count": 7,
   "metadata": {},
   "outputs": [],
   "source": [
    "model_files=glob(model_dir[model_index])\n",
    "### READ model file ###\n",
    "PR_VAR='pr'\n",
    "PRECIP_FACTOR=36e2 ## Factor to convert precip. units to mm/hr\n",
    "\n",
    "\n",
    "if forcing=='obs':\n",
    "    PR_VAR='precip_trmm'\n",
    "    PRECIP_FACTOR=1.0\n",
    "    \n",
    "### Read all model files ###\n",
    "pr_ds=xr.open_mfdataset(model_files)\n",
    "\n",
    "### fix datetime format ##\n",
    "def fix_datetime(ds):\n",
    "\n",
    "    try:\n",
    "        datetimeindex = ds.indexes['time'].to_datetimeindex()\n",
    "        ds['time'] = datetimeindex\n",
    "    except:\n",
    "        pass\n",
    "\n",
    "fix_datetime(pr_ds)\n",
    "\n",
    "if forcing!='obs':\n",
    "    ### changing the longitude values from -180 to 180 to avoid some plotting errors \n",
    "    pr_ds.coords['lon'] = (pr_ds.coords['lon'] + 180) % 360  - 180\n",
    "    pr_ds = pr_ds.sortby(pr_ds.lon)\n",
    "\n",
    "elif forcing=='obs':\n",
    "    pr_ds=pr_ds.rename({'latitude':'lat','longitude':'lon'})\n",
    "    \n",
    "    "
   ]
  },
  {
   "cell_type": "markdown",
   "metadata": {},
   "source": [
    "### Fixing the datetime: KACE ##"
   ]
  },
  {
   "cell_type": "code",
   "execution_count": 8,
   "metadata": {},
   "outputs": [],
   "source": [
    "# yr,mo,day,hr=pr_ds.time[0].dt.year,pr_ds.time[0].dt.month,pr_ds.time[0].dt.day,pr_ds.time[0].dt.hour\n",
    "# strt_date=dt.datetime(yr,mo,day,hr)\n",
    "# pr_ds['time']=pd.date_range(strt_date,freq='3H',periods=pr_ds.time.size)"
   ]
  },
  {
   "cell_type": "markdown",
   "metadata": {},
   "source": [
    "### Examine the data time range use it set time bounds for extraction##\n",
    "The cell below gives starting and ending year and month"
   ]
  },
  {
   "cell_type": "code",
   "execution_count": 9,
   "metadata": {},
   "outputs": [
    {
     "name": "stdout",
     "output_type": "stream",
     "text": [
      "2000 1\n",
      "2014 12\n"
     ]
    }
   ],
   "source": [
    "print(pr_ds.time[0].dt.year.values,pr_ds.time[0].dt.month.values)\n",
    "print(pr_ds.time[-1].dt.year.values,pr_ds.time[-1].dt.month.values)"
   ]
  },
  {
   "cell_type": "code",
   "execution_count": 10,
   "metadata": {
    "scrolled": false
   },
   "outputs": [],
   "source": [
    "## Specify start and end dates to extract from\n",
    "# strt_date=dt.datetime(2091,1,1)\n",
    "# end_date=dt.datetime(2100,12,31)\n",
    "\n",
    "strt_date=dt.datetime(2005,1,1)\n",
    "end_date=dt.datetime(2014,12,31)\n",
    "\n",
    "time_slice=slice(strt_date,end_date)\n",
    "## Specify latitudinal bounds to extract\n",
    "lat_slice=slice(-30,30)\n",
    "pr_ds=pr_ds.sel(time=time_slice,lat=lat_slice) ## only extract specified timeslice\n",
    "\n",
    "lon=pr_ds.lon\n",
    "lat=pr_ds.lat\n",
    "\n",
    "dates=pr_ds.time.dt.strftime('%Y-%M-%d %H')"
   ]
  },
  {
   "cell_type": "markdown",
   "metadata": {},
   "source": [
    "### Declare useful constants related to grid sizes ###"
   ]
  },
  {
   "cell_type": "code",
   "execution_count": 11,
   "metadata": {},
   "outputs": [],
   "source": [
    "Rearth=6.37e6  ## Earth's equatorial radius in meters\n",
    "\n",
    "## get the grid sizes dx and dy in meters ###\n",
    "nx =lon.size # no. of grid points\n",
    "ny =lat.size  \n",
    "dx=2.*np.pi*Rearth*(np.cos(np.pi*lat.values/180))/nx           #whole globe, periodic in x, dx in meters\n",
    "dphi=np.gradient(lat.values)*np.pi/180  ## dphi in radians\n",
    "dy=dphi*Rearth ## dy in meters\n",
    "\n",
    "## for simplicity, we assume a single dx and dy for the domain. \n",
    "## Even though we should recognize that dx and dy vary with latitude.\n",
    "precip_cluster_power_scale=2.5*dx.mean()*dy[0]*1e-6/3.6 ## cluster power in GW  ## Convert integrated precip. into power\n",
    "pixels_to_area=dx.mean()*dy[0]*1e-6 ### factor convert the number of pixels to area in km^2"
   ]
  },
  {
   "cell_type": "markdown",
   "metadata": {},
   "source": [
    "Read precip"
   ]
  },
  {
   "cell_type": "code",
   "execution_count": 12,
   "metadata": {},
   "outputs": [],
   "source": [
    "prc=pr_ds[PR_VAR]*PRECIP_FACTOR"
   ]
  },
  {
   "cell_type": "markdown",
   "metadata": {},
   "source": [
    "<b> Note: if the goal is to only look at the cluster pdfs, the next few cells can be skipped</b>. Click [here](#cell_cluster_pdfs) to go to the cluster pdf computation"
   ]
  },
  {
   "cell_type": "markdown",
   "metadata": {},
   "source": [
    "### Read precip. values, and mask values below threshold ###"
   ]
  },
  {
   "cell_type": "code",
   "execution_count": 13,
   "metadata": {},
   "outputs": [],
   "source": [
    "prc_min_thresh=0.25 ## in mm/hr\n",
    "prc_masked=prc.where(prc>=prc_min_thresh)"
   ]
  },
  {
   "cell_type": "markdown",
   "metadata": {},
   "source": [
    "### 2. Visualize the precipitation field, and the corresponding clusters for a specific time step."
   ]
  },
  {
   "cell_type": "code",
   "execution_count": null,
   "metadata": {},
   "outputs": [],
   "source": [
    "### Create colorbar for precipitation ###\n",
    "\n",
    "nws_precip_colors = [\n",
    "#     \"#04e9e7\",  # 0.01 - 0.10 inches\n",
    "#     \"#019ff4\",  # 0.10 - 0.25 inches\n",
    "#     \"#0300f4\",  # 0.25 - 0.50 inches\n",
    "    \"#02fd02\",  # 0.50 - 0.75 inches\n",
    "    \"#01c501\",  # 0.75 - 1.00 inches\n",
    "    \"#008e00\",  # 1.00 - 1.50 inches\n",
    "    \"#fdf802\",  # 1.50 - 2.00 inches\n",
    "    \"#e5bc00\",  # 2.00 - 2.50 inches\n",
    "    \"#fd9500\",  # 2.50 - 3.00 inches\n",
    "    \"#fd0000\",  # 3.00 - 4.00 inches\n",
    "    \"#d40000\",  # 4.00 - 5.00 inches\n",
    "    \"#bc0000\",  # 5.00 - 6.00 inches\n",
    "#     \"#f800fd\",  # 6.00 - 8.00 inches\n",
    "#     \"#9854c6\",  # 8.00 - 10.00 inches\n",
    "#     \"#fdfdfd\"   # 10.00+\n",
    "]\n",
    "precip_colormap = matplotlib.colors.ListedColormap(nws_precip_colors)\n",
    "\n",
    "levels=np.arange(0.0,5.25,.25)\n",
    "levels_mean=np.arange(0.0,5.25,.25)*1e-1\n",
    "norm = matplotlib.colors.BoundaryNorm(levels, precip_colormap.N)\n",
    "norm_mean = matplotlib.colors.BoundaryNorm(levels_mean, precip_colormap.N) I"
   ]
  },
  {
   "cell_type": "markdown",
   "metadata": {},
   "source": [
    "Pick a specific time step. Visualize the precipitation map, and the clusters that can be formed out this map. Change time step to get a feel for how the clusters are produced."
   ]
  },
  {
   "cell_type": "code",
   "execution_count": null,
   "metadata": {},
   "outputs": [],
   "source": [
    "pr_ds.time"
   ]
  },
  {
   "cell_type": "code",
   "execution_count": null,
   "metadata": {
    "scrolled": false
   },
   "outputs": [],
   "source": [
    "### Select time step here ##\n",
    "### note that you have to specify hours too as T01-T23 or you get all the values in a given day ##\n",
    "### just type pr_ds.time in a new cell to see the time format ###\n",
    "# select_date='2099-04-01T21'\n",
    "select_date='2013-04-01T19'\n",
    "prc_inst=np.squeeze(prc_masked.sel(time=select_date).values)"
   ]
  },
  {
   "cell_type": "markdown",
   "metadata": {},
   "source": [
    "First declare some values useful constants "
   ]
  },
  {
   "cell_type": "code",
   "execution_count": null,
   "metadata": {},
   "outputs": [],
   "source": [
    "# prc_input=np.ma.masked_invalid(prc_inst)\n",
    "prc_input=np.squeeze(pr_ds.sel(time=select_date).pr.values*PRECIP_FACTOR)\n",
    "prc_input[prc_input<prc_min_thresh]=0.0\n",
    "### Use pixel contiguity to identify clusters ##\n",
    "labeled_prc, num_features = label(prc_input)\n",
    "levels_labels=np.arange(0,num_features,1)\n",
    "labels_masked=np.ma.masked_where(labeled_prc==0,labeled_prc)\n",
    "cluster_power_masked=np.zeros_like(labels_masked)\n",
    "\n",
    "pal=plt.get_cmap('YlGnBu')\n",
    "\n",
    "label_objs=find_objects(labels_masked)\n",
    "\n",
    "for j in np.arange(len(label_objs)):\n",
    "\n",
    "    sl=label_objs[j]\n",
    "    pcp_slice=prc_input[sl]\n",
    "    label_slice=labels_masked[sl]\n",
    "    cluster_power_masked[sl][pcp_slice>0]=pcp_slice.sum()*precip_cluster_power_scale\n",
    "\n",
    "\n",
    "    \n",
    "levels_pow=np.arange(2.0,7.25,.25)\n",
    "norm_pow = matplotlib.colors.BoundaryNorm(levels_pow, precip_colormap.N)"
   ]
  },
  {
   "cell_type": "markdown",
   "metadata": {},
   "source": [
    "### Plot mean precipitation for check ###values"
   ]
  },
  {
   "cell_type": "code",
   "execution_count": null,
   "metadata": {},
   "outputs": [],
   "source": [
    "### Time mean here is not the mean over masked values ###\n",
    "prc_mean=prc.mean(dim='time').values"
   ]
  },
  {
   "cell_type": "code",
   "execution_count": null,
   "metadata": {},
   "outputs": [],
   "source": [
    "prc_mean.min()"
   ]
  },
  {
   "cell_type": "code",
   "execution_count": null,
   "metadata": {},
   "outputs": [],
   "source": [
    "### Removing the central_longitude=180 will switch the plot center ##\n",
    "fig,axx = plt.subplots(1,1,figsize=(12, 3),subplot_kw={'projection': ccrs.PlateCarree(central_longitude=180)}) \n",
    "ax=axx\n",
    "ax.coastlines()\n",
    "ax.set_extent([lon.values[0],lon.values[-1],lat.values[0],lat.values[-1]], crs=ccrs.PlateCarree())\n",
    "CT=ax.imshow(prc_mean, \n",
    "             cmap=precip_colormap,\n",
    "             interpolation='none',norm=norm_mean, \n",
    "             extent=[lon.values[0],lon.values[-1],lat.values[0],lat.values[-1]],\n",
    "             origin='lower',\n",
    "             transform=ccrs.PlateCarree())\n",
    "\n",
    "\n",
    "#get size and extent of axes:\n",
    "ax.set_aspect('auto')\n",
    "\n",
    "axpos = ax.get_position()\n",
    "pos_x = axpos.x0+axpos.width + 0.025# + 0.25*axpos.width\n",
    "pos_y = axpos.y0\n",
    "cax_width = 0.01\n",
    "cax_height = axpos.height\n",
    "#create new axes where the colorbar should go.\n",
    "#it should be next to the original axes and have the same height!\n",
    "pos_cax = fig.add_axes([pos_x,pos_y,cax_width,cax_height])\n",
    "plt.colorbar(CT, cax=pos_cax,label='mm/hr',format='%.3f')\n",
    "font = matplotlib.font_manager.FontProperties(family='Arial',  size=14)\n",
    "pos_cax.yaxis.label.set_font_properties(font)\n",
    "pos_cax.tick_params(which='both',labelsize=12.)\n",
    "\n",
    "axpos = ax.get_position()\n",
    "pos_x = axpos.x0+axpos.width + 0.025# + 0.25*axpos.width\n",
    "pos_y = axpos.y0\n",
    "cax_width = 0.01\n",
    "cax_height = axpos.height\n",
    "\n",
    "ax.set_title('Time mean %s precipitation from %s-%s'%(model_list[model_index],time_slice.start.strftime(\"%Y%m\"),time_slice.stop.strftime(\"%Y%m\")),fontsize=15)\n",
    "\n",
    "gl = ax.gridlines(crs=ccrs.PlateCarree(), draw_labels=True,\n",
    "                  linewidth=2, color='gray', alpha=0.5, linestyle='--')\n",
    "gl.xlabels_top = False\n",
    "gl.ylabels_right = False\n",
    "\n",
    "gl.xlines = True\n",
    "gl.ylocator = mticker.FixedLocator(np.arange(-90,90,30))\n",
    "gl.xlocator = mticker.FixedLocator(np.arange(-180,180,45))\n",
    "gl.xlabel_style = {'size': 14}\n",
    "gl.ylabel_style = {'size': 14}\n",
    "\n",
    "plt.subplots_adjust(left=None, bottom=None, right=None, top=None, wspace=None, hspace=0.3)\n",
    "plt.tight_layout()\n",
    "\n",
    "if forcing=='SSP':\n",
    "    fname='Time_mean_precip_SSP585_%s'%(model_list[model_index])+'_'+time_slice.start.strftime(\"%Y%m\")+\"_\"+time_slice.stop.strftime(\"%Y%m\")+'.pdf'\n",
    "elif forcing=='HIST':\n",
    "    fname='Time_mean_precip_%s'%(model_list[model_index])+'_'+time_slice.start.strftime(\"%Y%m\")+\"_\"+time_slice.stop.strftime(\"%Y%m\")+'.pdf'\n",
    "## stores in a local directory called plots ##\n",
    "plt.savefig('./plots/'+fname,format='pdf',dpi=150,bbox_inches='tight')"
   ]
  },
  {
   "cell_type": "markdown",
   "metadata": {},
   "source": [
    "### Plot selected timestep ###"
   ]
  },
  {
   "cell_type": "code",
   "execution_count": null,
   "metadata": {},
   "outputs": [],
   "source": [
    "fig,axx = plt.subplots(2,1,figsize=(12, 6),subplot_kw={'projection': ccrs.PlateCarree(central_longitude=180)},\n",
    "                      constrained_layout=False)\n",
    "\n",
    "ax=axx[0]\n",
    "# ax = plt.axes(projection=ccrs.PlateCarree(central_longitude=180),figsize=(12,6))\n",
    "ax.coastlines()\n",
    "ax.set_extent([lon.values[0],lon.values[-1],lat.values[0],lat.values[-1]], crs=ccrs.PlateCarree())\n",
    "CT=ax.imshow(prc_inst, \n",
    "             cmap=precip_colormap,\n",
    "             interpolation='none',norm=norm, \n",
    "             extent=[lon.values[0],lon.values[-1],lat.values[0],lat.values[-1]],\n",
    "             origin='lower', \n",
    "             transform=ccrs.PlateCarree())\n",
    "ax.set_aspect('auto')\n",
    "\n",
    "axpos = ax.get_position()\n",
    "pos_x = axpos.x0+axpos.width + 0.025# + 0.25*axpos.width\n",
    "pos_y = axpos.y0\n",
    "cax_width = 0.01\n",
    "cax_height = axpos.height\n",
    "#create new axes where the colorbar should go.\n",
    "#it should be next to the original axes and have the same height!\n",
    "pos_cax = fig.add_axes([pos_x,pos_y,cax_width,cax_height])\n",
    "plt.colorbar(CT, cax=pos_cax,label='mm/hr',format='%.3f')\n",
    "font = matplotlib.font_manager.FontProperties(family='Arial',  size=14)\n",
    "pos_cax.yaxis.label.set_font_properties(font)\n",
    "pos_cax.tick_params(which='both',labelsize=12.)\n",
    "\n",
    "axpos = ax.get_position()\n",
    "pos_x = axpos.x0+axpos.width + 0.025# + 0.25*axpos.width\n",
    "pos_y = axpos.y0\n",
    "cax_width = 0.01\n",
    "cax_height = axpos.height\n",
    "\n",
    "if forcing=='SSP':\n",
    "    ax.set_title('%s SSP585 precipitation at %s'%(model_list[model_index],dates.sel(time=select_date).values),fontsize=15)\n",
    "elif forcing=='HIST':\n",
    "    ax.set_title('%s precipitation at %s'%(model_list[model_index],dates.sel(time=select_date).values),fontsize=15)\n",
    "\n",
    "\n",
    "gl = ax.gridlines(crs=ccrs.PlateCarree(), draw_labels=True,\n",
    "                  linewidth=2, color='gray', alpha=0.5, linestyle='--')\n",
    "gl.xlabels_top = False\n",
    "gl.ylabels_right = False\n",
    "\n",
    "gl.xlines = True\n",
    "gl.ylocator = mticker.FixedLocator(np.arange(-90,90,30))\n",
    "gl.xlocator = mticker.FixedLocator(np.arange(-180,180,45))\n",
    "gl.xlabel_style = {'size': 14}\n",
    "gl.ylabel_style = {'size': 14}\n",
    "\n",
    "ax=axx[1]\n",
    "ax.coastlines()\n",
    "ax.set_extent([lon.values[0],lon.values[-1],lat.values[0],lat.values[-1]], crs=ccrs.PlateCarree())\n",
    "CT=ax.imshow(np.log10(cluster_power_masked),cmap=precip_colormap,interpolation='none',aspect='auto',\n",
    "             origin='lower',norm=norm_pow,\n",
    "             extent=[lon.values[0],lon.values[-1],lat.values[0],lat.values[-1]],\n",
    "             transform=ccrs.PlateCarree())\n",
    "\n",
    "ax.set_aspect('auto')\n",
    "\n",
    "axpos = ax.get_position()\n",
    "pos_x = axpos.x0+axpos.width + 0.025# + 0.25*axpos.width\n",
    "pos_y = axpos.y0\n",
    "cax_width = 0.01\n",
    "cax_height = axpos.height\n",
    "#create new axes where the colorbar should go.\n",
    "#it should be next to the original axes and have the same height!\n",
    "pos_cax = fig.add_axes([pos_x,pos_y,cax_width,cax_height])\n",
    "plt.colorbar(CT, cax=pos_cax,label='Cluster Power (GW)',format='%.3f')\n",
    "font = matplotlib.font_manager.FontProperties(family='Arial',  size=14)\n",
    "pos_cax.yaxis.label.set_font_properties(font)\n",
    "pos_cax.tick_params(which='both',labelsize=12.)\n",
    "\n",
    "axpos = ax.get_position()\n",
    "pos_x = axpos.x0+axpos.width + 0.025# + 0.25*axpos.width\n",
    "pos_y = axpos.y0\n",
    "cax_width = 0.01\n",
    "cax_height = axpos.height\n",
    "\n",
    "ax.set_title('Precipitation Clusters',fontsize=15)\n",
    "\n",
    "gl = ax.gridlines(crs=ccrs.PlateCarree(), draw_labels=True,\n",
    "                  linewidth=2, color='gray', alpha=0.5, linestyle='--')\n",
    "gl.xlabels_top = False\n",
    "gl.ylabels_right = False\n",
    "\n",
    "gl.xlines = True\n",
    "gl.ylocator = mticker.FixedLocator(np.arange(-90,90,30))\n",
    "gl.xlocator = mticker.FixedLocator(np.arange(-180,180,45))\n",
    "gl.xlabel_style = {'size': 14}\n",
    "gl.ylabel_style = {'size': 14}\n",
    "\n",
    "plt.subplots_adjust(left=None, bottom=None, right=None, top=None, wspace=None, hspace=0.3)\n",
    "plt.tight_layout()\n",
    "\n",
    "if forcing=='SSP':\n",
    "    fname='Instantaneous_precip_SSP585_%s_%s'%(model_list[model_index],select_date)+'.pdf'\n",
    "elif forcing=='HIST':\n",
    "    fname='Instantaneous_precip_%s_%s'%(model_list[model_index],select_date)+'.pdf'    \n",
    "## stores in a local directory called plots ##\n",
    "plt.savefig('./plots/'+fname,format='pdf',dpi=150,bbox_inches='tight')"
   ]
  },
  {
   "cell_type": "markdown",
   "metadata": {},
   "source": [
    "<a id='cell_cluster_pdfs'></a>  "
   ]
  },
  {
   "cell_type": "markdown",
   "metadata": {},
   "source": [
    "### Create cluster pdfs ###"
   ]
  },
  {
   "cell_type": "markdown",
   "metadata": {},
   "source": [
    "Create bins to hold the cluster size and power pdfs"
   ]
  },
  {
   "cell_type": "code",
   "execution_count": 14,
   "metadata": {},
   "outputs": [],
   "source": [
    "#### CLUSTER SIZE and POWER PDF bins ###\n",
    "sizes=2**np.arange(0,18.25,.25)\n",
    "sizes=np.unique(np.int_(sizes))-0.5\n",
    "\n",
    "sz=(sizes[:-1]+sizes[1:])*0.5\n",
    "sz_diff=np.diff(sizes)\n",
    "\n",
    "pcp_clus_pow_bins=sizes*precip_cluster_power_scale*0.5\n",
    "pcp_clust_sz=(pcp_clus_pow_bins[:-1]+pcp_clus_pow_bins[1:])*0.5\n",
    "pcp_clust_sz_diff=np.diff(pcp_clus_pow_bins)\n",
    "\n"
   ]
  },
  {
   "cell_type": "markdown",
   "metadata": {},
   "source": [
    "Create a list of precip. thresholds"
   ]
  },
  {
   "cell_type": "code",
   "execution_count": 15,
   "metadata": {},
   "outputs": [],
   "source": [
    "pthresh_list=[.25, .5, .75, 1.0]  ## list of precip. thresholds"
   ]
  },
  {
   "cell_type": "markdown",
   "metadata": {},
   "source": [
    "Function to perform cluster analysis. Takes file name as input and yields outputs:\n",
    "    <ol>\n",
    "    <li> Counts of precip. cluster power</li>\n",
    "    <li> Counts of precip. cluster size </li>\n",
    "    <li> List of cluster power </li>\n",
    "    <li> List of cluster size </li>\n",
    "    </ol>\n",
    "\n",
    "The counts will be use to create historgrams. The lists of cluster power and size will allow us to estimate measures like the moment ratio (which is a proxy for the exponential cutoff).\n"
   ]
  },
  {
   "cell_type": "markdown",
   "metadata": {},
   "source": [
    "Unlike the TRMM precipitation, where we had one file per day, the CMIP6 precipitation is in one giant variable. So we will modify our strategy related to parallel computing. "
   ]
  },
  {
   "cell_type": "code",
   "execution_count": 16,
   "metadata": {},
   "outputs": [],
   "source": [
    "def perform_cluster_analysis_cmip6(prc):\n",
    "        \n",
    "    hist_pcp_sizes={}   \n",
    "    hist_pcp_clust_pow={}\n",
    "    pcp_sizes={}\n",
    "    pcp_power={}\n",
    "    \n",
    "    for k in pthresh_list:\n",
    "                \n",
    "        arrp=np.copy(prc)\n",
    "        arrp[prc>k]=1\n",
    "        arrp[prc<=k]=0\n",
    "        hist_pcp_sizes[k]=np.zeros_like(sz)    \n",
    "        hist_pcp_clust_pow[k]=np.zeros_like(pcp_clust_sz)\n",
    "        \n",
    "        pcp_sizes[k]=np.zeros((1))\n",
    "        pcp_power[k]=np.zeros((1))\n",
    "        \n",
    "        for ti in np.arange(prc.shape[0]):\n",
    "            \n",
    "            ### Cluster precipitation ###\n",
    "        \n",
    "            labeled_array_pcp, num_features_pcp = label(arrp[ti,:])\n",
    "            ind=np.where(labeled_array_pcp[:,0]>0)[0]            \n",
    "                \n",
    "            ## Condition to take care of doubly periodic clusters ##\n",
    "\n",
    "            # Assuming lat x lon array\n",
    "            # Are there pixels along the longitude boundary whose label values are both > 0? \n",
    "            if any(np.logical_and(labeled_array_pcp[:,-1][ind]>0,labeled_array_pcp[:,0][ind]>0)):\n",
    "\n",
    "                # If yes, then get their local addresses in the column        \n",
    "                indy=np.where(np.logical_and(labeled_array_pcp[:,-1][ind]>0,labeled_array_pcp[:,0][ind]>0))\n",
    "                # Loop through each address        \n",
    "                for j in indy[0]:\n",
    "                    # Get the destination label: of the last column\n",
    "                    dest_label=labeled_array_pcp[:,-1][ind][j]\n",
    "                    # Get the target label: of the first column\n",
    "                    target_label=labeled_array_pcp[:,0][ind][j]\n",
    "                    # Make all pixels with destination labels=target labels\n",
    "                    labeled_array_pcp[labeled_array_pcp==dest_label]=target_label\n",
    "\n",
    "                ## Update number of features\n",
    "                num_features_pcp=np.unique(labeled_array_pcp[labeled_array_pcp>0]).size\n",
    "                                        \n",
    "            if num_features_pcp==0:\n",
    "                mx,mn=1,0\n",
    "            else:\n",
    "                mx,mn=labeled_array_pcp.max(),1\n",
    "                        \n",
    "            ## Bin by cluster size ##\n",
    "\n",
    "            hist_label=(ndimage.histogram(labeled_array_pcp,mn,mx,mx,labels=labeled_array_pcp))\n",
    "            hist_pcp_sizes[k]+=np.histogram(hist_label,bins=sizes)[0]\n",
    "            \n",
    "            \n",
    "###           snippet to determine timestep with largest clusters ###\n",
    "#             if smax==0:\n",
    "#                 smax=hist_label[hist_label>0].max()\n",
    "#                 tmax=0\n",
    "            \n",
    "#             elif (hist_label[hist_label>0].max()>smax):\n",
    "#                 smax=hist_label[hist_label>0].max()\n",
    "#                 tmax=ti\n",
    "            \n",
    "            pcp_sizes[k]=np.append(pcp_sizes[k],hist_label[hist_label>0])\n",
    "            label_objs=find_objects(labeled_array_pcp)\n",
    "            pcp_cluster_pow=np.zeros(len(label_objs))\n",
    "            pcp_cluster_sz=np.zeros(len(label_objs))\n",
    "                        \n",
    "            ## Compute and bin by cluster power\n",
    "            ctr=0             \n",
    "            for j in np.arange(len(label_objs)):\n",
    "\n",
    "                sl=label_objs[j]\n",
    "                arrp_slice=arrp[ti,:][sl]\n",
    "                pcp_slice=prc[ti,:][sl]\n",
    "                label_slice=labeled_array_pcp[sl]\n",
    "                indj=np.where(label_slice==j+1)\n",
    "                pcp_cluster_pow[j]=pcp_slice[indj].sum()*precip_cluster_power_scale\n",
    "                pcp_cluster_sz[j]=pcp_slice[indj].size\n",
    "\n",
    "            if (pcp_cluster_pow[pcp_cluster_pow>0].shape!=hist_label[hist_label>0].shape):\n",
    "                print ('power, size:', pcp_cluster_pow[pcp_cluster_pow>0].shape,pcp_cluster_sz[pcp_cluster_sz>0].shape, \n",
    "                       hist_label[hist_label>0].shape)\n",
    "                exit()\n",
    "\n",
    "            pcp_power[k]=np.append(pcp_power[k],pcp_cluster_pow[pcp_cluster_pow>0])              \n",
    "            hist_pcp_clust_pow[k]+=np.histogram(pcp_cluster_pow,bins=pcp_clus_pow_bins)[0]\n",
    "            pcp_power[k]=pcp_power[k][1:]  ## neglect the first value, since it is zero\n",
    "            pcp_sizes[k]=pcp_sizes[k][1:]\n",
    "            \n",
    "            \n",
    "    return hist_pcp_clust_pow, hist_pcp_sizes, pcp_power, pcp_sizes \n",
    "\n",
    "\n"
   ]
  },
  {
   "cell_type": "markdown",
   "metadata": {},
   "source": [
    "We have a large number of files to work with. So to speed up the code, we will recruit multiple processors to work through the data. The jupyter machine has 160 processors, but we will recruit a fraction of this number to avoid clogging up the machine. To see how many processors are currently available, you can open a terminal and type `htop`.\n",
    "\n",
    "<p>\n",
    "We first define the number of desired processors that will work in parallel. Each processor will work with one subset of the precip. array at a time, which is the input to `perform_cluster_analysis`. The results from different processors are then pooled at the end. <br> <b> Note:</b> this step can be time consuming depending on number of files being processed.\n",
    "</p>"
   ]
  },
  {
   "cell_type": "code",
   "execution_count": 17,
   "metadata": {
    "scrolled": false
   },
   "outputs": [],
   "source": [
    "prc_values=prc.values ### load the precip. values into memory; this step can be slightly time-consuming depending on array size"
   ]
  },
  {
   "cell_type": "markdown",
   "metadata": {},
   "source": [
    "<a id='cell_multiprocess'></a>  "
   ]
  },
  {
   "cell_type": "code",
   "execution_count": 18,
   "metadata": {},
   "outputs": [],
   "source": [
    "%%capture output \n",
    "from multiprocessing import Pool  ### module for parallel programming\n",
    "import time as time_module ## module to time this cell\n",
    "nproc=50\n",
    "\n",
    "### first split the array into a list of sub-arrays\n",
    "prc_subarray=np.array_split(prc_values,nproc,axis=0)  ## split precip. array along time axis ###\n",
    "start_time=time_module.time()\n",
    "pool = Pool(processes=nproc)\n",
    "pooled_list = pool.map(perform_cluster_analysis_cmip6, prc_subarray) ### a list containing all the pooled results\n",
    "print('Took %.2f minutes'%((time_module.time()-start_time)/60))"
   ]
  },
  {
   "cell_type": "markdown",
   "metadata": {},
   "source": [
    "Organize the results from the cluster analysis, and save to file (optional)."
   ]
  },
  {
   "cell_type": "code",
   "execution_count": 19,
   "metadata": {},
   "outputs": [],
   "source": [
    "### create dictionaries to collect and store output ###\n",
    "### each dictionary has a key associated with the precip. threshold ###\n",
    "hist_pcp_sizes={}   \n",
    "hist_pcp_clust_pow={}\n",
    "pcp_sizes={}\n",
    "pcp_power={}\n",
    "\n",
    "## Create empty lists to store the cluster counts (hist) and the collection of actual cluster metrics\n",
    "for k in pthresh_list:\n",
    "    hist_pcp_sizes[k]=[]   \n",
    "    hist_pcp_clust_pow[k]=[]  \n",
    "    pcp_sizes[k]=[]  \n",
    "    pcp_power[k]=[]  \n",
    "\n",
    "### Stack the pooled output from above into these lists\n",
    "for i in range(len(pooled_list)):\n",
    "    cluster_list=(pooled_list[i])\n",
    "    for k in pthresh_list:\n",
    "        hist_pcp_clust_pow[k].append(cluster_list[0][k])\n",
    "        hist_pcp_sizes[k].append(cluster_list[1][k])\n",
    "        pcp_power[k].append(cluster_list[2][k])\n",
    "        pcp_sizes[k].append(cluster_list[3][k])\n",
    "\n",
    "### Convert the lists into arrays ###\n",
    "for k in pthresh_list:\n",
    "    hist_pcp_clust_pow[k]=np.asarray(hist_pcp_clust_pow[k]).sum(0)  ### sum the counts across all files\n",
    "    hist_pcp_sizes[k]=np.asarray(hist_pcp_sizes[k]).sum(0)  ### sum the counts across all files\n",
    "    pcp_power[k]=np.hstack(pcp_power[k]) ## stack all the power measurements\n",
    "    pcp_sizes[k]=np.hstack(pcp_sizes[k]) ## stack all the size measurements\n",
    "\n",
    "###\n",
    "SAVE=True\n",
    "if SAVE:\n",
    "    dir_save='./' ### change as per required destination, default is current working directory\n",
    "    data={}\n",
    "    data['hist_pcp_sizes']=hist_pcp_sizes\n",
    "    data['hist_pcp_clust_pow']=hist_pcp_clust_pow\n",
    "    data['pcp_sizes']=pcp_sizes\n",
    "    data['pcp_power']=pcp_power\n",
    "    data['sizes']=sizes\n",
    "    data['precip_cluster_power_scale']=precip_cluster_power_scale\n",
    "    data['pixels_to_area']=pixels_to_area\n",
    "    if forcing=='SSP':\n",
    "        save_file_name=dir_save+\"clusters_output_SSP585_%s\"%(model_list[model_index])+\"_\"+time_slice.start.strftime(\"%Y%m\")+\"_\"+time_slice.stop.strftime(\"%Y%m\")+\".out\"\n",
    "    elif forcing=='HIST':\n",
    "        save_file_name=dir_save+\"clusters_output_%s\"%(model_list[model_index])+\"_\"+time_slice.start.strftime(\"%Y%m\")+\"_\"+time_slice.stop.strftime(\"%Y%m\")+\".out\"\n",
    "    elif forcing=='obs':\n",
    "        save_file_name=dir_save+\"clusters_output_%s\"%('TRMM3B42')+\"_\"+time_slice.start.strftime(\"%Y%m\")+\"_\"+time_slice.stop.strftime(\"%Y%m\")+\".out\"\n",
    "\n",
    "\n",
    "        \n",
    "    with open(save_file_name, 'wb') as handle:\n",
    "        pickle.dump(data, handle, protocol=pickle.HIGHEST_PROTOCOL)"
   ]
  },
  {
   "cell_type": "markdown",
   "metadata": {},
   "source": [
    " <b> Note: </b> if the file has been saved above, you do not have to re-run the cell [with multiprocessing](#cell_multiprocess) or the cell that [organizes the data](#cell_oragnize_data) when you restart the kernel.\n"
   ]
  },
  {
   "cell_type": "markdown",
   "metadata": {},
   "source": [
    "Now open the saved file and create the cluster pdfs"
   ]
  },
  {
   "cell_type": "code",
   "execution_count": 20,
   "metadata": {},
   "outputs": [],
   "source": [
    "### If reading an already saved file\n",
    "READ=True\n",
    "if READ:\n",
    "    dir_save='./' ### change as per required destination, default is current working directory\n",
    "\n",
    "    if forcing=='SSP':\n",
    "        read_file_name=dir_save+\"clusters_output_SSP585_%s\"%(model_list[model_index])+\"_\"+time_slice.start.strftime(\"%Y%m\")+\"_\"+time_slice.stop.strftime(\"%Y%m\")+\".out\"\n",
    "    elif forcing=='HIST':\n",
    "        read_file_name=dir_save+\"clusters_output_%s\"%(model_list[model_index])+\"_\"+time_slice.start.strftime(\"%Y%m\")+\"_\"+time_slice.stop.strftime(\"%Y%m\")+\".out\"\n",
    "    elif forcing=='obs':\n",
    "        read_file_name=dir_save+\"clusters_output_%s\"%('TRMM3B42')+\"_\"+time_slice.start.strftime(\"%Y%m\")+\"_\"+time_slice.stop.strftime(\"%Y%m\")+\".out\"\n",
    "\n",
    "\n",
    "    with open(read_file_name, 'rb') as handle:\n",
    "        f = pickle.load(handle,encoding='bytes')\n",
    "    hist_pcp_clust_pow=f['hist_pcp_clust_pow']\n",
    "    hist_pcp_sizes=f['hist_pcp_sizes']\n",
    "    pcp_sizes=f['pcp_sizes']\n",
    "    pcp_power=f['pcp_power']\n",
    "    sizes=data['sizes']\n",
    "    precip_cluster_power_scale=data['precip_cluster_power_scale']\n",
    "    pixels_to_area=data['pixels_to_area']\n"
   ]
  },
  {
   "cell_type": "markdown",
   "metadata": {},
   "source": [
    "### 4. Plot the pdfs for different time periods. You can play around to see how the pdfs vary with time length and period. Also include information about the cutoff in the plots. "
   ]
  },
  {
   "cell_type": "markdown",
   "metadata": {},
   "source": [
    "In the plot below, we will present the following information:\n",
    "<ol>\n",
    "    <li> The cluster size and power pdfs on a log-log plot for the different rain thresholds. </li>\n",
    "    <li> A straight line fit over the power law range (set by user), and the slope for one rain threshold case </li>\n",
    "    <li> The moment ratio (second moment over first moment) for cluster size ($a_M$) and power ($c_M$). These quantiies can thought of as <b> proxies for where the exponential cutoff occur</b>.\n",
    "</ol>"
   ]
  },
  {
   "cell_type": "markdown",
   "metadata": {},
   "source": [
    "### Define the plotting functions ###"
   ]
  },
  {
   "cell_type": "code",
   "execution_count": 21,
   "metadata": {},
   "outputs": [],
   "source": [
    "def wilson_score(ns,n,alpha):\n",
    "    \n",
    "        '''\n",
    "        Here ns is the number of sucesses in a Bernoulli Trial, i.e., the number of samples in a given bin\n",
    "        n is the number of Bernoulli trials, i.e., the number of samples overall\n",
    "        alpha is the percent of confidence interval (e.g. 5%)\n",
    "        '''        \n",
    "        z=norm.ppf(alpha/2) ## get the probit of the confidence interval\n",
    "#         err_upper=(ns/n)+z*np.sqrt(ns*(n-ns))/(n*np.sqrt(n))\n",
    "#         err_lower=(ns/n-z)*np.sqrt(ns*(n-ns))/(n*np.sqrt(n))\n",
    "    \n",
    "        err_upper=(ns+0.5*z**2)/(n+z**2)+z/(n+z**2)*np.sqrt(ns*(n-ns)/n+z**2/4)\n",
    "        err_lower=(ns+0.5*z**2)/(n+z**2)-z/(n+z**2)*np.sqrt(ns*(n-ns)/n+z**2/4)\n",
    "\n",
    "        return err_lower, err_upper\n",
    "\n",
    "\n",
    "def plot_cluster_stats(ax, pthresh_list, plot_params, hist, \n",
    "                       xvalue, diff, cluster_property):\n",
    "    \n",
    "    \n",
    "    ### read plotting parameters ###\n",
    "    istrt,iend=plot_params['istrt'],plot_params['iend']\n",
    "    nthresh=plot_params['nthresh']\n",
    "    colors=plot_params['colors']\n",
    "    fit_limit,fit_operator=plot_params['fit_limit'],plot_params['fit_operator']\n",
    "    xm,xL=plot_params['xm'],plot_params['xL']\n",
    "    leg1_fontsize=plot_params['leg1_fontsize']\n",
    "    TITLE=plot_params['TITLE']\n",
    "    posx,posy=plot_params['posx'],plot_params['posy']\n",
    "    leg_loc=plot_params['leg_loc']\n",
    "    xlabel,ylabel=plot_params['xlabel'],plot_params['ylabel']\n",
    "    xlim,ylim=plot_params['xlim'],plot_params['ylim']\n",
    "    ytick_locator=plot_params['ytick_locator']\n",
    "    ticks_fontsize=plot_params['ticks_fontsize']\n",
    "    plot_type=plot_params['plot_type']\n",
    "    xlabel_fontsize,ylabel_fontsize,title_fontsize=plot_params['xlabel_fontsize'],plot_params['ylabel_fontsize'],plot_params['title_fontsize']\n",
    "    leg_fontsize,xlabel_fontsize,ylabel_fontsize,title_fontsize=plot_params['leg_fontsize'],plot_params['xlabel_fontsize'],plot_params['ylabel_fontsize'],plot_params['title_fontsize']\n",
    "\n",
    "    errorbar=plot_params['errorbar']\n",
    "    alpha=plot_params['confidence']\n",
    "\n",
    "    ln1={}\n",
    "    for j,k in enumerate(pthresh_list):\n",
    "        \n",
    "\n",
    "        if (k in pthresh_list):  ### use this if you want to plot a smaller subset of rain thresholds\n",
    "            \n",
    "\n",
    "            ### create pdfs out of cluster histogram of counts\n",
    "            pdf=hist[k]/(diff*hist[k].sum())\n",
    "            ### remove bins with less than nthresh counts ##\n",
    "            pdf[hist[k]<nthresh]=np.nan\n",
    "            \n",
    "            if errorbar:\n",
    "                error_lower,error_upper=wilson_score(hist[k],hist[k].sum(),alpha)\n",
    "                error=np.array((error_lower/diff,error_upper/diff)) ## create error bars\n",
    "                error[:,hist[k]<nthresh]=0\n",
    "            \n",
    "            ### plot the cluster pdf on specified plot type ##\n",
    "            if plot_type=='loglog':\n",
    "                if errorbar:\n",
    "                    offsets= abs(pdf-error)## create error bars\n",
    "                    ln1[j]=ax.errorbar(xvalue, pdf, yerr=offsets, fmt='*',c=colors[j],\n",
    "                                capsize=2.25)\n",
    "                else:\n",
    "                    ln1[j],=ax.loglog(xvalue,pdf,marker='*',c=colors[j],markersize=5)\n",
    "\n",
    "\n",
    "                    \n",
    "            elif plot_type=='logylinearx':\n",
    "                \n",
    "                if errorbar:\n",
    "                    offsets= abs(pdf-error)## create error bars\n",
    "                    ln1[j]=ax.errorbar(xvalue, pdf, yerr=offsets, fmt='*',c=colors[j],\n",
    "                                capsize=2.25)\n",
    "                else:\n",
    "                    ln1[j],=ax.semilogy(xvalue,pdf,marker='*',c=colors[j],markersize=5)\n",
    "\n",
    "\n",
    "\n",
    "            else:\n",
    "                ValueError('Enter valid values for plot_type: loglog or logylinearx')\n",
    "\n",
    "        ### The straight line fit to the power law/exponential range ###\n",
    "        ### select portions of the curve bounded by the power law/exponential range ###\n",
    "        if plot_type=='loglog':\n",
    "            arrx,arry=np.log10(xvalue),np.log10(pdf)\n",
    "        elif plot_type=='logylinearx':\n",
    "            arrx,arry=xvalue,np.log10(pdf)\n",
    "    \n",
    "\n",
    "        arrx_fin=arrx[np.logical_and(arrx>istrt[k],arrx<iend[k])]\n",
    "        arry_fin=arry[np.logical_and(arrx>istrt[k],arrx<iend[k])]\n",
    "\n",
    "\n",
    "        ### perform a linear regression over this selected portion ###\n",
    "        try:\n",
    "            ret=linregress(arrx_fin[np.isfinite(arry_fin)],\n",
    "                           arry_fin[np.isfinite(arry_fin)])\n",
    "\n",
    "            ### Use the slope and intercept from the linear regression to create the straight line ###\n",
    "            if plot_type=='loglog':\n",
    "                pdf_fit=((xvalue)**(ret[0]))*(10**(ret[1]))\n",
    "                ## Remove portions of the straight line that extend too far beyond the cutoff\n",
    "                pdf_fit[fit_operator(xvalue,fit_limit)]=np.nan \n",
    "\n",
    "            elif plot_type=='logylinearx':\n",
    "                pdf_fit=10**(xvalue*ret[0]+ret[1])\n",
    "\n",
    "                \n",
    "        except:\n",
    "            ret=[np.nan,np.nan]\n",
    "            \n",
    "        ### Now compute the moment ratio and print it in on plot ##\n",
    "        if (k in pthresh_list):\n",
    "            \n",
    "            sm=np.mean(cluster_property[k]**2)/np.mean(cluster_property[k])\n",
    "            if plot_type=='loglog':\n",
    "                ax.text(posx[j],posy[j],'$%s$=%.2e'%(xm,sm),transform=ax.transAxes,\n",
    "                    fontsize=leg1_fontsize,color=colors[j])\n",
    "\n",
    "            if plot_type=='logylinearx':\n",
    "                sL=-1./(ret[0]*np.log(10))\n",
    "                ax.text(posx[j],posy[j],'%.2e (%.2e)'%(sL,sm),\n",
    "                        transform=ax.transAxes,fontsize=leg1_fontsize,color=colors[j])\n",
    "\n",
    "                ax.semilogy(xvalue,pdf_fit,linestyle='--',c=colors[j])\n",
    "\n",
    "\n",
    "        if (j==len(pthresh_list)-1):\n",
    "\n",
    "            ### Set plot title and axis labels\n",
    "            ax.set_title(TITLE, fontsize=title_fontsize)\n",
    "            ax.set_xlabel(xlabel,fontsize=xlabel_fontsize)\n",
    "            ax.set_ylabel(ylabel,fontsize=ylabel_fontsize)\n",
    "            ax.set_xlim(xlim)\n",
    "            ax.set_ylim(ylim)\n",
    "            ax.yaxis.set_major_locator(plt.FixedLocator(ytick_locator))\n",
    "            ax.tick_params(which='both', labelsize=ticks_fontsize)\n",
    "            \n",
    "            if plot_type=='loglog':\n",
    "                ax.loglog(xvalue,pdf_fit,linestyle='--',c='black')\n",
    "                ax.text(posx[j]-0.25,posy[j],'$\\\\tau$=%.1f'%(-ret[0]),\n",
    "                    transform=ax.transAxes,fontsize=leg1_fontsize,color='black')\n",
    "                \n",
    "            elif plot_type=='logylinearx':\n",
    "                ax.ticklabel_format(style='sci', axis='x', scilimits=(0,0))\n",
    "\n",
    "            leg=ax.legend((ln1[0],ln1[1],ln1[2],ln1[3]), \\\n",
    "            ( \"%.2f\"%(pthresh_list[0]), \"%.2f\"%(pthresh_list[1]), \"%.2f\"%(pthresh_list[2]), \"%.2f\"%(pthresh_list[3]),\n",
    "            ),fontsize=leg_fontsize, loc=leg_loc,ncol=1 )\n",
    "            ## make legend box color black ##\n",
    "            frame=leg.get_frame()\n",
    "            frame.set_edgecolor('black')\n",
    "\n"
   ]
  },
  {
   "cell_type": "markdown",
   "metadata": {},
   "source": [
    "### Prepare the cluster size and power inputs to the plotting function ###\n",
    "\n"
   ]
  },
  {
   "cell_type": "code",
   "execution_count": 22,
   "metadata": {},
   "outputs": [],
   "source": [
    "xvalue=sz*pixels_to_area\n",
    "diff=np.diff(sizes)*pixels_to_area\n",
    "cluster_sizes=dict.fromkeys(pthresh_list)\n",
    "\n",
    "for key in pcp_sizes.keys():\n",
    "    cluster_sizes[key]=pcp_sizes[key]*pixels_to_area\n",
    "    \n",
    "pcp_clus_pow_bins=sizes*precip_cluster_power_scale*0.5\n",
    "pcp_clust_pow=(pcp_clus_pow_bins[:-1]+pcp_clus_pow_bins[1:])*0.5\n",
    "pcp_clust_pow_diff=np.diff(pcp_clus_pow_bins)"
   ]
  },
  {
   "cell_type": "markdown",
   "metadata": {},
   "source": [
    "### Set the parameters for the range over which we do power law/exponential fits ###"
   ]
  },
  {
   "cell_type": "code",
   "execution_count": 23,
   "metadata": {},
   "outputs": [],
   "source": [
    "### here is where we specify the start and end values for the power law/exponential fits ###\n",
    "### we have the option to enter four different ranges for the fits###\n",
    "### the multiple ranges don't matter for the power law, but will matter for the exponential fits ###\n",
    "istrt_sz=dict.fromkeys(pthresh_list)\n",
    "iend_sz=dict.fromkeys(pthresh_list)\n",
    "\n",
    "istrt_pow=dict.fromkeys(pthresh_list)\n",
    "iend_pow=dict.fromkeys(pthresh_list)\n",
    "\n",
    "### for the loglog plots, the power law range for size (10^3 to 10^5)\n",
    "### set a ballpark range for the power law, so the straight line fit is over that range\n",
    "for key in (istrt_sz.keys()):\n",
    "    istrt_sz[key],iend_sz[key]=3.0,5.0\n",
    "    istrt_pow[key],iend_pow[key]=3.0,5.5\n"
   ]
  },
  {
   "cell_type": "markdown",
   "metadata": {},
   "source": [
    "#### Set all other plotting parameters  ###"
   ]
  },
  {
   "cell_type": "code",
   "execution_count": 24,
   "metadata": {},
   "outputs": [],
   "source": [
    "plot_params={}\n",
    "\n",
    "plot_params['plot_type']='loglog'\n",
    "\n",
    "## Fitting parameters ###\n",
    "plot_params['nthresh']=10      ### threshold counts for bin to be valid\n",
    "plot_params['istrt']=istrt_sz  ### start of the fit regime\n",
    "plot_params['iend']=iend_sz    ### end of the fit regime\n",
    "\n",
    "### Limits and operator to decide the range over which the pdf is fit ##\n",
    "plot_params['fit_limit']=5e6   ## if extrapolating beyond the fit regime specify limit\n",
    "plot_params['fit_operator']=np.greater ## if extrapolating beyond the fit regime specify operator (greater or less)\n",
    "\n",
    "### specify limits \n",
    "## x and yaxis limits for cluster size\n",
    "\n",
    "plot_params['xlim']=[5e2,1e8]\n",
    "plot_params['ylim']=[1e-13,1e-1]\n",
    "\n",
    "### setting title here \n",
    "if forcing!='obs':\n",
    "    TITLE=model_list[model_index]\n",
    "else:\n",
    "    TITLE='TRMM3B42'\n",
    "    \n",
    "### specify fontsizes \n",
    "plot_params['title_fontsize']=15\n",
    "plot_params['xlabel_fontsize']=16.5\n",
    "plot_params['ylabel_fontsize']=16.5\n",
    "\n",
    "## threshold legend font size\n",
    "plot_params['leg_fontsize']=12.5\n",
    "\n",
    "## moment ratio * power law slope font size\n",
    "plot_params['leg1_fontsize']=13.5\n",
    "\n",
    "## ticklabel font size\n",
    "plot_params['ticks_fontsize']=14\n",
    "\n",
    "### Positions to place the moment ratio and slope information ##\n",
    "plot_params['posx']=[.65, .65, .65, 0.65, .35, .4, .4 ]\n",
    "plot_params['posy']=[.55, 0.65, .75, .85,.65, 0.725, .8, .875 ]\n",
    "\n",
    "### legend location ###\n",
    "plot_params['leg_loc']=(.025, .05)\n",
    "\n",
    "## colors for plotting ###\n",
    "### set four colors here for the different precip. thresholds ###\n",
    "plot_params['colors']=['black','blue','red','green']\n",
    "\n",
    "### tick locator for yaxis\n",
    "plot_params['ytick_locator']=[1e0, 1e-2, 1e-4, 1e-6, 1e-8, 1e-10, 1e-12]\n",
    "\n",
    "### Various labels\n",
    "plot_params['TITLE']=\"%s cluster size distribution\"%(TITLE)\n",
    "plot_params['xlabel']=\"Size ($\\mathrm{km^2}$)\" \n",
    "plot_params['ylabel']=\"Probability density\" \n",
    "plot_params['xm']=\"a_M\" ## moment ratio\n",
    "plot_params['xL']=\"a_L\" ## moment ratio\n",
    "\n",
    "### error bar information ##\n",
    "plot_params['errorbar']=True\n",
    "plot_params['confidence']=0.05 ## confidence interval"
   ]
  },
  {
   "cell_type": "markdown",
   "metadata": {},
   "source": [
    "### Plot the cluster statistics ###"
   ]
  },
  {
   "cell_type": "code",
   "execution_count": 25,
   "metadata": {
    "scrolled": false
   },
   "outputs": [
    {
     "data": {
      "image/png": "[encoded data removed]",
      "text/plain": [
       "<Figure size 792x288 with 2 Axes>"
      ]
     },
     "metadata": {
      "needs_background": "light"
     },
     "output_type": "display_data"
    }
   ],
   "source": [
    "### set the plot specs:\n",
    "### size\n",
    "fig=plt.figure(figsize=(11,4.))\n",
    "## grid: 1 row , 2 colum plot\n",
    "gs = gridspec.GridSpec(1, 2)\n",
    "## assign separate name for each axis\n",
    "ax1 = plt.subplot(gs[0, 0])\n",
    "ax2 = plt.subplot(gs[0, 1])\n",
    "\n",
    "### first plot cluster size\n",
    "\n",
    "plot_cluster_stats(ax1, pthresh_list, plot_params, hist_pcp_sizes, \n",
    "                       xvalue, diff, cluster_sizes)\n",
    "\n",
    "### before we plot cluster power, change a few plot parameters\n",
    "\n",
    "plot_params['istrt']=istrt_pow  ### start of the fit regime\n",
    "plot_params['iend']=iend_pow    ### end of the fit regime\n",
    "plot_params['fit_limit']=1e7    ## if extrapolating beyond the fit regime specify limit\n",
    "plot_params['ytick_locator']=[1e-2, 1e-4, 1e-6, 1e-8, 1e-10,1e-12]\n",
    "plot_params['xlim']=[1e2,2.5e8]\n",
    "plot_params['ylim']=[1e-14,1e-1]\n",
    "\n",
    "\n",
    "plot_params['TITLE']=\"%s cluster power distribution\"%(TITLE)\n",
    "plot_params['xlabel']=\"Power (GW)\" \n",
    "plot_params['ylabel']=\"\" \n",
    "plot_params['xm']=\"c_M\" ## moment ratio\n",
    "\n",
    "plot_cluster_stats(ax2, pthresh_list, plot_params, hist_pcp_clust_pow, \n",
    "                       pcp_clust_pow, pcp_clust_sz_diff, pcp_power)\n",
    "\n",
    "\n",
    "plt.tight_layout()\n",
    "plt.subplots_adjust(top=0.9)\n",
    "\n",
    "\n",
    "SAVE_FIG=False\n",
    "if SAVE_FIG:\n",
    "    dirp='./' ## current location, but change as needed\n",
    "    if forcing=='SSP':\n",
    "        save_fig_name=\"./plots/\"+\"clusters_pdfs_SSP585_%s\"%(model_list[model_index])+\"_\"+time_slice.start.strftime(\"%Y%m\")+\"_\"+time_slice.stop.strftime(\"%Y%m\")+\".pdf\"\n",
    "    elif forcing=='HIST':\n",
    "        save_fig_name=\"./plots/\"+\"clusters_pdfs_%s\"%(model_list[model_index])+\"_\"+time_slice.start.strftime(\"%Y%m\")+\"_\"+time_slice.stop.strftime(\"%Y%m\")+\".pdf\"\n",
    "    elif forcing=='obs':\n",
    "        save_fig_name=\"./plots/\"+\"clusters_pdfs_%s\"%('TRMM3B42')+\"_\"+time_slice.start.strftime(\"%Y%m\")+\"_\"+time_slice.stop.strftime(\"%Y%m\")+\".pdf\"\n",
    "\n",
    "\n",
    "    plt.savefig(save_fig_name,format='pdf',dpi=150,bbox_inches='tight')\n",
    "\n"
   ]
  },
  {
   "cell_type": "markdown",
   "metadata": {},
   "source": [
    "### Log-linear ###"
   ]
  },
  {
   "cell_type": "markdown",
   "metadata": {},
   "source": [
    "#### In the log-linear plot, the range over which we fit the exponential is different, so change the `istrt` and `iend` values "
   ]
  },
  {
   "cell_type": "code",
   "execution_count": 26,
   "metadata": {},
   "outputs": [],
   "source": [
    "### The x units are now linear, so must change these parameters ###\n",
    "## set a ballpark range for the exponential fit for size and power ###\n",
    "istrt_sz[0.25],iend_sz[0.25]=1e6,5.0e6 \n",
    "istrt_sz[0.5],iend_sz[0.5]=1e6,5.0e6 \n",
    "istrt_sz[0.75],iend_sz[0.75]=1e6,5.0e6 \n",
    "istrt_sz[1.0],iend_sz[1.0]=.5e6,5.0e6 \n",
    "\n",
    "istrt_pow[0.25],iend_pow[0.25]=2e6,6.0e6 \n",
    "istrt_pow[0.5],iend_pow[0.5]=1.8e6,5.5e6\n",
    "istrt_pow[0.75],iend_pow[0.75]=1.8e6,5.5e6 \n",
    "istrt_pow[1.0],iend_pow[1.0]=1.8e6,5.5e6 "
   ]
  },
  {
   "cell_type": "markdown",
   "metadata": {},
   "source": [
    "#### Modify other plot parameters ###"
   ]
  },
  {
   "cell_type": "code",
   "execution_count": 27,
   "metadata": {},
   "outputs": [],
   "source": [
    "# istrt_pow,iend_pow=0.125e7,1.2e7 \n",
    "plot_params['plot_type']='logylinearx'\n",
    "\n",
    "## Fitting parameters ###\n",
    "plot_params['nthresh']=10 ### threshold counts for bin to be valid\n",
    "plot_params['istrt']=istrt_sz  ### start of the fit regime\n",
    "plot_params['iend']=iend_sz    ### end of the fit regime\n",
    "# plot_params['fit_limit']=fit_limit    ## if extrapolating beyond the fit regime specify limit\n",
    "# plot_params['fit_operator']=fit_operator ## if extrapolating beyond the fit regime specify operator (greater or less)\n",
    "\n",
    "### specify limits \n",
    "plot_params['xlim']=[5e2,0.5e7] \n",
    "\n",
    "### Change legend location ##\n",
    "plot_params['leg_loc']=(.05, .575)\n",
    "### Change the location where the moment ratios are printed ##\n",
    "plot_params['posx']=[.5, .5, .5, 0.5, .35, .4, .4 ]\n",
    "\n",
    "### Various labels\n",
    "plot_params['TITLE']=\"%s cluster size distribution\"%(TITLE)\n",
    "plot_params['xlabel']=\"Size ($\\mathrm{km^2}$)\" \n",
    "plot_params['ylabel']=\"Probability density\" \n",
    "plot_params['xm']=\"a_M\" ## moment ratio\n",
    "plot_params['xL']=\"a_L\" ## moment ratio\n",
    "plot_params['leg1_fontsize']=12.5"
   ]
  },
  {
   "cell_type": "code",
   "execution_count": 28,
   "metadata": {
    "scrolled": false
   },
   "outputs": [
    {
     "data": {
      "image/png": "[encoded data removed]",
      "text/plain": [
       "<Figure size 792x288 with 2 Axes>"
      ]
     },
     "metadata": {
      "needs_background": "light"
     },
     "output_type": "display_data"
    }
   ],
   "source": [
    "### set the plot specs:\n",
    "### size\n",
    "fig=plt.figure(figsize=(11,4.))\n",
    "## grid: 1 row , 2 colum plot\n",
    "gs = gridspec.GridSpec(1, 2)\n",
    "## assign separate name for each axis\n",
    "ax1 = plt.subplot(gs[0, 0])\n",
    "ax2 = plt.subplot(gs[0, 1])\n",
    "\n",
    "plot_cluster_stats(ax1, pthresh_list, plot_params, hist_pcp_sizes, \n",
    "                       xvalue, diff, cluster_sizes)\n",
    "\n",
    "### change plot parameters for cluster power plot\n",
    "\n",
    "plot_params['ytick_locator']=[1e-2, 1e-4, 1e-6, 1e-8, 1e-10,1e-12]\n",
    "plot_params['xlim']=[1e2,0.75e7]\n",
    "plot_params['ylim']=[1e-14,1e-1]\n",
    "plot_params['istrt']=istrt_pow  ### start of the fit regime\n",
    "plot_params['iend']=iend_pow    ### end of the fit regime\n",
    "\n",
    "\n",
    "plot_params['TITLE']=\"%s cluster power distribution\"%(TITLE)\n",
    "plot_params['xlabel']=\"Power (GW)\" \n",
    "plot_params['ylabel']=\"\" \n",
    "plot_params['xm']=\"c_M\" ## moment ratio\n",
    "\n",
    "plot_cluster_stats(ax2, pthresh_list, plot_params, hist_pcp_clust_pow, \n",
    "                       pcp_clust_pow, pcp_clust_sz_diff, pcp_power)\n",
    "\n",
    "\n",
    "plt.tight_layout()\n",
    "plt.subplots_adjust(top=0.9)\n",
    "\n",
    "\n",
    "SAVE_FIG=False\n",
    "if SAVE_FIG:\n",
    "    dirp='./' ## current location, but change as needed\n",
    "    if forcing=='SSP':\n",
    "        save_fig_name=\"./plots/\"+\"loglinear_clusters_pdfs_SSP585_%s\"%(model_list[model_index])+\"_\"+time_slice.start.strftime(\"%Y%m\")+\"_\"+time_slice.stop.strftime(\"%Y%m\")+\".pdf\"\n",
    "    elif forcing=='HIST':\n",
    "        save_fig_name=\"./plots/\"+\"loglinear_clusters_pdfs_%s\"%(model_list[model_index])+\"_\"+time_slice.start.strftime(\"%Y%m\")+\"_\"+time_slice.stop.strftime(\"%Y%m\")+\".pdf\"\n",
    "    elif forcing=='obs':\n",
    "        save_fig_name=\"./plots/\"+\"loglinear_clusters_pdfs_%s\"%('TRMM3B42')+\"_\"+time_slice.start.strftime(\"%Y%m\")+\"_\"+time_slice.stop.strftime(\"%Y%m\")+\".pdf\"\n",
    "\n",
    "\n",
    "    plt.savefig(save_fig_name,format='pdf',dpi=150,bbox_inches='tight')\n",
    "\n",
    "\n"
   ]
  },
  {
   "cell_type": "code",
   "execution_count": null,
   "metadata": {},
   "outputs": [],
   "source": []
  }
 ],
 "metadata": {
  "kernelspec": {
   "display_name": "aos112",
   "language": "python",
   "name": "aos112"
  },
  "language_info": {
   "codemirror_mode": {
    "name": "ipython",
    "version": 3
   },
   "file_extension": ".py",
   "mimetype": "text/x-python",
   "name": "python",
   "nbconvert_exporter": "python",
   "pygments_lexer": "ipython3",
   "version": "3.8.5"
  }
 },
 "nbformat": 4,
 "nbformat_minor": 4
}
