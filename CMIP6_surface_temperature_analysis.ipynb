{
 "cells": [
  {
   "cell_type": "markdown",
   "metadata": {},
   "source": [
    "### Get surface temperature information for the models ###"
   ]
  },
  {
   "cell_type": "code",
   "execution_count": 5,
   "metadata": {},
   "outputs": [],
   "source": [
    "import numpy as np\n",
    "import matplotlib.pyplot as plt\n",
    "from netCDF4 import Dataset\n",
    "import matplotlib\n",
    "from matplotlib.ticker import MaxNLocator,FormatStrFormatter\n",
    "import pickle\n",
    "from glob import glob\n",
    "import sys  \n",
    "import matplotlib.gridspec as gridspec\n",
    "from scipy.stats import linregress\n",
    "from dateutil.relativedelta import relativedelta\n",
    "import itertools\n",
    "import pickle\n",
    "# from cartopy.util import add_cyclic_point\n",
    "\n",
    "\n",
    "from scipy.ndimage import label,find_objects\n",
    "import scipy.ndimage as ndimage\n",
    "from matplotlib.colors import LinearSegmentedColormap\n",
    "\n",
    "import datetime as dt\n",
    "# import cartopy.crs as ccrs\n",
    "import matplotlib.ticker as mticker\n",
    "# from cartopy.mpl.gridliner import LONGITUDE_FORMATTER, LATITUDE_FORMATTER\n",
    "import xarray as xr\n",
    "from scipy.stats import norm\n",
    "\n",
    "\n",
    "%matplotlib inline"
   ]
  },
  {
   "cell_type": "markdown",
   "metadata": {},
   "source": [
    "### Get names of all models you want to plot ###\n",
    "Creating two separate lists for historical and SSP runs.<br>\n"
   ]
  },
  {
   "cell_type": "markdown",
   "metadata": {},
   "source": [
    "Specify model name here. The code will attempt to extract both SSP and HIST versions.<br>\n",
    "Also we are only looking at the surface air temperature: `tas`, so make sure that it is available."
   ]
  },
  {
   "cell_type": "code",
   "execution_count": 24,
   "metadata": {},
   "outputs": [],
   "source": [
    "model_name={}\n",
    "model_name['HIST']='NESM3'\n",
    "model_name['SSP']='@NESM3'"
   ]
  },
  {
   "cell_type": "code",
   "execution_count": 31,
   "metadata": {
    "scrolled": false
   },
   "outputs": [
    {
     "name": "stdout",
     "output_type": "stream",
     "text": [
      "HIST\n",
      "['@BCC-CSM2-MR', '@FGOALS-f3-L', '@GISS-E2-1-G', 'ACCESS-CM2', 'ACCESS-ESM1-5', 'BCC-CSM2-MR', 'CMIP6-yxli.tar', 'auto_folder.ncl', 'wget_multi.ncl', 'CESM2', 'CNRM-CM6-1-HR', 'CNRM-CM6-1', 'FGOALS-g3', 'GFDL-CM4', 'IITM-ESM', 'KACE-1-0-G', 'MIROC-ES2L', 'MIROC6', 'MPI-ESM-1-2-HAM', 'MPI-ESM1-2-LR', 'MRI-ESM2-0', 'NESM3', 'NorESM2-LM', 'NorESM2-MM', 'MPI-ESM1-2-HR', 'CanESM5', 'SAM0-UNICON', '@IPSL-CM6A-LR', 'IPSL-CM6A-LR', 'GISS-E2-1-G']\n",
      "SSP\n",
      "['ACCESS-CM2', '20200713_redo_uncomplete_wget_multi.ncl', '20200817_restart_download_wget_multi.ncl', 'auto_folder.ncl', '@KACE-1-0-G', '@NESM3', 'sh_file_backup.tar', 'wget_multi.ncl', '@NorESM2-LM', '@NorESM2-MM', 'CNRM-CM6-1-HR', 'CNRM-CM6-1', 'FGOALS-g3', 'GFDL-CM4', 'IPSL-CM6A-LR', 'MIROC6', 'MRI-ESM2-0', 'BCC-CSM2-MR']\n"
     ]
    }
   ],
   "source": [
    "keys=['HIST','SSP']\n",
    "\n",
    "direc={key: None for key in keys}\n",
    "\n",
    "direc['HIST']='/neelin2020/CMIP6-HISTORICAL/'\n",
    "direc['SSP']='/neelin2020/CMIP6-SSP585/'\n",
    "\n",
    "ta_dir={'HIST':'tas','SSP':'tas'}  # change the directory name between ta and tas as required \n",
    "ta_ext={'HIST':'tas_3hr','SSP':'tas_3hr'}\n",
    "\n",
    "### Set temperature variable name ###\n",
    "TA_VAR={'HIST':'tas','SSP':'ta'}\n",
    "\n",
    "\n",
    "model_dir={key: [] for key in keys}\n",
    "model_list={key: [] for key in keys}\n",
    "\n",
    "model_index={key: None for key in keys}\n",
    "\n",
    "for key in keys:\n",
    "    print(key)\n",
    "    diri=direc[key]\n",
    "    list_temp=(glob(diri+'*'))\n",
    "\n",
    "    for name in list_temp:\n",
    "        temp_name=name.split('/')[-1]\n",
    "        model_list[key].append(temp_name)\n",
    "        model_dir[key].append(diri+temp_name+'/'+ta_dir[key]+'/'+ta_ext[key]+'*')\n",
    "\n",
    "\n",
    "#     model_list[key]=model_list[key][1:] ### neglect the first name, since it is not really a model\n",
    "#     model_dir[key]=model_dir[key][1:] ### neglect the first name, since it is not really a model\n",
    "    print(model_list[key])\n",
    "    model_index[key]=model_list[key].index(model_name[key]) ## find index of any model you want    \n",
    "\n",
    "    \n"
   ]
  },
  {
   "cell_type": "code",
   "execution_count": 42,
   "metadata": {},
   "outputs": [
    {
     "name": "stdout",
     "output_type": "stream",
     "text": [
      "tas_3hr_NESM3_ssp585_r1i1p1f1_gn_201501010130-205012312230.nc\r\n",
      "tas_3hr_NESM3_ssp585_r1i1p1f1_gn_205101010130-207512312230.nc\r\n",
      "tas_3hr_NESM3_ssp585_r1i1p1f1_gn_207601010130-210012312230.nc\r\n"
     ]
    }
   ],
   "source": [
    "model_dir[key][model_index[key]]\n",
    "!ls /neelin2020/CMIP6-SSP585/@NESM3/tas/"
   ]
  },
  {
   "cell_type": "code",
   "execution_count": null,
   "metadata": {},
   "outputs": [],
   "source": []
  },
  {
   "cell_type": "code",
   "execution_count": 34,
   "metadata": {},
   "outputs": [],
   "source": [
    "### fix datetime format ##\n",
    "def fix_datetime(ds):\n",
    "\n",
    "    try:\n",
    "        datetimeindex = ds.indexes['time'].to_datetimeindex()\n",
    "        ds['time'] = datetimeindex\n",
    "    except:\n",
    "        pass\n",
    "\n",
    "\n",
    "model_files={key:None for key in keys}\n",
    "ta_ds={key:None for key in keys}\n",
    "ta_global_mean={key:None for key in keys}\n",
    "\n",
    "\n",
    "for key in keys:\n",
    "    model_files[key]=(glob(model_dir[key][model_index[key]]))\n",
    "    ta_ds[key]=xr.open_mfdataset(model_files[key])\n",
    "    fix_datetime(ta_ds[key])\n",
    "    ta_ds[key].coords['lon'] = (ta_ds[key].coords['lon'] + 180) % 360  - 180\n",
    "    ta_ds[key] = ta_ds[key].sortby(ta_ds[key].lon)\n",
    "\n"
   ]
  },
  {
   "cell_type": "code",
   "execution_count": 44,
   "metadata": {},
   "outputs": [
    {
     "data": {
      "text/plain": [
       "'/neelin2020/CMIP6-SSP585/@NESM3/tas/tas_3hr*'"
      ]
     },
     "execution_count": 44,
     "metadata": {},
     "output_type": "execute_result"
    }
   ],
   "source": [
    "model_dir[key][model_index[key]]"
   ]
  },
  {
   "cell_type": "markdown",
   "metadata": {},
   "source": [
    "### Examine the data time range use it set time bounds for extraction##\n",
    "The cell below gives starting and ending year and month"
   ]
  },
  {
   "cell_type": "code",
   "execution_count": 35,
   "metadata": {},
   "outputs": [
    {
     "name": "stdout",
     "output_type": "stream",
     "text": [
      "1979 1\n",
      "2014 12\n",
      "------------------\n",
      "2015 1\n",
      "2100 12\n",
      "------------------\n"
     ]
    }
   ],
   "source": [
    "for key in keys:\n",
    "    print(ta_ds[key].time[0].dt.year.values,ta_ds[key].time[0].dt.month.values)\n",
    "    print(ta_ds[key].time[-1].dt.year.values,ta_ds[key].time[-1].dt.month.values)\n",
    "    print('------------------')"
   ]
  },
  {
   "cell_type": "markdown",
   "metadata": {},
   "source": [
    "Make sure to match the temperature time range <b>exactly</b> to the precip. cluster stats range"
   ]
  },
  {
   "cell_type": "code",
   "execution_count": 36,
   "metadata": {},
   "outputs": [
    {
     "name": "stdout",
     "output_type": "stream",
     "text": [
      "HIST\n",
      "SSP\n"
     ]
    }
   ],
   "source": [
    "strt_date={key:None for key in keys}\n",
    "end_date={key:None for key in keys}\n",
    "\n",
    "## Specify start and end dates to extract from for SSP\n",
    "strt_date['SSP']=dt.datetime(2091,1,1)\n",
    "end_date['SSP']=dt.datetime(2100,12,31)\n",
    "\n",
    "## and HIST\n",
    "strt_date['HIST']=dt.datetime(2005,1,1)\n",
    "end_date['HIST']=dt.datetime(2014,12,31)\n",
    "\n",
    "for key in keys:\n",
    "    \n",
    "    print(key)\n",
    "    time_slice=slice(strt_date[key],end_date[key])\n",
    "\n",
    "    ## Specify latitudinal bounds to extract\n",
    "    lat_slice=slice(-30,30)\n",
    "    \n",
    "    ta_ds_slice=ta_ds[key].sel(time=time_slice,lat=lat_slice) ## only extract specified timeslice\n",
    "    ta_global_mean[key]=ta_ds_slice.mean(dim=('time','lat','lon')).compute()\n",
    "    \n",
    "    lon=ta_ds_slice.lon\n",
    "    lat=ta_ds_slice.lat\n",
    "\n",
    "# dates=ta_ds.time.dt.strftime('%Y-%M-%d %H')"
   ]
  },
  {
   "cell_type": "markdown",
   "metadata": {},
   "source": [
    "Create timestamps which will act as co-ordinates for the mean temperature"
   ]
  },
  {
   "cell_type": "code",
   "execution_count": 37,
   "metadata": {},
   "outputs": [],
   "source": [
    "time_stamp={key:None for key in keys}\n",
    "for key in keys:\n",
    "    time_stamp[key]=\"%s_%s\"%(strt_date[key].strftime(\"%Y%m\"),end_date[key].strftime(\"%Y%m\"))"
   ]
  },
  {
   "cell_type": "markdown",
   "metadata": {},
   "source": [
    "### Create and store the file as a netcdf ###"
   ]
  },
  {
   "cell_type": "markdown",
   "metadata": {},
   "source": [
    " Create file information<br>\n",
    " We will store the information as a netcdf "
   ]
  },
  {
   "cell_type": "code",
   "execution_count": 38,
   "metadata": {},
   "outputs": [],
   "source": [
    "ta_array=xr.DataArray(\n",
    "             data=np.array((ta_global_mean['HIST'].tas.values,ta_global_mean['SSP'].tas.values)),\n",
    "             dims=[\"time\"],\n",
    "             coords=dict(time=['HIST: %s'%(time_stamp['HIST']),'SSP: %s'%(time_stamp['SSP'])]),\n",
    "             attrs=dict(description=\"Average Surface Air temperature.\",\n",
    "             units=\"K\"),)"
   ]
  },
  {
   "cell_type": "markdown",
   "metadata": {},
   "source": [
    "### Set file name including directory ###"
   ]
  },
  {
   "cell_type": "code",
   "execution_count": 6,
   "metadata": {},
   "outputs": [
    {
     "ename": "NameError",
     "evalue": "name 'model_name' is not defined",
     "output_type": "error",
     "traceback": [
      "\u001b[0;31m---------------------------------------------------------------------------\u001b[0m",
      "\u001b[0;31mNameError\u001b[0m                                 Traceback (most recent call last)",
      "\u001b[0;32m<ipython-input-6-c69df5e8bf31>\u001b[0m in \u001b[0;36m<module>\u001b[0;34m\u001b[0m\n\u001b[1;32m      1\u001b[0m \u001b[0mdname\u001b[0m\u001b[0;34m=\u001b[0m\u001b[0;34m'./files/'\u001b[0m\u001b[0;34m\u001b[0m\u001b[0;34m\u001b[0m\u001b[0m\n\u001b[0;32m----> 2\u001b[0;31m fname='%s_tas_ave_%s-%s_%s-%s.nc'%(model_name['HIST'],strt_date['HIST'].strftime(\"%Y\"),end_date['HIST'].strftime(\"%Y\"),\n\u001b[0m\u001b[1;32m      3\u001b[0m                                   strt_date['SSP'].strftime(\"%Y\"),end_date['SSP'].strftime(\"%Y\"))\n\u001b[1;32m      4\u001b[0m \u001b[0mta_array\u001b[0m\u001b[0;34m.\u001b[0m\u001b[0mto_netcdf\u001b[0m\u001b[0;34m(\u001b[0m\u001b[0mdname\u001b[0m\u001b[0;34m+\u001b[0m\u001b[0mfname\u001b[0m\u001b[0;34m)\u001b[0m\u001b[0;34m\u001b[0m\u001b[0;34m\u001b[0m\u001b[0m\n",
      "\u001b[0;31mNameError\u001b[0m: name 'model_name' is not defined"
     ]
    }
   ],
   "source": [
    "dname='./files/'\n",
    "fname='%s_tas_ave_%s-%s_%s-%s.nc'%(model_name['HIST'],strt_date['HIST'].strftime(\"%Y\"),end_date['HIST'].strftime(\"%Y\"),\n",
    "                                  strt_date['SSP'].strftime(\"%Y\"),end_date['SSP'].strftime(\"%Y\"))\n",
    "ta_array.to_netcdf(dname+fname)"
   ]
  },
  {
   "cell_type": "markdown",
   "metadata": {},
   "source": [
    "### Reading temperature info from the netcdf files ###"
   ]
  },
  {
   "cell_type": "code",
   "execution_count": 60,
   "metadata": {},
   "outputs": [
    {
     "data": {
      "text/html": [
       "<div><svg style=\"position: absolute; width: 0; height: 0; overflow: hidden\">\n",
       "<defs>\n",
       "<symbol id=\"icon-database\" viewBox=\"0 0 32 32\">\n",
       "<path d=\"M16 0c-8.837 0-16 2.239-16 5v4c0 2.761 7.163 5 16 5s16-2.239 16-5v-4c0-2.761-7.163-5-16-5z\"></path>\n",
       "<path d=\"M16 17c-8.837 0-16-2.239-16-5v6c0 2.761 7.163 5 16 5s16-2.239 16-5v-6c0 2.761-7.163 5-16 5z\"></path>\n",
       "<path d=\"M16 26c-8.837 0-16-2.239-16-5v6c0 2.761 7.163 5 16 5s16-2.239 16-5v-6c0 2.761-7.163 5-16 5z\"></path>\n",
       "</symbol>\n",
       "<symbol id=\"icon-file-text2\" viewBox=\"0 0 32 32\">\n",
       "<path d=\"M28.681 7.159c-0.694-0.947-1.662-2.053-2.724-3.116s-2.169-2.030-3.116-2.724c-1.612-1.182-2.393-1.319-2.841-1.319h-15.5c-1.378 0-2.5 1.121-2.5 2.5v27c0 1.378 1.122 2.5 2.5 2.5h23c1.378 0 2.5-1.122 2.5-2.5v-19.5c0-0.448-0.137-1.23-1.319-2.841zM24.543 5.457c0.959 0.959 1.712 1.825 2.268 2.543h-4.811v-4.811c0.718 0.556 1.584 1.309 2.543 2.268zM28 29.5c0 0.271-0.229 0.5-0.5 0.5h-23c-0.271 0-0.5-0.229-0.5-0.5v-27c0-0.271 0.229-0.5 0.5-0.5 0 0 15.499-0 15.5 0v7c0 0.552 0.448 1 1 1h7v19.5z\"></path>\n",
       "<path d=\"M23 26h-14c-0.552 0-1-0.448-1-1s0.448-1 1-1h14c0.552 0 1 0.448 1 1s-0.448 1-1 1z\"></path>\n",
       "<path d=\"M23 22h-14c-0.552 0-1-0.448-1-1s0.448-1 1-1h14c0.552 0 1 0.448 1 1s-0.448 1-1 1z\"></path>\n",
       "<path d=\"M23 18h-14c-0.552 0-1-0.448-1-1s0.448-1 1-1h14c0.552 0 1 0.448 1 1s-0.448 1-1 1z\"></path>\n",
       "</symbol>\n",
       "</defs>\n",
       "</svg>\n",
       "<style>/* CSS stylesheet for displaying xarray objects in jupyterlab.\n",
       " *\n",
       " */\n",
       "\n",
       ":root {\n",
       "  --xr-font-color0: var(--jp-content-font-color0, rgba(0, 0, 0, 1));\n",
       "  --xr-font-color2: var(--jp-content-font-color2, rgba(0, 0, 0, 0.54));\n",
       "  --xr-font-color3: var(--jp-content-font-color3, rgba(0, 0, 0, 0.38));\n",
       "  --xr-border-color: var(--jp-border-color2, #e0e0e0);\n",
       "  --xr-disabled-color: var(--jp-layout-color3, #bdbdbd);\n",
       "  --xr-background-color: var(--jp-layout-color0, white);\n",
       "  --xr-background-color-row-even: var(--jp-layout-color1, white);\n",
       "  --xr-background-color-row-odd: var(--jp-layout-color2, #eeeeee);\n",
       "}\n",
       "\n",
       "html[theme=dark],\n",
       "body.vscode-dark {\n",
       "  --xr-font-color0: rgba(255, 255, 255, 1);\n",
       "  --xr-font-color2: rgba(255, 255, 255, 0.54);\n",
       "  --xr-font-color3: rgba(255, 255, 255, 0.38);\n",
       "  --xr-border-color: #1F1F1F;\n",
       "  --xr-disabled-color: #515151;\n",
       "  --xr-background-color: #111111;\n",
       "  --xr-background-color-row-even: #111111;\n",
       "  --xr-background-color-row-odd: #313131;\n",
       "}\n",
       "\n",
       ".xr-wrap {\n",
       "  display: block;\n",
       "  min-width: 300px;\n",
       "  max-width: 700px;\n",
       "}\n",
       "\n",
       ".xr-text-repr-fallback {\n",
       "  /* fallback to plain text repr when CSS is not injected (untrusted notebook) */\n",
       "  display: none;\n",
       "}\n",
       "\n",
       ".xr-header {\n",
       "  padding-top: 6px;\n",
       "  padding-bottom: 6px;\n",
       "  margin-bottom: 4px;\n",
       "  border-bottom: solid 1px var(--xr-border-color);\n",
       "}\n",
       "\n",
       ".xr-header > div,\n",
       ".xr-header > ul {\n",
       "  display: inline;\n",
       "  margin-top: 0;\n",
       "  margin-bottom: 0;\n",
       "}\n",
       "\n",
       ".xr-obj-type,\n",
       ".xr-array-name {\n",
       "  margin-left: 2px;\n",
       "  margin-right: 10px;\n",
       "}\n",
       "\n",
       ".xr-obj-type {\n",
       "  color: var(--xr-font-color2);\n",
       "}\n",
       "\n",
       ".xr-sections {\n",
       "  padding-left: 0 !important;\n",
       "  display: grid;\n",
       "  grid-template-columns: 150px auto auto 1fr 20px 20px;\n",
       "}\n",
       "\n",
       ".xr-section-item {\n",
       "  display: contents;\n",
       "}\n",
       "\n",
       ".xr-section-item input {\n",
       "  display: none;\n",
       "}\n",
       "\n",
       ".xr-section-item input + label {\n",
       "  color: var(--xr-disabled-color);\n",
       "}\n",
       "\n",
       ".xr-section-item input:enabled + label {\n",
       "  cursor: pointer;\n",
       "  color: var(--xr-font-color2);\n",
       "}\n",
       "\n",
       ".xr-section-item input:enabled + label:hover {\n",
       "  color: var(--xr-font-color0);\n",
       "}\n",
       "\n",
       ".xr-section-summary {\n",
       "  grid-column: 1;\n",
       "  color: var(--xr-font-color2);\n",
       "  font-weight: 500;\n",
       "}\n",
       "\n",
       ".xr-section-summary > span {\n",
       "  display: inline-block;\n",
       "  padding-left: 0.5em;\n",
       "}\n",
       "\n",
       ".xr-section-summary-in:disabled + label {\n",
       "  color: var(--xr-font-color2);\n",
       "}\n",
       "\n",
       ".xr-section-summary-in + label:before {\n",
       "  display: inline-block;\n",
       "  content: '►';\n",
       "  font-size: 11px;\n",
       "  width: 15px;\n",
       "  text-align: center;\n",
       "}\n",
       "\n",
       ".xr-section-summary-in:disabled + label:before {\n",
       "  color: var(--xr-disabled-color);\n",
       "}\n",
       "\n",
       ".xr-section-summary-in:checked + label:before {\n",
       "  content: '▼';\n",
       "}\n",
       "\n",
       ".xr-section-summary-in:checked + label > span {\n",
       "  display: none;\n",
       "}\n",
       "\n",
       ".xr-section-summary,\n",
       ".xr-section-inline-details {\n",
       "  padding-top: 4px;\n",
       "  padding-bottom: 4px;\n",
       "}\n",
       "\n",
       ".xr-section-inline-details {\n",
       "  grid-column: 2 / -1;\n",
       "}\n",
       "\n",
       ".xr-section-details {\n",
       "  display: none;\n",
       "  grid-column: 1 / -1;\n",
       "  margin-bottom: 5px;\n",
       "}\n",
       "\n",
       ".xr-section-summary-in:checked ~ .xr-section-details {\n",
       "  display: contents;\n",
       "}\n",
       "\n",
       ".xr-array-wrap {\n",
       "  grid-column: 1 / -1;\n",
       "  display: grid;\n",
       "  grid-template-columns: 20px auto;\n",
       "}\n",
       "\n",
       ".xr-array-wrap > label {\n",
       "  grid-column: 1;\n",
       "  vertical-align: top;\n",
       "}\n",
       "\n",
       ".xr-preview {\n",
       "  color: var(--xr-font-color3);\n",
       "}\n",
       "\n",
       ".xr-array-preview,\n",
       ".xr-array-data {\n",
       "  padding: 0 5px !important;\n",
       "  grid-column: 2;\n",
       "}\n",
       "\n",
       ".xr-array-data,\n",
       ".xr-array-in:checked ~ .xr-array-preview {\n",
       "  display: none;\n",
       "}\n",
       "\n",
       ".xr-array-in:checked ~ .xr-array-data,\n",
       ".xr-array-preview {\n",
       "  display: inline-block;\n",
       "}\n",
       "\n",
       ".xr-dim-list {\n",
       "  display: inline-block !important;\n",
       "  list-style: none;\n",
       "  padding: 0 !important;\n",
       "  margin: 0;\n",
       "}\n",
       "\n",
       ".xr-dim-list li {\n",
       "  display: inline-block;\n",
       "  padding: 0;\n",
       "  margin: 0;\n",
       "}\n",
       "\n",
       ".xr-dim-list:before {\n",
       "  content: '(';\n",
       "}\n",
       "\n",
       ".xr-dim-list:after {\n",
       "  content: ')';\n",
       "}\n",
       "\n",
       ".xr-dim-list li:not(:last-child):after {\n",
       "  content: ',';\n",
       "  padding-right: 5px;\n",
       "}\n",
       "\n",
       ".xr-has-index {\n",
       "  font-weight: bold;\n",
       "}\n",
       "\n",
       ".xr-var-list,\n",
       ".xr-var-item {\n",
       "  display: contents;\n",
       "}\n",
       "\n",
       ".xr-var-item > div,\n",
       ".xr-var-item label,\n",
       ".xr-var-item > .xr-var-name span {\n",
       "  background-color: var(--xr-background-color-row-even);\n",
       "  margin-bottom: 0;\n",
       "}\n",
       "\n",
       ".xr-var-item > .xr-var-name:hover span {\n",
       "  padding-right: 5px;\n",
       "}\n",
       "\n",
       ".xr-var-list > li:nth-child(odd) > div,\n",
       ".xr-var-list > li:nth-child(odd) > label,\n",
       ".xr-var-list > li:nth-child(odd) > .xr-var-name span {\n",
       "  background-color: var(--xr-background-color-row-odd);\n",
       "}\n",
       "\n",
       ".xr-var-name {\n",
       "  grid-column: 1;\n",
       "}\n",
       "\n",
       ".xr-var-dims {\n",
       "  grid-column: 2;\n",
       "}\n",
       "\n",
       ".xr-var-dtype {\n",
       "  grid-column: 3;\n",
       "  text-align: right;\n",
       "  color: var(--xr-font-color2);\n",
       "}\n",
       "\n",
       ".xr-var-preview {\n",
       "  grid-column: 4;\n",
       "}\n",
       "\n",
       ".xr-var-name,\n",
       ".xr-var-dims,\n",
       ".xr-var-dtype,\n",
       ".xr-preview,\n",
       ".xr-attrs dt {\n",
       "  white-space: nowrap;\n",
       "  overflow: hidden;\n",
       "  text-overflow: ellipsis;\n",
       "  padding-right: 10px;\n",
       "}\n",
       "\n",
       ".xr-var-name:hover,\n",
       ".xr-var-dims:hover,\n",
       ".xr-var-dtype:hover,\n",
       ".xr-attrs dt:hover {\n",
       "  overflow: visible;\n",
       "  width: auto;\n",
       "  z-index: 1;\n",
       "}\n",
       "\n",
       ".xr-var-attrs,\n",
       ".xr-var-data {\n",
       "  display: none;\n",
       "  background-color: var(--xr-background-color) !important;\n",
       "  padding-bottom: 5px !important;\n",
       "}\n",
       "\n",
       ".xr-var-attrs-in:checked ~ .xr-var-attrs,\n",
       ".xr-var-data-in:checked ~ .xr-var-data {\n",
       "  display: block;\n",
       "}\n",
       "\n",
       ".xr-var-data > table {\n",
       "  float: right;\n",
       "}\n",
       "\n",
       ".xr-var-name span,\n",
       ".xr-var-data,\n",
       ".xr-attrs {\n",
       "  padding-left: 25px !important;\n",
       "}\n",
       "\n",
       ".xr-attrs,\n",
       ".xr-var-attrs,\n",
       ".xr-var-data {\n",
       "  grid-column: 1 / -1;\n",
       "}\n",
       "\n",
       "dl.xr-attrs {\n",
       "  padding: 0;\n",
       "  margin: 0;\n",
       "  display: grid;\n",
       "  grid-template-columns: 125px auto;\n",
       "}\n",
       "\n",
       ".xr-attrs dt,\n",
       ".xr-attrs dd {\n",
       "  padding: 0;\n",
       "  margin: 0;\n",
       "  float: left;\n",
       "  padding-right: 10px;\n",
       "  width: auto;\n",
       "}\n",
       "\n",
       ".xr-attrs dt {\n",
       "  font-weight: normal;\n",
       "  grid-column: 1;\n",
       "}\n",
       "\n",
       ".xr-attrs dt:hover span {\n",
       "  display: inline-block;\n",
       "  background: var(--xr-background-color);\n",
       "  padding-right: 10px;\n",
       "}\n",
       "\n",
       ".xr-attrs dd {\n",
       "  grid-column: 2;\n",
       "  white-space: pre-wrap;\n",
       "  word-break: break-all;\n",
       "}\n",
       "\n",
       ".xr-icon-database,\n",
       ".xr-icon-file-text2 {\n",
       "  display: inline-block;\n",
       "  vertical-align: middle;\n",
       "  width: 1em;\n",
       "  height: 1.5em !important;\n",
       "  stroke-width: 0;\n",
       "  stroke: currentColor;\n",
       "  fill: currentColor;\n",
       "}\n",
       "</style><pre class='xr-text-repr-fallback'>&lt;xarray.DataArray &#x27;time&#x27; (time: 2)&gt;\n",
       "array([&#x27;HIST: 200501_201412&#x27;, &#x27;SSP: 209101_210012&#x27;], dtype=object)\n",
       "Coordinates:\n",
       "  * time     (time) object &#x27;HIST: 200501_201412&#x27; &#x27;SSP: 209101_210012&#x27;</pre><div class='xr-wrap' hidden><div class='xr-header'><div class='xr-obj-type'>xarray.DataArray</div><div class='xr-array-name'>'time'</div><ul class='xr-dim-list'><li><span class='xr-has-index'>time</span>: 2</li></ul></div><ul class='xr-sections'><li class='xr-section-item'><div class='xr-array-wrap'><input id='section-c2fc3f97-a5e4-4895-b429-65909b88cb4e' class='xr-array-in' type='checkbox' checked><label for='section-c2fc3f97-a5e4-4895-b429-65909b88cb4e' title='Show/hide data repr'><svg class='icon xr-icon-database'><use xlink:href='#icon-database'></use></svg></label><div class='xr-array-preview xr-preview'><span>&#x27;HIST: 200501_201412&#x27; &#x27;SSP: 209101_210012&#x27;</span></div><div class='xr-array-data'><pre>array([&#x27;HIST: 200501_201412&#x27;, &#x27;SSP: 209101_210012&#x27;], dtype=object)</pre></div></div></li><li class='xr-section-item'><input id='section-4671efd1-4f81-47a4-a1be-128fdad271e2' class='xr-section-summary-in' type='checkbox'  checked><label for='section-4671efd1-4f81-47a4-a1be-128fdad271e2' class='xr-section-summary' >Coordinates: <span>(1)</span></label><div class='xr-section-inline-details'></div><div class='xr-section-details'><ul class='xr-var-list'><li class='xr-var-item'><div class='xr-var-name'><span class='xr-has-index'>time</span></div><div class='xr-var-dims'>(time)</div><div class='xr-var-dtype'>object</div><div class='xr-var-preview xr-preview'>&#x27;HIST: 200501_201412&#x27; &#x27;SSP: 2091...</div><input id='attrs-90b185cd-ffa9-4f8f-9f8d-9337977197c2' class='xr-var-attrs-in' type='checkbox' disabled><label for='attrs-90b185cd-ffa9-4f8f-9f8d-9337977197c2' title='Show/Hide attributes'><svg class='icon xr-icon-file-text2'><use xlink:href='#icon-file-text2'></use></svg></label><input id='data-4f0391b5-07db-439a-9ba2-f14256ad30b2' class='xr-var-data-in' type='checkbox'><label for='data-4f0391b5-07db-439a-9ba2-f14256ad30b2' title='Show/Hide data repr'><svg class='icon xr-icon-database'><use xlink:href='#icon-database'></use></svg></label><div class='xr-var-attrs'><dl class='xr-attrs'></dl></div><div class='xr-var-data'><pre>array([&#x27;HIST: 200501_201412&#x27;, &#x27;SSP: 209101_210012&#x27;], dtype=object)</pre></div></li></ul></div></li><li class='xr-section-item'><input id='section-ad3f8840-02c1-468f-b127-261699144b20' class='xr-section-summary-in' type='checkbox' disabled ><label for='section-ad3f8840-02c1-468f-b127-261699144b20' class='xr-section-summary'  title='Expand/collapse section'>Attributes: <span>(0)</span></label><div class='xr-section-inline-details'></div><div class='xr-section-details'><dl class='xr-attrs'></dl></div></li></ul></div></div>"
      ],
      "text/plain": [
       "<xarray.DataArray 'time' (time: 2)>\n",
       "array(['HIST: 200501_201412', 'SSP: 209101_210012'], dtype=object)\n",
       "Coordinates:\n",
       "  * time     (time) object 'HIST: 200501_201412' 'SSP: 209101_210012'"
      ]
     },
     "execution_count": 60,
     "metadata": {},
     "output_type": "execute_result"
    }
   ],
   "source": [
    "### enter full path of the netcdf file you want to read\n",
    "file_name='./files/CNRM-CM6-1_tas_ave_2005-2014_2091-2100.nc'\n",
    "ds=xr.open_dataarray(file_name)\n",
    "ds.time"
   ]
  },
  {
   "cell_type": "markdown",
   "metadata": {},
   "source": [
    "### Method one to read the temperatures ###"
   ]
  },
  {
   "cell_type": "markdown",
   "metadata": {},
   "source": [
    "Note the coordinate names `HIST: 200501_201412` and `SSP: 209101_210012`. Use these as indices"
   ]
  },
  {
   "cell_type": "code",
   "execution_count": 64,
   "metadata": {},
   "outputs": [
    {
     "name": "stdout",
     "output_type": "stream",
     "text": [
      "297.6228 301.5965\n"
     ]
    }
   ],
   "source": [
    "tas_hist=ds.sel(time='HIST: 200501_201412').values\n",
    "tas_ssp=ds.sel(time='SSP: 209101_210012').values\n",
    "print(tas_hist,tas_ssp)"
   ]
  },
  {
   "cell_type": "markdown",
   "metadata": {},
   "source": [
    "### Method two to read the temperatures ##"
   ]
  },
  {
   "cell_type": "markdown",
   "metadata": {},
   "source": [
    "Alternatively use the knowledge that the first value is HIST and the second value is SSP"
   ]
  },
  {
   "cell_type": "code",
   "execution_count": 62,
   "metadata": {},
   "outputs": [
    {
     "name": "stdout",
     "output_type": "stream",
     "text": [
      "297.6228 301.5965\n"
     ]
    }
   ],
   "source": [
    "tas_hist,tas_ssp=ds.values[0],ds.values[1]\n",
    "print(tas_hist, tas_ssp)"
   ]
  }
 ],
 "metadata": {
  "kernelspec": {
   "display_name": "aos112",
   "language": "python",
   "name": "aos112"
  },
  "language_info": {
   "codemirror_mode": {
    "name": "ipython",
    "version": 3
   },
   "file_extension": ".py",
   "mimetype": "text/x-python",
   "name": "python",
   "nbconvert_exporter": "python",
   "pygments_lexer": "ipython3",
   "version": "3.8.5"
  }
 },
 "nbformat": 4,
 "nbformat_minor": 2
}
