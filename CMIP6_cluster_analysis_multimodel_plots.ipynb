{
 "cells": [
  {
   "cell_type": "markdown",
   "metadata": {},
   "source": [
    "The goal here is to modify the notebook that calculates and the cluster pdfs from multiple outputs.<br>\n",
    "Ensure that all the out files are already present"
   ]
  },
  {
   "cell_type": "markdown",
   "metadata": {},
   "source": [
    "Import modules\n"
   ]
  },
  {
   "cell_type": "code",
   "execution_count": 78,
   "metadata": {},
   "outputs": [],
   "source": [
    "import numpy as np\n",
    "import matplotlib.pyplot as plt\n",
    "from netCDF4 import Dataset\n",
    "import matplotlib\n",
    "from matplotlib.ticker import MaxNLocator,FormatStrFormatter\n",
    "import pickle\n",
    "from glob import glob\n",
    "import sys  \n",
    "import matplotlib.gridspec as gridspec\n",
    "from scipy.stats import linregress\n",
    "from dateutil.relativedelta import relativedelta\n",
    "import itertools\n",
    "import pickle\n",
    "from cartopy.util import add_cyclic_point\n",
    "\n",
    "\n",
    "from scipy.ndimage import label,find_objects\n",
    "import scipy.ndimage as ndimage\n",
    "from matplotlib.colors import LinearSegmentedColormap\n",
    "\n",
    "import datetime as dt\n",
    "### Hack to import basemap. Comment if not using basemap ###\n",
    "# import os\n",
    "# import conda\n",
    "\n",
    "# conda_file_dir = conda.__file__\n",
    "# conda_dir = conda_file_dir.split('lib')[0]\n",
    "# proj_lib = os.path.join(os.path.join(conda_dir, 'share'), 'proj')\n",
    "# os.environ[\"PROJ_LIB\"] = proj_lib\n",
    "\n",
    "# from mpl_toolkits import basemap\n",
    "\n",
    "### If not using basemap, use cartopy ##\n",
    "import cartopy\n",
    "import cartopy.crs as ccrs\n",
    "import matplotlib.ticker as mticker\n",
    "from cartopy.mpl.gridliner import LONGITUDE_FORMATTER, LATITUDE_FORMATTER\n",
    "import xarray as xr\n",
    "\n",
    "\n",
    "%matplotlib inline"
   ]
  },
  {
   "cell_type": "markdown",
   "metadata": {},
   "source": [
    "### Read inputs ###"
   ]
  },
  {
   "cell_type": "code",
   "execution_count": 79,
   "metadata": {},
   "outputs": [
    {
     "name": "stdout",
     "output_type": "stream",
     "text": [
      "-rw-r--r--. 1 fiaz fiaz  178426313 Jun 26 09:50 /home/fiaz/cluster_analysis/clusters_output_200801_200905.out\r\n",
      "-rw-r--r--. 1 fiaz fiaz 1628735785 Jul  1 21:34 /home/fiaz/cluster_analysis/clusters_output_TRMM3B42_200201_201501.out\r\n",
      "-rw-r--r--. 1 fiaz fiaz   30673433 Jul  8 16:48 /home/fiaz/cluster_analysis/clusters_output_SNU.SAM0-UNICON.out\r\n",
      "-rw-r--r--. 1 fiaz fiaz  167709433 Jul  9 10:42 /home/fiaz/cluster_analysis/clusters_output_CESM.out\r\n",
      "-rw-r--r--. 1 fiaz fiaz   46067257 Jul  9 10:44 /home/fiaz/cluster_analysis/clusters_output_NASA-GISS.out\r\n",
      "-rw-rw-r--. 1 fiaz fiaz   73646137 Aug  9 16:17 /home/fiaz/cluster_analysis/clusters_output_CNRM-CM6-1.out\r\n",
      "-rw-rw-r--. 1 fiaz fiaz   73646137 Aug  9 16:17 /home/fiaz/cluster_analysis/clusters_output_SSP585_CNRM-CM6-1.out\r\n",
      "-rw-rw-r--. 1 fiaz fiaz   73646137 Aug 14 11:33 /home/fiaz/cluster_analysis/clusters_output_SSP585_CNRM-CM6-1_209801_210012.out\r\n",
      "-rw-r--r--. 1 fiaz fiaz  178426313 Aug 18 09:21 /home/fiaz/cluster_analysis/clusters_output_TRMM3B42_200801_200905.out\r\n",
      "-rw-r--r--. 1 fiaz fiaz   60596649 Aug 27 18:12 /home/fiaz/cluster_analysis/clusters_output_SSP585_MIROC6_209801_210012.out\r\n",
      "-rw-r--r--. 1 fiaz fiaz   18480713 Aug 28 07:37 /home/fiaz/cluster_analysis/clusters_output_SSP585_@NorESM2-MM_209801_210012.out\r\n",
      "-rw-r--r--. 1 fiaz fiaz  132658489 Sep  9 09:27 /home/fiaz/cluster_analysis/clusters_output_SSP585_@BCC-CSM2-MR_209801_210012.out\r\n",
      "-rw-r--r--. 1 fiaz fiaz   91924649 Sep  9 09:30 /home/fiaz/cluster_analysis/clusters_output_BCC_3hr_201301_201412.out\r\n",
      "-rw-r--r--. 1 fiaz fiaz  522594249 Sep  9 14:53 /home/fiaz/cluster_analysis/clusters_output_CNRM-CM6-1-HR_201301_201412.out\r\n",
      "-rw-r--r--. 1 fiaz fiaz  763959961 Sep  9 15:01 /home/fiaz/cluster_analysis/clusters_output_SSP585_CNRM-CM6-1-HR_209801_210012.out\r\n",
      "-rw-r--r--. 1 fiaz fiaz  333345001 Oct 15 14:45 /home/fiaz/cluster_analysis/clusters_output_TRMM3B42_201001_201212.out\r\n",
      "-rw-rw-r--. 1 fiaz fiaz   76313753 Oct 16 10:53 /home/fiaz/cluster_analysis/clusters_output_CNRM-CM6-1_201001_201212.out\r\n",
      "-rw-r--r--. 1 fiaz fiaz  262185977 Oct 16 11:03 /home/fiaz/cluster_analysis/clusters_output_CNRM-CM6-1-HR_201001_201212.out\r\n",
      "-rw-r--r--. 1 fiaz fiaz  241592521 Nov 18 14:27 /home/fiaz/cluster_analysis/clusters_output_CNRM-CM6-1_200501_201412.out\r\n",
      "-rw-r--r--. 1 fiaz fiaz  246192585 Nov 18 14:37 /home/fiaz/cluster_analysis/clusters_output_SSP585_CNRM-CM6-1_209101_210012.out\r\n"
     ]
    }
   ],
   "source": [
    "! ls -altr /home/fiaz/cluster_analysis/*.out"
   ]
  },
  {
   "cell_type": "markdown",
   "metadata": {},
   "source": [
    "### Get names of all models you want to plot ###\n",
    "Creating three separate lists for observations (TRMM), historical and SSP runs.<br>\n",
    "Note that the names here also contain the date extensions, so if the same model has different date ranges, you can pick one.<br>Or else you can also specify the two time periods as different model names."
   ]
  },
  {
   "cell_type": "code",
   "execution_count": 80,
   "metadata": {},
   "outputs": [],
   "source": [
    "obs_name=['TRMM3B42_201001_201212']\n",
    "model_names_HIST=['BCC_3hr_201301_201412',\n",
    "                  'CNRM-CM6-1-HR_201301_201412',\n",
    "                 'CNRM-CM6-1_200501_201412']\n",
    "\n",
    "model_names_SSP=['@BCC-CSM2-MR_209801_210012',\n",
    "                 'CNRM-CM6-1-HR_209801_210012',\n",
    "                'CNRM-CM6-1_209101_210012']\n",
    "model_names_SSP=['SSP585_'+i for i in model_names_SSP] ## adding the SSP585 prefix to all models "
   ]
  },
  {
   "cell_type": "markdown",
   "metadata": {},
   "source": [
    "#### Get the file paths for all the models "
   ]
  },
  {
   "cell_type": "code",
   "execution_count": 81,
   "metadata": {},
   "outputs": [],
   "source": [
    "# ## replace directories with the folder where the .out files are stored for the models\n",
    "# dirc_obs=\"/home/fiaz/cluster_analysis/\"\n",
    "# fil_obs=[]\n",
    "# for i in obs_name:\n",
    "#     fil_obs.append(list(glob(dirc_obs+'clusters_output_'+obs_name[0]+'*'))[0])\n",
    "\n",
    "# fil_obs.sort()\n",
    "# fil_obs"
   ]
  },
  {
   "cell_type": "code",
   "execution_count": 82,
   "metadata": {},
   "outputs": [
    {
     "data": {
      "text/plain": [
       "['/home/fiaz/cluster_analysis/clusters_output_BCC_3hr_201301_201412.out',\n",
       " '/home/fiaz/cluster_analysis/clusters_output_CNRM-CM6-1-HR_201301_201412.out',\n",
       " '/home/fiaz/cluster_analysis/clusters_output_CNRM-CM6-1_200501_201412.out']"
      ]
     },
     "execution_count": 82,
     "metadata": {},
     "output_type": "execute_result"
    }
   ],
   "source": [
    "dirc_hist=\"/home/fiaz/cluster_analysis/\"\n",
    "fil_hist=[]\n",
    "for i in model_names_HIST:\n",
    "    fil_hist.append(list(glob(dirc_hist+'clusters_output_'+i+'*'))[0])\n",
    "fil_hist.sort()\n",
    "fil_hist"
   ]
  },
  {
   "cell_type": "code",
   "execution_count": 83,
   "metadata": {},
   "outputs": [],
   "source": [
    "def read_files (dirc,namelist,cluster_dict):\n",
    "    for i in namelist:\n",
    "        file_path=dirc+'clusters_output_'+i+'.out'\n",
    "        print('Reading '+file_path)\n",
    "        file_name=glob(file_path)[0]\n",
    "        with open(file_name, 'rb') as handle:\n",
    "            cluster_dict[i] = pickle.load(handle)\n",
    "    "
   ]
  },
  {
   "cell_type": "code",
   "execution_count": 84,
   "metadata": {},
   "outputs": [],
   "source": [
    "### set the directory names for obs, hist and ssp; same in this case ###\n",
    "dirc_obs=\"/home/fiaz/cluster_analysis/\"\n",
    "dirc_hist=\"/home/fiaz/cluster_analysis/\"\n",
    "dirc_ssp=\"/home/fiaz/cluster_analysis/\"\n"
   ]
  },
  {
   "cell_type": "code",
   "execution_count": 85,
   "metadata": {},
   "outputs": [
    {
     "name": "stdout",
     "output_type": "stream",
     "text": [
      "Reading /home/fiaz/cluster_analysis/clusters_output_TRMM3B42_201001_201212.out\n",
      "Reading /home/fiaz/cluster_analysis/clusters_output_BCC_3hr_201301_201412.out\n",
      "Reading /home/fiaz/cluster_analysis/clusters_output_CNRM-CM6-1-HR_201301_201412.out\n",
      "Reading /home/fiaz/cluster_analysis/clusters_output_CNRM-CM6-1_200501_201412.out\n",
      "Reading /home/fiaz/cluster_analysis/clusters_output_SSP585_@BCC-CSM2-MR_209801_210012.out\n",
      "Reading /home/fiaz/cluster_analysis/clusters_output_SSP585_CNRM-CM6-1-HR_209801_210012.out\n",
      "Reading /home/fiaz/cluster_analysis/clusters_output_SSP585_CNRM-CM6-1_209101_210012.out\n"
     ]
    }
   ],
   "source": [
    "### read all the info into the cluster_dict ###\n",
    "cluster_dict={}\n",
    "read_files(dirc_obs,obs_name,cluster_dict)\n",
    "read_files(dirc_hist,model_names_HIST,cluster_dict)\n",
    "read_files(dirc_ssp,model_names_SSP,cluster_dict)"
   ]
  },
  {
   "cell_type": "markdown",
   "metadata": {},
   "source": [
    "### Specify files to compare ###\n",
    "As an example, we will just compare the historical model outputs to the TRMM3B42 <br>"
   ]
  },
  {
   "cell_type": "code",
   "execution_count": 86,
   "metadata": {},
   "outputs": [],
   "source": [
    "data_keys=obs_name+model_names_HIST\n",
    "### to compare all the SSP models, uncomment the following line\n",
    "# data_keys=model_name_SSP"
   ]
  },
  {
   "cell_type": "markdown",
   "metadata": {},
   "source": [
    "### Set thresholds to compare ###\n",
    "#### default is set to 1 mm/hr; change to other thresholds to play around"
   ]
  },
  {
   "cell_type": "code",
   "execution_count": 87,
   "metadata": {},
   "outputs": [
    {
     "data": {
      "text/plain": [
       "[1.0]"
      ]
     },
     "execution_count": 87,
     "metadata": {},
     "output_type": "execute_result"
    }
   ],
   "source": [
    "### get list of precip. thresholds ###\n",
    "pthresh_list_full=list(cluster_dict[obs_name[0]]['hist_pcp_sizes'].keys())\n",
    "pthresh_ix=pthresh_list_full.index(1.0)  ### change to 1.0, 0.75, 0.50, 0.25\n",
    "pthresh_list=pthresh_list_full[pthresh_ix:pthresh_ix+1]\n",
    "pthresh_list"
   ]
  },
  {
   "cell_type": "code",
   "execution_count": 88,
   "metadata": {},
   "outputs": [],
   "source": [
    "### Compute risk ratios ###\n",
    "\n",
    "nthresh=25\n",
    "\n",
    "def extract_grid_info(dict_input):\n",
    "    \n",
    "    sizes=dict_input['sizes']\n",
    "    sz=(sizes[:-1]+sizes[1:])*0.5\n",
    "    sz_diff=np.diff(sizes)   \n",
    "    \n",
    "    precip_cluster_power_scale=dict_input['precip_cluster_power_scale']\n",
    "    pcp_clus_pow_bins=sizes*precip_cluster_power_scale*0.5\n",
    "    pcp_clust_sz=(pcp_clus_pow_bins[:-1]+pcp_clus_pow_bins[1:])*0.5\n",
    "    \n",
    "    pcp_clust_sz_diff=np.diff(pcp_clus_pow_bins)\n",
    "\n",
    "    power_scale=dict_input['precip_cluster_power_scale']\n",
    "    pixels_to_area=dict_input['pixels_to_area']\n",
    "\n",
    "    return sz,pcp_clust_sz,sz_diff,pcp_clust_sz_diff,power_scale,pixels_to_area\n",
    "\n",
    "\n",
    "def compute_pdfs(cluster_dict,pthresh):\n",
    "    \n",
    "    hist_pcp_sizes={}\n",
    "    hist_pcp_clust_pow={}\n",
    "    \n",
    "    hist_pcp_clust_size_pdf={}\n",
    "    hist_pcp_clust_pow_pdf={}\n",
    "    \n",
    "    pcp_sizes={}\n",
    "    pcp_power={}\n",
    "    \n",
    "    sz={}\n",
    "    pcp_clust_sz={}\n",
    "    sz_diff={}\n",
    "    pcp_clust_sz_diff={}\n",
    "    power_scale={}\n",
    "    pixels_to_area={}\n",
    "    am={}\n",
    "    cm={}\n",
    "    \n",
    "    ### Read power and size\n",
    "    \n",
    "    hist_pcp_sizes=cluster_dict['hist_pcp_sizes'][pthresh]\n",
    "    hist_pcp_clust_pow=cluster_dict['hist_pcp_clust_pow'][pthresh]\n",
    "    \n",
    "    pcp_sizes=cluster_dict['pcp_sizes'][pthresh]\n",
    "    pcp_power=cluster_dict['pcp_power'][pthresh]\n",
    "\n",
    "    ### Get grid information\n",
    "        \n",
    "    sz,pcp_clust_sz,sz_diff,pcp_clust_sz_diff,power_scale, pixels_to_area=extract_grid_info(cluster_dict)\n",
    "        \n",
    "    hist_pcp_clust_size_pdf=hist_pcp_sizes/(sz_diff*hist_pcp_sizes.sum())\n",
    "    hist_pcp_clust_size_pdf[hist_pcp_sizes<nthresh]=np.nan\n",
    "\n",
    "    hist_pcp_clust_pow_pdf=hist_pcp_clust_pow/(pcp_clust_sz_diff*hist_pcp_clust_pow.sum())\n",
    "    hist_pcp_clust_pow_pdf[hist_pcp_clust_pow==0]=np.nan\n",
    "\n",
    "    am=np.mean(pcp_sizes**2)*pixels_to_area/np.mean(pcp_sizes)\n",
    "    cm=np.mean(pcp_power**2)/np.mean(pcp_power)\n",
    "    sz_scaled=sz*pixels_to_area\n",
    "        \n",
    "    return hist_pcp_clust_size_pdf, hist_pcp_clust_pow_pdf, am, cm, sz_scaled, pcp_clust_sz\n",
    "\n",
    "                                                                                            "
   ]
  },
  {
   "cell_type": "markdown",
   "metadata": {},
   "source": [
    "### Plot PDFs ##"
   ]
  },
  {
   "cell_type": "code",
   "execution_count": 156,
   "metadata": {},
   "outputs": [],
   "source": [
    "### Some user defined parameters ###\n",
    "nthresh=25 #Discard bins with fewer than nthresh samples\n",
    "istrt_sz,iend_sz=3.0,5.0 ## the power law range for size (10^3 to 10^5)\n",
    "istrt_pow,iend_pow=4.0,5.5 ### set a ballpark range for the power law, so the straight line fit is over that range\n",
    "\n",
    "title_fontsize=15\n",
    "xlabel_fontsize=16.5\n",
    "ylabel_fontsize=16.5\n",
    "\n",
    "## x and yaxis limits for cluster size\n",
    "xlim_sz=[1e2,0.5e7] \n",
    "ylim_sz=[1e-21,1e0] ##\n",
    "\n",
    "## x and yaxis limits for cluster power\n",
    "xlim_pow=[1e2,2.5e8] ##\n",
    "ylim_pow=[1e-21,1e-1] ##\n",
    "\n",
    "## threshold legend font size\n",
    "leg_fontsize=12.5\n",
    "\n",
    "## moment ratio * power law slope font size\n",
    "leg1_fontsize=13.5\n",
    "\n",
    "## ticklabel font size\n",
    "ticks_fontsize=14\n",
    "\n",
    "### vertical offset ###\n"
   ]
  },
  {
   "cell_type": "markdown",
   "metadata": {},
   "source": [
    "### set colors (same size as data keys)\n",
    "\n"
   ]
  },
  {
   "cell_type": "code",
   "execution_count": 157,
   "metadata": {},
   "outputs": [],
   "source": [
    "colors=['black','red','green','orange']\n",
    "shifts={}\n",
    "shift=10**(-3*np.arange(len(data_keys),dtype=float))\n",
    "color_dicts={}\n",
    "for i,j in enumerate(data_keys):\n",
    "    color_dicts[j]=colors[i]\n",
    "    shifts[j]=10**(-3*i)\n",
    "ref_size_pdf=1e-2"
   ]
  },
  {
   "cell_type": "code",
   "execution_count": 158,
   "metadata": {},
   "outputs": [],
   "source": [
    "ref_pdf=compute_pdfs(cluster_dict[obs_name[0]],pthresh_list[0])    \n",
    "ref_size_pdf,ref_power_pdf,ref_sz_scaled,ref_pow_scaled=ref_pdf[0],ref_pdf[1],ref_pdf[4],ref_pdf[5]\n"
   ]
  },
  {
   "cell_type": "code",
   "execution_count": 160,
   "metadata": {
    "scrolled": false
   },
   "outputs": [
    {
     "data": {
      "image/png": "[encoded data removed]",
      "text/plain": [
       "<Figure size 792x288 with 2 Axes>"
      ]
     },
     "metadata": {
      "needs_background": "light"
     },
     "output_type": "display_data"
    }
   ],
   "source": [
    "### set the plot specs:\n",
    "### size\n",
    "fig=plt.figure(figsize=(11,4.))\n",
    "## grid: 1 row , 2 colum plot\n",
    "gs = gridspec.GridSpec(1, 2)\n",
    "## assign separate name for each axis\n",
    "ax1 = plt.subplot(gs[0, 0])\n",
    "ax2 = plt.subplot(gs[0, 1])\n",
    "\n",
    "\n",
    "### create empty dictionaries to hold the legends \n",
    "ln1={}\n",
    "ln2={}\n",
    "\n",
    "### positions for some of the text on the plot\n",
    "posy=[ 0.85, 0.9, 0.95, 0.725, .8, .875 ]\n",
    "posx=[.65, 0.65, 0.65, .4, .4 ]\n",
    "pos_slope=[0.65, 0.9]\n",
    "\n",
    "for j,key in enumerate(data_keys):\n",
    "    size_pdf, power_pdf, am, cm, sz_scaled, pcp_clust_sz=compute_pdfs(cluster_dict[key],\n",
    "                                                                     pthresh_list[0])    \n",
    "\n",
    "    ind_max=np.nanargmax(size_pdf)\n",
    "    sz_max=sz_scaled[ind_max]\n",
    "    ind_ref_max=np.argmin(abs(ref_sz_scaled-sz_max))\n",
    "    shift=(ref_size_pdf[ind_ref_max]/size_pdf[ind_max])\n",
    "    \n",
    "    size_pdf*=shift*shifts[key]\n",
    "    \n",
    "    ### there are the start and end of the power law range: adjust according to eye ###\n",
    "    istrt,iend=istrt_sz,iend_sz\n",
    "    ln1[j],=ax1.loglog(sz_scaled,size_pdf,marker='*',\n",
    "                        c=color_dicts[key],markersize=5)\n",
    "\n",
    "    ### The straight line fit to the power law range ###\n",
    "    ### select portions of the curve bounded by the power law range ###\n",
    "    arrx,arry=np.log10(sz_scaled),np.log10(size_pdf)\n",
    "    arrx_fin,arry_fin=arrx[np.logical_and(arrx>istrt,arrx<iend)],arry[np.logical_and(arrx>istrt,arrx<iend)]\n",
    "\n",
    "    ### perform a linear regression over this selected portion ###\n",
    "    ret=linregress(arrx_fin[np.isfinite(arry_fin)],arry_fin[np.isfinite(arry_fin)])\n",
    "\n",
    "    ### Use the slope and intercept from the linear regression to create the straight line ###\n",
    "    pdf_pcp_sizes=((sz_scaled)**(ret[0]))*(10**(ret[1]))\n",
    "\n",
    "    ## Remove portions of the straight line that extend too far beyond the cutoff\n",
    "    pdf_pcp_sizes[sz_scaled>5e6]=np.nan \n",
    "\n",
    "    \n",
    "#     ### Now compute the moment ratio and print it in on plot ##\n",
    "    if (j == 0):\n",
    "        ax1.loglog(sz_scaled,pdf_pcp_sizes*1e0,linestyle='--',c=color_dicts[key])\n",
    "\n",
    "        ### Set plot title and axis labels\n",
    "        ax1.set_title(\"size distribution\\n%.2f mm/hr\"%(pthresh_list[0]),fontsize=title_fontsize)\n",
    "        ax1.set_xlabel(\"Size ($\\mathrm{km^2}$) \",fontsize=xlabel_fontsize)\n",
    "        ax1.set_ylabel(\"Probability density\",fontsize=ylabel_fontsize)\n",
    "        ax1.set_xlim(xlim_sz)\n",
    "        ax1.set_ylim(ylim_sz)\n",
    "        ax1.yaxis.set_major_locator(plt.FixedLocator([1e0, 1e-2, 1e-4, 1e-6, 1e-8, 1e-10]))\n",
    "        ax1.tick_params(which='both', labelsize=ticks_fontsize)\n",
    "#         ax1.text(pos_slope[0], pos_slope[1],'$\\\\tau$=%.1f'%(-ret[0]),transform=ax.transAxes,\n",
    "#                 fontsize=leg1_fontsize,color='black')\n",
    "        ax1.loglog(sz_scaled,pdf_pcp_sizes*1e0,linestyle='--',c='black')\n",
    "    if j==len(data_keys)-1:\n",
    "        leg_lines=[ln1[n] for n in ln1.keys()]\n",
    "        leg_labels=[\"%s\"%(n.split('_')[0]) for n in data_keys]\n",
    "\n",
    "        leg=ax1.legend((leg_lines),(leg_labels),fontsize=leg_fontsize, loc=(.025, .05),ncol=1 )\n",
    "#         ## make legend box color black ##\n",
    "        frame=leg.get_frame()\n",
    "        frame.set_edgecolor('black')\n",
    "\n",
    "\n",
    "for j,key in enumerate(data_keys):\n",
    "    size_pdf, power_pdf, am, cm, sz_scaled, pcp_clust_sz=compute_pdfs(cluster_dict[key],\n",
    "                                                                     pthresh_list[0])    \n",
    "\n",
    "    ind_max=np.nanargmax(power_pdf)\n",
    "    sz_max=pcp_clust_sz[ind_max]\n",
    "    ind_ref_max=np.argmin(abs(ref_sz_scaled-sz_max))\n",
    "    shift=(ref_size_pdf[ind_ref_max]/power_pdf[ind_max])\n",
    "    power_pdf*=shift*shifts[key]\n",
    "    \n",
    "    ### there are the start and end of the power law range: adjust according to eye ###\n",
    "    istrt,iend=istrt_pow,iend_pow \n",
    "    ln2[j],=ax2.loglog(pcp_clust_sz,power_pdf, marker='*',c=color_dicts[key],markersize=5)\n",
    "    arrx,arry=np.log10(pcp_clust_sz),np.log10(power_pdf)\n",
    "    arrx_fin,arry_fin=arrx[np.logical_and(arrx>istrt,arrx<=iend)],arry[np.logical_and(arrx>istrt,arrx<=iend)]\n",
    "    \n",
    "    try:\n",
    "        ret=linregress(arrx_fin[np.isfinite(arry_fin)],arry_fin[np.isfinite(arry_fin)])\n",
    "        pdf_pcp_power=((pcp_clust_sz)**(ret[0]))*(10**(ret[1]))\n",
    "        pdf_pcp_power[pcp_clust_sz>1e7]=np.nan\n",
    "    except:\n",
    "        ## if the power law range does not exist within the specified window,\n",
    "        ## don't plot it \n",
    "        pdf_pcp_power=np.zeros_like(pcp_clust_sz[key])\n",
    "\n",
    "#     ax2.text(posx[j],posy[j],'$c_M$=%.2e'%(cm),transform=ax.transAxes,fontsize=leg1_fontsize,color=color_dicts[key])\n",
    "    ax2.tick_params(which='both', labelsize=ticks_fontsize)\n",
    "\n",
    "    if (j==0):\n",
    "        ax2.loglog(pcp_clust_sz,pdf_pcp_power*1e0,linestyle='--',c=color_dicts[key])\n",
    "\n",
    "# #         ax2.text(posx[j]-0.25,posy[j],'$\\\\tau$=%.1f'%(-ret[0]),transform=ax.transAxes,fontsize=leg1_fontsize,color='black')\n",
    "        ax2.set_title(\"cluster power distribution\\n%.2f mm/hr\"%(pthresh_list[0]),fontsize=title_fontsize)\n",
    "        ax2.set_xlabel(\"Power (GW) \",fontsize=xlabel_fontsize)\n",
    "        ax2.set_xlim(xlim_pow)\n",
    "        ax2.set_ylim(ylim_pow)\n",
    "        ax2.yaxis.set_major_locator(plt.FixedLocator([1e-2, 1e-4, 1e-6, 1e-8, 1e-10,1e-12]))\n",
    "        \n",
    "#     if j==len(data_keys)-1:\n",
    "#         leg_lines=[ln2[n] for n in ln2.keys()]\n",
    "#         leg_labels=[\"%s\"%(n.split('_')[0]) for n in data_keys]\n",
    "\n",
    "#         leg=ax.legend((leg_lines),(leg_labels),fontsize=leg_fontsize, loc=(.025, .05),ncol=1 )\n",
    "# #         ## make legend box color black ##\n",
    "#         frame=leg.get_frame()\n",
    "#         frame.set_edgecolor('black')\n",
    "\n",
    "\n",
    "\n",
    "plt.tight_layout()\n",
    "plt.subplots_adjust(top=0.9)\n",
    "        \n",
    "\n",
    "### Be careful to not overwrite figures, change file name as the number of models/time periods change\n",
    "    \n",
    "SAVE_FIG=False\n",
    "if SAVE_FIG:\n",
    "    dirp='./' ## current location, but change as needed\n",
    "    save_fig_name=dirp+\"compared_model_clusters_pdfs_%.2f\"%(pthresh_list[0])+\".pdf\"\n",
    "\n",
    "    plt.savefig(save_fig_name,format='pdf',dpi=150,bbox_inches='tight')"
   ]
  },
  {
   "cell_type": "markdown",
   "metadata": {},
   "source": [
    "### Place SSP and HIST plots on top of each other ###"
   ]
  },
  {
   "cell_type": "code",
   "execution_count": 161,
   "metadata": {},
   "outputs": [
    {
     "data": {
      "text/plain": [
       "dict_keys(['TRMM3B42_201001_201212', 'BCC_3hr_201301_201412', 'CNRM-CM6-1-HR_201301_201412', 'CNRM-CM6-1_200501_201412', 'SSP585_@BCC-CSM2-MR_209801_210012', 'SSP585_CNRM-CM6-1-HR_209801_210012', 'SSP585_CNRM-CM6-1_209101_210012'])"
      ]
     },
     "execution_count": 161,
     "metadata": {},
     "output_type": "execute_result"
    }
   ],
   "source": [
    "cluster_dict.keys()\n",
    "# model_fil_ssp\n",
    "# cluster_dict[model_fil_ssp[1]]"
   ]
  },
  {
   "cell_type": "code",
   "execution_count": 162,
   "metadata": {},
   "outputs": [],
   "source": [
    "def shift_pdf(pdf,val_scaled,ref_pdf,ref_val_scaled,shift_const):         \n",
    "    ind_max=np.nanargmax(pdf)\n",
    "    val_max=val_scaled[ind_max]\n",
    "    ind_ref_max=np.argmin(abs(ref_val_scaled-val_max))\n",
    "    shift=(ref_pdf[ind_ref_max]/pdf[ind_max])\n",
    "    return  pdf*shift*shift_const\n",
    "\n"
   ]
  },
  {
   "cell_type": "code",
   "execution_count": 163,
   "metadata": {},
   "outputs": [
    {
     "name": "stdout",
     "output_type": "stream",
     "text": [
      "['SSP585_@BCC-CSM2-MR_209801_210012'] [1.69269773e-12 5.54623379e-13 3.10388791e-13 2.18351805e-13\n",
      " 1.59491423e-13 1.10273777e-13 7.84443612e-14 5.91309380e-14\n",
      " 4.22832604e-14 2.89982711e-14 1.93723045e-14 1.35203279e-14\n",
      " 9.23299019e-15 5.80352995e-15 3.45126121e-15 2.06270714e-15\n",
      " 1.17389837e-15 6.08800974e-16 2.78102114e-16 1.21143118e-16\n",
      " 4.77451102e-17 1.64505486e-17 5.07757629e-18 1.46496349e-18\n",
      "            nan            nan            nan            nan\n",
      "            nan            nan            nan            nan\n",
      "            nan            nan            nan            nan\n",
      "            nan            nan            nan            nan\n",
      "            nan            nan            nan            nan\n",
      "            nan            nan            nan            nan\n",
      "            nan            nan            nan            nan\n",
      "            nan            nan            nan            nan\n",
      "            nan            nan            nan            nan\n",
      "            nan            nan            nan            nan\n",
      "            nan            nan]\n",
      "['SSP585_CNRM-CM6-1-HR_209801_210012'] [4.27379002e-06 7.77681950e-07 3.16121974e-07 1.91315670e-07\n",
      " 1.30829405e-07 9.51767724e-08 7.35534972e-08 5.97376725e-08\n",
      " 4.45891078e-08 3.09925429e-08 2.06382421e-08 1.49423949e-08\n",
      " 1.07969112e-08 7.10958234e-09 4.28783901e-09 2.56660247e-09\n",
      " 1.43521114e-09 7.18023934e-10 3.31753238e-10 1.49718477e-10\n",
      " 5.25530624e-11 1.65964276e-11            nan            nan\n",
      "            nan            nan            nan            nan\n",
      "            nan            nan            nan            nan\n",
      "            nan            nan            nan            nan\n",
      "            nan            nan            nan            nan\n",
      "            nan            nan            nan            nan\n",
      "            nan            nan            nan            nan\n",
      "            nan            nan            nan            nan\n",
      "            nan            nan            nan            nan\n",
      "            nan            nan            nan            nan\n",
      "            nan            nan            nan            nan\n",
      "            nan            nan]\n",
      "['SSP585_CNRM-CM6-1_209101_210012'] [5.85563463e-08 1.64388942e-08 8.56104417e-09 6.49444507e-09\n",
      " 4.97647880e-09 3.78639267e-09 2.96394605e-09 2.41517480e-09\n",
      " 1.88965602e-09 1.46015077e-09 1.09872260e-09 8.60273154e-10\n",
      " 6.64214046e-10 4.80978273e-10 3.45292767e-10 2.50396895e-10\n",
      " 1.83377216e-10 1.30145452e-10 9.03048362e-11 6.30711621e-11\n",
      " 4.26012347e-11 2.83156116e-11 1.80184737e-11 1.15131947e-11\n",
      " 6.87152628e-12 4.07902419e-12 2.13165792e-12 1.03742842e-12\n",
      " 4.68571588e-13 1.76962631e-13 6.32850173e-14 2.39889622e-14\n",
      " 7.55046786e-15 2.50268683e-15            nan            nan\n",
      "            nan            nan            nan            nan\n",
      "            nan            nan            nan            nan\n",
      "            nan            nan            nan            nan\n",
      "            nan            nan            nan            nan\n",
      "            nan            nan            nan            nan\n",
      "            nan            nan            nan            nan\n",
      "            nan            nan            nan            nan\n",
      "            nan            nan]\n"
     ]
    },
    {
     "data": {
      "image/png": "[encoded data removed]",
      "text/plain": [
       "<Figure size 792x288 with 2 Axes>"
      ]
     },
     "metadata": {
      "needs_background": "light"
     },
     "output_type": "display_data"
    }
   ],
   "source": [
    "### set the plot specs:\n",
    "### size\n",
    "fig=plt.figure(figsize=(11,4.))\n",
    "## grid: 1 row , 2 colum plot\n",
    "gs = gridspec.GridSpec(1, 2)\n",
    "## assign separate name for each axis\n",
    "ax1 = plt.subplot(gs[0, 0])\n",
    "ax2 = plt.subplot(gs[0, 1])\n",
    "\n",
    "\n",
    "### create empty dictionaries to hold the legends \n",
    "ln1={}\n",
    "ln2={}\n",
    "\n",
    "### positions for some of the text on the plot\n",
    "posy=[ 0.85, 0.9, 0.95, 0.725, .8, .875 ]\n",
    "posx=[.65, 0.65, 0.65, .4, .4 ]\n",
    "pos_slope=[0.65, 0.9]\n",
    "\n",
    "for j,key in enumerate(data_keys):\n",
    "    \n",
    "    ### check the model name and extract corresponding SSP file ###\n",
    "    model_name=(key.split('_')[0])\n",
    "    model_fil_ssp=[i for i in model_names_SSP if model_name in i]\n",
    "\n",
    "    ### if more than one SSP name is extracted, differentiate based on string split ###\n",
    "    if len(model_fil_ssp)>1:\n",
    "        for k in model_fil_ssp:\n",
    "            if(k.split('_')[1])==model_name:\n",
    "                model_fil_ssp=[k]\n",
    "            \n",
    "    \n",
    "    size_pdf, power_pdf, am, cm, sz_scaled, pcp_clust_sz=compute_pdfs(cluster_dict[key],\n",
    "                                                                     pthresh_list[0])    \n",
    "    \n",
    "    size_pdf=shift_pdf(size_pdf,sz_scaled,ref_size_pdf,ref_sz_scaled,shifts[key])\n",
    "\n",
    "    \n",
    "    ### there are the start and end of the power law range: adjust according to eye ###\n",
    "    istrt,iend=istrt_sz,iend_sz\n",
    "    ln1[j],=ax1.loglog(sz_scaled,size_pdf,marker='*',\n",
    "                        c='blue',markersize=5)\n",
    "#                         c=color_dicts[key],markersize=5)\n",
    "    \n",
    "    ### if a matching SSP file is found, plot it on top\n",
    "    \n",
    "    if model_fil_ssp:\n",
    "        print(model_fil_ssp,size_pdf_ssp)\n",
    "        size_pdf_ssp, power_pdf_ssp, am_ssp, cm_ssp, sz_scaled_ssp, pcp_clust_sz_ssp=compute_pdfs(cluster_dict[model_fil_ssp[0]],\n",
    "                                                                     pthresh_list[0])    \n",
    "        size_pdf_ssp=shift_pdf(size_pdf_ssp,sz_scaled_ssp,ref_size_pdf,ref_sz_scaled,shifts[key])\n",
    "\n",
    "        ax1.loglog(sz_scaled_ssp,size_pdf_ssp, marker='*', c='red',markersize=5)\n",
    "\n",
    "    \n",
    "\n",
    "    ### The straight line fit to the power law range ###\n",
    "    ### select portions of the curve bounded by the power law range ###\n",
    "    arrx,arry=np.log10(sz_scaled),np.log10(size_pdf)\n",
    "    arrx_fin,arry_fin=arrx[np.logical_and(arrx>istrt,arrx<iend)],arry[np.logical_and(arrx>istrt,arrx<iend)]\n",
    "\n",
    "    ### perform a linear regression over this selected portion ###\n",
    "    ret=linregress(arrx_fin[np.isfinite(arry_fin)],arry_fin[np.isfinite(arry_fin)])\n",
    "\n",
    "    ### Use the slope and intercept from the linear regression to create the straight line ###\n",
    "    pdf_pcp_sizes=((sz_scaled)**(ret[0]))*(10**(ret[1]))\n",
    "\n",
    "    ## Remove portions of the straight line that extend too far beyond the cutoff\n",
    "    pdf_pcp_sizes[sz_scaled>5e6]=np.nan \n",
    "\n",
    "    \n",
    "#     ### Now compute the moment ratio and print it in on plot ##\n",
    "    if (j == 0):\n",
    "        ax1.loglog(sz_scaled,pdf_pcp_sizes*1e0,linestyle='--',c=color_dicts[key])\n",
    "        \n",
    "        \n",
    "        ### Set plot title and axis labels\n",
    "        ax1.set_title(\"size distribution\\n%.2f mm/hr\"%(pthresh_list[0]),fontsize=title_fontsize)\n",
    "        ax1.set_xlabel(\"Size ($\\mathrm{km^2}$) \",fontsize=xlabel_fontsize)\n",
    "        ax1.set_ylabel(\"Probability density\",fontsize=ylabel_fontsize)\n",
    "        ax1.set_xlim(xlim_sz)\n",
    "        ax1.set_ylim(ylim_sz)\n",
    "        ax1.yaxis.set_major_locator(plt.FixedLocator([1e0, 1e-2, 1e-4, 1e-6, 1e-8, 1e-10]))\n",
    "        ax1.tick_params(which='both', labelsize=ticks_fontsize)\n",
    "#         ax1.text(pos_slope[0], pos_slope[1],'$\\\\tau$=%.1f'%(-ret[0]),transform=ax.transAxes,\n",
    "#                 fontsize=leg1_fontsize,color='black')\n",
    "        ax1.loglog(sz_scaled,pdf_pcp_sizes*1e0,linestyle='--',c='black')\n",
    "    if j==len(data_keys)-1:\n",
    "        leg_lines=[ln1[n] for n in ln1.keys()]\n",
    "        leg_labels=[\"%s\"%(n.split('_')[0]) for n in data_keys]\n",
    "\n",
    "#         leg=ax1.legend((leg_lines),(leg_labels),fontsize=leg_fontsize, bbox_to_anchor=(1.05,.1), loc=(.025, .05),ncol=1 )\n",
    "#         ## make legend box color black ##\n",
    "        frame=leg.get_frame()\n",
    "        frame.set_edgecolor('black')\n",
    "\n",
    "\n",
    "for j,key in enumerate(data_keys):\n",
    "    size_pdf, power_pdf, am, cm, sz_scaled, pcp_clust_sz=compute_pdfs(cluster_dict[key],\n",
    "                                                                     pthresh_list[0])    \n",
    "\n",
    "#     ind_max=np.nanargmax(power_pdf)\n",
    "#     sz_max=pcp_clust_sz[ind_max]\n",
    "#     ind_ref_max=np.argmin(abs(ref_sz_scaled-sz_max))\n",
    "#     shift=(ref_size_pdf[ind_ref_max]/power_pdf[ind_max])\n",
    "#     power_pdf*=shift*shifts[key]\n",
    "    \n",
    "    power_pdf=shift_pdf(power_pdf,pcp_clust_sz,ref_size_pdf,ref_pow_scaled,shifts[key])\n",
    "\n",
    "    \n",
    "    ### there are the start and end of the power law range: adjust according to eye ###\n",
    "    istrt,iend=istrt_pow,iend_pow \n",
    "    ln2[j],=ax2.loglog(pcp_clust_sz,power_pdf, marker='*',c=color_dicts[key],markersize=5)\n",
    "    arrx,arry=np.log10(pcp_clust_sz),np.log10(power_pdf)\n",
    "    arrx_fin,arry_fin=arrx[np.logical_and(arrx>istrt,arrx<=iend)],arry[np.logical_and(arrx>istrt,arrx<=iend)]\n",
    "    \n",
    "    try:\n",
    "        ret=linregress(arrx_fin[np.isfinite(arry_fin)],arry_fin[np.isfinite(arry_fin)])\n",
    "        pdf_pcp_power=((pcp_clust_sz)**(ret[0]))*(10**(ret[1]))\n",
    "        pdf_pcp_power[pcp_clust_sz>1e7]=np.nan\n",
    "    except:\n",
    "        ## if the power law range does not exist within the specified window,\n",
    "        ## don't plot it \n",
    "        pdf_pcp_power=np.zeros_like(pcp_clust_sz[key])\n",
    "\n",
    "#     ax2.text(posx[j],posy[j],'$c_M$=%.2e'%(cm),transform=ax.transAxes,fontsize=leg1_fontsize,color=color_dicts[key])\n",
    "    ax2.tick_params(which='both', labelsize=ticks_fontsize)\n",
    "\n",
    "    if (j==0):\n",
    "        ax2.loglog(pcp_clust_sz,pdf_pcp_power*1e0,linestyle='--',c=color_dicts[key])\n",
    "\n",
    "# #         ax2.text(posx[j]-0.25,posy[j],'$\\\\tau$=%.1f'%(-ret[0]),transform=ax.transAxes,fontsize=leg1_fontsize,color='black')\n",
    "        ax2.set_title(\"cluster power distribution\\n%.2f mm/hr\"%(pthresh_list[0]),fontsize=title_fontsize)\n",
    "        ax2.set_xlabel(\"Power (GW) \",fontsize=xlabel_fontsize)\n",
    "        ax2.set_xlim(xlim_pow)\n",
    "        ax2.set_ylim(ylim_pow)\n",
    "        ax2.yaxis.set_major_locator(plt.FixedLocator([1e-2, 1e-4, 1e-6, 1e-8, 1e-10,1e-12]))\n",
    "        \n",
    "    if j==len(data_keys)-1:\n",
    "#         leg_lines=[ln2[n] for n in ln2.keys()]\n",
    "#         leg_labels=[\"%s\"%(n.split('_')[0]) for n in data_keys]\n",
    "\n",
    "        leg=ax2.legend((leg_lines),(leg_labels),fontsize=leg_fontsize, bbox_to_anchor=(1.5,1.), loc='upper right',ncol=1 )\n",
    "         ## make legend box color black ##\n",
    "        frame=leg.get_frame()\n",
    "        frame.set_edgecolor('black')\n",
    "\n",
    "\n",
    "plt.tight_layout()\n",
    "plt.subplots_adjust(top=0.9)\n",
    "        \n",
    "\n",
    "### Be careful to not overwrite figures, change file name as the number of models/time periods change\n",
    "    \n",
    "SAVE_FIG=False\n",
    "if SAVE_FIG:\n",
    "    dirp='./' ## current location, but change as needed\n",
    "    save_fig_name=dirp+\"compared_model_clusters_pdfs_%.2f\"%(pthresh_list[0])+\".pdf\"\n",
    "\n",
    "    plt.savefig(save_fig_name,format='pdf',dpi=150,bbox_inches='tight')"
   ]
  },
  {
   "cell_type": "code",
   "execution_count": null,
   "metadata": {},
   "outputs": [],
   "source": []
  }
 ],
 "metadata": {
  "kernelspec": {
   "display_name": "aos112",
   "language": "python",
   "name": "aos112"
  },
  "language_info": {
   "codemirror_mode": {
    "name": "ipython",
    "version": 3
   },
   "file_extension": ".py",
   "mimetype": "text/x-python",
   "name": "python",
   "nbconvert_exporter": "python",
   "pygments_lexer": "ipython3",
   "version": "3.8.5"
  }
 },
 "nbformat": 4,
 "nbformat_minor": 4
}
