{
 "cells": [
  {
   "cell_type": "markdown",
   "metadata": {},
   "source": [
    "### The aim is to check how the cluster power geographical distributions changes under global warming"
   ]
  },
  {
   "cell_type": "code",
   "execution_count": 2,
   "metadata": {},
   "outputs": [],
   "source": [
    "import numpy as np\n",
    "import matplotlib.pyplot as plt\n",
    "from netCDF4 import Dataset\n",
    "import matplotlib\n",
    "from matplotlib.ticker import MaxNLocator,FormatStrFormatter\n",
    "import pickle\n",
    "from glob import glob\n",
    "import sys  \n",
    "import matplotlib.gridspec as gridspec\n",
    "from scipy.stats import linregress\n",
    "from dateutil.relativedelta import relativedelta\n",
    "import itertools\n",
    "import pickle\n",
    "from cartopy.util import add_cyclic_point\n",
    "\n",
    "\n",
    "from scipy.ndimage import label,find_objects\n",
    "import scipy.ndimage as ndimage\n",
    "from matplotlib.colors import LinearSegmentedColormap\n",
    "from scipy.interpolate import NearestNDInterpolator,RegularGridInterpolator\n",
    "\n",
    "\n",
    "import datetime as dt\n",
    "\n",
    "import cartopy\n",
    "import cartopy.crs as ccrs\n",
    "import matplotlib.ticker as mticker\n",
    "from cartopy.mpl.gridliner import LONGITUDE_FORMATTER, LATITUDE_FORMATTER\n",
    "import xarray as xr\n",
    "import pandas as pd\n",
    "from scipy.stats import norm\n",
    "import os \n",
    "# import seaborn as sns\n",
    "import cftime\n",
    "\n",
    "%matplotlib inline"
   ]
  },
  {
   "cell_type": "markdown",
   "metadata": {},
   "source": [
    "### Get names of all models you want to plot ###"
   ]
  },
  {
   "cell_type": "code",
   "execution_count": 3,
   "metadata": {},
   "outputs": [
    {
     "name": "stdout",
     "output_type": "stream",
     "text": [
      "clusters_output_BCC-CSM2-MR_200201_201412.out\r\n",
      "clusters_output_CNRM-CM6-1_200201_201412.out\r\n",
      "clusters_output_KACE-1-0-G_199001_199912.out\r\n",
      "clusters_output_SSP585_BCC-CSM2-MR_209101_210012.out\r\n",
      "clusters_output_SSP585_CNRM-CM6-1_209101_210012.out\r\n",
      "clusters_output_SSP585_@KACE-1-0-G_209101_210012.out\r\n",
      "clusters_output_TRMM3B42_200201_201412.out\r\n"
     ]
    }
   ],
   "source": [
    "!ls *.out"
   ]
  },
  {
   "cell_type": "markdown",
   "metadata": {},
   "source": [
    "### Enter a single model name into the list below ###"
   ]
  },
  {
   "cell_type": "code",
   "execution_count": 4,
   "metadata": {},
   "outputs": [],
   "source": [
    "### KACE SSP only runs from 2095-2100, so we must be careful to only use temperature values from that range for scaling ###"
   ]
  },
  {
   "cell_type": "code",
   "execution_count": 37,
   "metadata": {},
   "outputs": [],
   "source": [
    "obs_name=['TRMM3B42_200201_201412']\n",
    "model_names_HIST=['BCC-CSM2-MR_200201_201412']\n",
    "model_names_SSP=['BCC-CSM2-MR_209101_210012']\n",
    "model_names_SSP=['SSP585_'+i for i in model_names_SSP] ## adding the SSP585 prefix to all models \n",
    "\n",
    "## !!!! Don't forget to change model name here !!!!\n",
    "model_name={}\n",
    "model_name['HIST']='CNRM-CM6-1'\n",
    "model_name['SSP']='CNRM-CM6-1'"
   ]
  },
  {
   "cell_type": "markdown",
   "metadata": {},
   "source": [
    "### read surface temperature info ###"
   ]
  },
  {
   "cell_type": "code",
   "execution_count": 219,
   "metadata": {},
   "outputs": [
    {
     "name": "stdout",
     "output_type": "stream",
     "text": [
      "tas_3hr_KACE-1-0-G_ssp585_r1i1p1f1_gr_209501010130-210012302230.nc\r\n",
      "tas_day_KACE-1-0-G_ssp585_r1i1p1f1_gr_20150101-21001230.nc\r\n"
     ]
    }
   ],
   "source": [
    "!ls /neelin2020/CMIP6-SSP585/@KACE-1-0-G/tas"
   ]
  },
  {
   "cell_type": "markdown",
   "metadata": {},
   "source": [
    "### Reading surface temperature data"
   ]
  },
  {
   "cell_type": "code",
   "execution_count": 17,
   "metadata": {},
   "outputs": [
    {
     "name": "stdout",
     "output_type": "stream",
     "text": [
      "HIST\n",
      "[]\n"
     ]
    },
    {
     "ename": "ValueError",
     "evalue": "'BCC-CSM2-MR' is not in list",
     "output_type": "error",
     "traceback": [
      "\u001b[0;31m---------------------------------------------------------------------------\u001b[0m",
      "\u001b[0;31mValueError\u001b[0m                                Traceback (most recent call last)",
      "\u001b[0;32m<ipython-input-17-722f913f2fa8>\u001b[0m in \u001b[0;36m<module>\u001b[0;34m\u001b[0m\n\u001b[1;32m     31\u001b[0m \u001b[0;31m#     model_dir[key]=model_dir[key][1:] ### neglect the first name, since it is not really a model\u001b[0m\u001b[0;34m\u001b[0m\u001b[0;34m\u001b[0m\u001b[0;34m\u001b[0m\u001b[0m\n\u001b[1;32m     32\u001b[0m     \u001b[0mprint\u001b[0m\u001b[0;34m(\u001b[0m\u001b[0mmodel_list\u001b[0m\u001b[0;34m[\u001b[0m\u001b[0mkey\u001b[0m\u001b[0;34m]\u001b[0m\u001b[0;34m)\u001b[0m\u001b[0;34m\u001b[0m\u001b[0;34m\u001b[0m\u001b[0m\n\u001b[0;32m---> 33\u001b[0;31m     \u001b[0mmodel_index\u001b[0m\u001b[0;34m[\u001b[0m\u001b[0mkey\u001b[0m\u001b[0;34m]\u001b[0m\u001b[0;34m=\u001b[0m\u001b[0mmodel_list\u001b[0m\u001b[0;34m[\u001b[0m\u001b[0mkey\u001b[0m\u001b[0;34m]\u001b[0m\u001b[0;34m.\u001b[0m\u001b[0mindex\u001b[0m\u001b[0;34m(\u001b[0m\u001b[0mmodel_name\u001b[0m\u001b[0;34m[\u001b[0m\u001b[0mkey\u001b[0m\u001b[0;34m]\u001b[0m\u001b[0;34m)\u001b[0m \u001b[0;31m## find index of any model you want\u001b[0m\u001b[0;34m\u001b[0m\u001b[0;34m\u001b[0m\u001b[0m\n\u001b[0m",
      "\u001b[0;31mValueError\u001b[0m: 'BCC-CSM2-MR' is not in list"
     ]
    }
   ],
   "source": [
    "keys=['HIST','SSP']\n",
    "\n",
    "direc={key: None for key in keys}\n",
    "\n",
    "direc['HIST']='/neelin2020/CMIP6-HISTORICAL/'\n",
    "direc['SSP']='/neelin2020/CMIP6-SSP585/'\n",
    "\n",
    "ta_dir={'HIST':'tas','SSP':'tas'}  # change the directory name between ta and tas as required \n",
    "ta_ext={'HIST':'tas_3hr','SSP':'tas_3hr'}\n",
    "\n",
    "### Set temperature variable name ###\n",
    "TA_VAR={'HIST':'tas','SSP':'ta'}\n",
    "\n",
    "model_dir={key: [] for key in keys}\n",
    "model_list={key: [] for key in keys}\n",
    "\n",
    "model_index={key: None for key in keys}\n",
    "\n",
    "for key in ['HIST','SSP']:\n",
    "    print(key)\n",
    "    diri=direc[key]\n",
    "    list_temp=(glob(diri+'*'))\n",
    "\n",
    "    for name in list_temp:\n",
    "        temp_name=name.split('/')[-1]\n",
    "        model_list[key].append(temp_name)\n",
    "        model_dir[key].append(diri+temp_name+'/'+ta_dir[key]+'/'+ta_ext[key]+'*')\n",
    "\n",
    "\n",
    "#     model_list[key]=model_list[key][1:] ### neglect the first name, since it is not really a model\n",
    "#     model_dir[key]=model_dir[key][1:] ### neglect the first name, since it is not really a model\n",
    "    print(model_list[key])\n",
    "    model_index[key]=model_list[key].index(model_name[key]) ## find index of any model you want    "
   ]
  },
  {
   "cell_type": "code",
   "execution_count": 19,
   "metadata": {},
   "outputs": [],
   "source": [
    "strt_date={key:None for key in keys}\n",
    "end_date={key:None for key in keys}\n",
    "\n",
    "## Specify start and end dates to extract from for SSP\n",
    "strt_date['SSP']=dt.datetime(2091,1,1)\n",
    "end_date['SSP']=dt.datetime(2100,12,31)\n",
    "\n",
    "## and HIST\n",
    "strt_date['HIST']=dt.datetime(2005,1,1)\n",
    "end_date['HIST']=dt.datetime(2014,12,31)\n",
    "\n",
    "if model_name['HIST'] in ['KACE-1-0-G']:\n",
    "\n",
    "    \n",
    "    strt_date['HIST']=cftime.Datetime360Day(1990, 1, 1, 0)\n",
    "    end_date['HIST']=cftime.Datetime360Day(1999,12,30)\n",
    "    \n",
    "    strt_date['SSP']=cftime.Datetime360Day(2095, 1, 1, 0)\n",
    "    end_date['SSP']=cftime.Datetime360Day(2100,12,30)\n",
    "            \n",
    "\n"
   ]
  },
  {
   "cell_type": "code",
   "execution_count": 20,
   "metadata": {
    "scrolled": false
   },
   "outputs": [
    {
     "ename": "TypeError",
     "evalue": "list indices must be integers or slices, not NoneType",
     "output_type": "error",
     "traceback": [
      "\u001b[0;31m---------------------------------------------------------------------------\u001b[0m",
      "\u001b[0;31mTypeError\u001b[0m                                 Traceback (most recent call last)",
      "\u001b[0;32m<ipython-input-20-a7f338de679f>\u001b[0m in \u001b[0;36m<module>\u001b[0;34m\u001b[0m\n\u001b[1;32m     18\u001b[0m \u001b[0;34m\u001b[0m\u001b[0m\n\u001b[1;32m     19\u001b[0m \u001b[0;32mfor\u001b[0m \u001b[0mkey\u001b[0m \u001b[0;32min\u001b[0m \u001b[0mkeys\u001b[0m\u001b[0;34m:\u001b[0m\u001b[0;34m\u001b[0m\u001b[0;34m\u001b[0m\u001b[0m\n\u001b[0;32m---> 20\u001b[0;31m     \u001b[0mmodel_files\u001b[0m\u001b[0;34m[\u001b[0m\u001b[0mkey\u001b[0m\u001b[0;34m]\u001b[0m\u001b[0;34m=\u001b[0m\u001b[0;34m(\u001b[0m\u001b[0mglob\u001b[0m\u001b[0;34m(\u001b[0m\u001b[0mmodel_dir\u001b[0m\u001b[0;34m[\u001b[0m\u001b[0mkey\u001b[0m\u001b[0;34m]\u001b[0m\u001b[0;34m[\u001b[0m\u001b[0mmodel_index\u001b[0m\u001b[0;34m[\u001b[0m\u001b[0mkey\u001b[0m\u001b[0;34m]\u001b[0m\u001b[0;34m]\u001b[0m\u001b[0;34m)\u001b[0m\u001b[0;34m)\u001b[0m\u001b[0;34m\u001b[0m\u001b[0;34m\u001b[0m\u001b[0m\n\u001b[0m\u001b[1;32m     21\u001b[0m     \u001b[0mta_ds\u001b[0m\u001b[0;34m[\u001b[0m\u001b[0mkey\u001b[0m\u001b[0;34m]\u001b[0m\u001b[0;34m=\u001b[0m\u001b[0mxr\u001b[0m\u001b[0;34m.\u001b[0m\u001b[0mopen_mfdataset\u001b[0m\u001b[0;34m(\u001b[0m\u001b[0mmodel_files\u001b[0m\u001b[0;34m[\u001b[0m\u001b[0mkey\u001b[0m\u001b[0;34m]\u001b[0m\u001b[0;34m)\u001b[0m\u001b[0;34m\u001b[0m\u001b[0;34m\u001b[0m\u001b[0m\n\u001b[1;32m     22\u001b[0m     \u001b[0mfix_datetime\u001b[0m\u001b[0;34m(\u001b[0m\u001b[0mta_ds\u001b[0m\u001b[0;34m[\u001b[0m\u001b[0mkey\u001b[0m\u001b[0;34m]\u001b[0m\u001b[0;34m)\u001b[0m\u001b[0;34m\u001b[0m\u001b[0;34m\u001b[0m\u001b[0m\n",
      "\u001b[0;31mTypeError\u001b[0m: list indices must be integers or slices, not NoneType"
     ]
    }
   ],
   "source": [
    "### fix datetime format ##\n",
    "def fix_datetime(ds):\n",
    "\n",
    "    ### separate datetime fixing for KACE\n",
    "    \n",
    "    if model_name['HIST'] not in ['KACE-1-0-G']:\n",
    "        try:\n",
    "            datetimeindex = ds.indexes['time'].to_datetimeindex()\n",
    "            ds['time'] = datetimeindex\n",
    "        except:\n",
    "            pass\n",
    "\n",
    "\n",
    "model_files={key:None for key in keys}\n",
    "ta_ds={key:None for key in keys}\n",
    "ta_global_mean={key:None for key in keys}\n",
    "\n",
    "\n",
    "for key in keys:\n",
    "    model_files[key]=(glob(model_dir[key][model_index[key]]))\n",
    "    ta_ds[key]=xr.open_mfdataset(model_files[key])\n",
    "    fix_datetime(ta_ds[key])\n",
    "    ta_ds[key].coords['lon'] = (ta_ds[key].coords['lon'] + 180) % 360  - 180\n",
    "    ta_ds[key] = ta_ds[key].sortby(ta_ds[key].lon)\n",
    "    print(ta_ds[key].tas.lon)\n",
    "    \n",
    "    time_slice=slice(strt_date[key],end_date[key])\n",
    "    ## Specify latitudinal bounds to extract\n",
    "    lat_slice=slice(-30,30)\n",
    "    \n",
    "    ta_ds[key]=ta_ds[key].tas.sel(time=time_slice,lat=lat_slice)\n",
    "    "
   ]
  },
  {
   "cell_type": "code",
   "execution_count": 21,
   "metadata": {},
   "outputs": [
    {
     "ename": "AttributeError",
     "evalue": "'NoneType' object has no attribute 'time'",
     "output_type": "error",
     "traceback": [
      "\u001b[0;31m---------------------------------------------------------------------------\u001b[0m",
      "\u001b[0;31mAttributeError\u001b[0m                            Traceback (most recent call last)",
      "\u001b[0;32m<ipython-input-21-039aca4b0739>\u001b[0m in \u001b[0;36m<module>\u001b[0;34m\u001b[0m\n\u001b[0;32m----> 1\u001b[0;31m \u001b[0mprint\u001b[0m\u001b[0;34m(\u001b[0m\u001b[0mta_ds\u001b[0m\u001b[0;34m[\u001b[0m\u001b[0;34m'HIST'\u001b[0m\u001b[0;34m]\u001b[0m\u001b[0;34m.\u001b[0m\u001b[0mtime\u001b[0m\u001b[0;34m,\u001b[0m\u001b[0mta_ds\u001b[0m\u001b[0;34m[\u001b[0m\u001b[0;34m'SSP'\u001b[0m\u001b[0;34m]\u001b[0m\u001b[0;34m.\u001b[0m\u001b[0mtime\u001b[0m\u001b[0;34m)\u001b[0m\u001b[0;34m\u001b[0m\u001b[0;34m\u001b[0m\u001b[0m\n\u001b[0m",
      "\u001b[0;31mAttributeError\u001b[0m: 'NoneType' object has no attribute 'time'"
     ]
    }
   ],
   "source": [
    "print(ta_ds['HIST'].time,ta_ds['SSP'].time)"
   ]
  },
  {
   "cell_type": "markdown",
   "metadata": {},
   "source": [
    "### Read cluster info ###"
   ]
  },
  {
   "cell_type": "code",
   "execution_count": 22,
   "metadata": {},
   "outputs": [
    {
     "data": {
      "text/plain": [
       "['/home/fiaz/cluster_analysis/clusters_output_BCC-CSM2-MR_200201_201412.out']"
      ]
     },
     "execution_count": 22,
     "metadata": {},
     "output_type": "execute_result"
    }
   ],
   "source": [
    "dirc_hist=\"/home/fiaz/cluster_analysis/\"\n",
    "fil_hist=[]\n",
    "for i in model_names_HIST:\n",
    "    fil_hist.append(list(glob(dirc_hist+'clusters_output_'+i+'*'))[0])\n",
    "fil_hist.sort()\n",
    "fil_hist"
   ]
  },
  {
   "cell_type": "code",
   "execution_count": 23,
   "metadata": {},
   "outputs": [],
   "source": [
    "def read_files (dirc,namelist,cluster_dict):\n",
    "    for i in namelist:\n",
    "        file_path=dirc+'clusters_output_'+i+'.out'\n",
    "        print('Reading '+file_path)\n",
    "        file_name=glob(file_path)[0]\n",
    "        with open(file_name, 'rb') as handle:\n",
    "            cluster_dict[i] = pickle.load(handle)\n",
    "    "
   ]
  },
  {
   "cell_type": "code",
   "execution_count": 24,
   "metadata": {},
   "outputs": [],
   "source": [
    "### set the directory names for obs, hist and ssp; same in this case ###\n",
    "dirc_obs=\"/home/fiaz/cluster_analysis/\"\n",
    "dirc_hist=\"/home/fiaz/cluster_analysis/\"\n",
    "dirc_ssp=\"/home/fiaz/cluster_analysis/\"\n",
    "\n",
    "direc_SSP=\"/home/fiaz/cluster_analysis/\"\n",
    "direc_HIST=\"/home/fiaz/cluster_analysis/\"\n",
    "\n",
    "# direc_SSP=\"/home/leilanid/\"\n",
    "# direc_HIST=\"/home/leilanid/Clusters/CMIP6 Files/\""
   ]
  },
  {
   "cell_type": "code",
   "execution_count": 25,
   "metadata": {},
   "outputs": [
    {
     "name": "stdout",
     "output_type": "stream",
     "text": [
      "Reading /home/fiaz/cluster_analysis/clusters_output_TRMM3B42_200201_201412.out\n",
      "Reading /home/fiaz/cluster_analysis/clusters_output_BCC-CSM2-MR_200201_201412.out\n",
      "Reading /home/fiaz/cluster_analysis/clusters_output_SSP585_BCC-CSM2-MR_209101_210012.out\n"
     ]
    }
   ],
   "source": [
    "### read all the info into the cluster_dict ###\n",
    "cluster_dict={}\n",
    "read_files(dirc_obs,obs_name,cluster_dict)\n",
    "read_files(dirc_hist,model_names_HIST,cluster_dict)\n",
    "read_files(dirc_ssp,model_names_SSP,cluster_dict)"
   ]
  },
  {
   "cell_type": "markdown",
   "metadata": {},
   "source": [
    "### Read in a dataset with land-sea separation"
   ]
  },
  {
   "cell_type": "code",
   "execution_count": 31,
   "metadata": {},
   "outputs": [
    {
     "data": {
      "text/plain": [
       "<matplotlib.collections.QuadMesh at 0x7f35e306fcd0>"
      ]
     },
     "execution_count": 31,
     "metadata": {},
     "output_type": "execute_result"
    },
    {
     "data": {
      "image/png": "[encoded data removed]",
      "text/plain": [
       "<Figure size 432x288 with 2 Axes>"
      ]
     },
     "metadata": {
      "needs_background": "light"
     },
     "output_type": "display_data"
    }
   ],
   "source": [
    "ds_lsm=xr.open_dataset('/home/fiaz/MDTF/files/lsmask.oisst.v2.nc')\n",
    "lsm=ds_lsm.lsmask.sel(lat=slice(-30,30))\n",
    "lsm=lsm.squeeze('time')\n",
    "lsm.coords['lon'] = (lsm.coords['lon'] + 180) % 360 - 180\n",
    "lsm = lsm.sortby(lsm.lon)\n",
    "\n",
    "### We see that land=0; ocean=1\n",
    "lsm.plot()\n",
    "# lat=lsm.lat.values\n",
    "# lon=lsm.lon.values\n",
    "\n",
    "# lsm=lsm.values\n"
   ]
  },
  {
   "cell_type": "code",
   "execution_count": 32,
   "metadata": {},
   "outputs": [],
   "source": [
    "# del REGION\n",
    "REGION=lsm.copy(deep=True)\n",
    "lc = REGION.coords[\"lon\"]\n",
    "la = REGION.coords[\"lat\"]\n",
    "\n",
    "##WP\n",
    "REGION.loc[dict(lon=lc[(lc > 115) & (lc < 180)])] = 4\n",
    "\n",
    "##EP\n",
    "REGION.loc[dict(lon=lc[(lc > -180) & (lc < -100)])] = 3\n",
    "REGION.loc[dict(lon=lc[(lc > -100) & (lc < -70)], lat=la[(la > -30) & (la < 10)])] = 3\n",
    "REGION.loc[dict(lon=lc[(lc > -100) & (lc < -85)], lat=la[(la > 10) & (la < 17)])] = 3\n",
    "REGION.loc[dict(lon=lc[(lc > -100) & (lc < -95)], lat=la[(la > 15) & (la < 18)])] = 3\n",
    "\n",
    "\n",
    "\n",
    "## ATL.\n",
    "REGION.loc[dict(lon=lc[(lc > -70) & (lc < 30)])] = 2\n",
    "REGION.loc[dict(lon=lc[(lc > -85) & (lc < -70)],lat=la[(la > 10) & (la < 30)])] = 2\n",
    "REGION.loc[dict(lon=lc[(lc > -98) & (lc < -80)],lat=la[(la > 20) & (la < 30)])] = 2\n",
    "REGION.loc[dict(lon=lc[(lc > -90) & (lc < -80)],lat=la[(la > 16) & (la < 21)])] = 2\n",
    "REGION.loc[dict(lon=lc[(lc > -100) & (lc < -85)],lat=la[(la > 18) & (la < 22)])] = 2\n",
    "\n",
    "\n",
    "\n",
    "##IO\n",
    "REGION.loc[dict(lon=lc[(lc > 30) & (lc < 100)])] = 1\n",
    "\n",
    "\n",
    "# REGION.loc[dict(lon=lc[(lc > -98) & (lc < -80)],lat=la[(la > 20) & (la < 30)])] = 2\n",
    "\n",
    "REGION=REGION.where(lsm>=1)\n",
    "# REGION=REGION.where(REGION>1)\n",
    "REGION=REGION.fillna(0)"
   ]
  },
  {
   "cell_type": "code",
   "execution_count": 33,
   "metadata": {},
   "outputs": [],
   "source": [
    "### REGIONS: 5- IO, 4-WP, 3-EP, 2-AT, 1-Unclassified"
   ]
  },
  {
   "cell_type": "code",
   "execution_count": 34,
   "metadata": {},
   "outputs": [
    {
     "data": {
      "text/plain": [
       "<matplotlib.collections.QuadMesh at 0x7f35e2f4d4c0>"
      ]
     },
     "execution_count": 34,
     "metadata": {},
     "output_type": "execute_result"
    },
    {
     "data": {
      "image/png": "[encoded data removed]",
      "text/plain": [
       "<Figure size 432x288 with 2 Axes>"
      ]
     },
     "metadata": {
      "needs_background": "light"
     },
     "output_type": "display_data"
    }
   ],
   "source": [
    "REGION.plot()"
   ]
  },
  {
   "cell_type": "code",
   "execution_count": 35,
   "metadata": {},
   "outputs": [],
   "source": [
    "def generate_region_mask(region_ds, ds):\n",
    "        '''\n",
    "        Function adopted from Y-H Kuo's version\n",
    "        '''\n",
    "\n",
    "        print(\"...generating region mask...\"),\n",
    "\n",
    "        # Load & Pre-process Region Mask\n",
    "        region=region_ds.values\n",
    "        lat_m=region_ds.lat.values\n",
    "        lon_m=region_ds.lon.values\n",
    "        lon_m=np.append(lon_m,lon_m[0]+360)\n",
    "        lon_m=np.insert(lon_m,0,lon_m[-2]-360)\n",
    "        temp=region[:,0][:,None]\n",
    "        region=np.concatenate((region,region[:,0][:,None]),axis=1)\n",
    "        temp=region[:,-2][:,None]\n",
    "        region=np.concatenate((region[:,-2][:,None],region),axis=1)\n",
    "        \n",
    "        LON,LAT=np.meshgrid(lon_m,lat_m,sparse=False,indexing=\"xy\")\n",
    "        LAT=np.reshape(LAT,(-1,1))\n",
    "        LON=np.reshape(LON,(-1,1))\n",
    "        REGION=np.reshape(region,(-1,1))\n",
    "        LATLON=np.squeeze(np.array((LAT,LON)))\n",
    "        LATLON=LATLON.transpose()\n",
    "\n",
    "        regMaskInterpolator=NearestNDInterpolator(LATLON,REGION)\n",
    "\n",
    "        # Interpolate Region Mask onto Model Grid using Nearest Grid Value\n",
    "        lon=np.copy(ds.lon.values)\n",
    "        lat=np.copy(ds.lat.values)\n",
    "        \n",
    "        LAT,LON=np.meshgrid(lat,lon,sparse=False,indexing=\"xy\")\n",
    "        LAT=np.reshape(LAT,(-1,1))\n",
    "        LON=np.reshape(LON,(-1,1))\n",
    "        LATLON=np.squeeze(np.array((LAT,LON)))\n",
    "        LATLON=LATLON.transpose()\n",
    "        REGION=np.zeros(LAT.size)\n",
    "        for latlon_idx in np.arange(REGION.shape[0]):\n",
    "            REGION[latlon_idx]=regMaskInterpolator(LATLON[latlon_idx,:])\n",
    "        REGION=np.reshape(REGION.astype(int),(-1,lat.size))\n",
    "\n",
    "        print(\"...Generated!\")\n",
    "\n",
    "        return REGION"
   ]
  },
  {
   "cell_type": "code",
   "execution_count": 36,
   "metadata": {},
   "outputs": [
    {
     "name": "stdout",
     "output_type": "stream",
     "text": [
      "...generating region mask...\n"
     ]
    },
    {
     "ename": "AttributeError",
     "evalue": "'NoneType' object has no attribute 'lon'",
     "output_type": "error",
     "traceback": [
      "\u001b[0;31m---------------------------------------------------------------------------\u001b[0m",
      "\u001b[0;31mAttributeError\u001b[0m                            Traceback (most recent call last)",
      "\u001b[0;32m<ipython-input-36-d5460c2ae6b4>\u001b[0m in \u001b[0;36m<module>\u001b[0;34m\u001b[0m\n\u001b[0;32m----> 1\u001b[0;31m \u001b[0mREGION_MODEL\u001b[0m\u001b[0;34m=\u001b[0m\u001b[0mgenerate_region_mask\u001b[0m\u001b[0;34m(\u001b[0m\u001b[0mREGION\u001b[0m\u001b[0;34m,\u001b[0m \u001b[0mta_ds\u001b[0m\u001b[0;34m[\u001b[0m\u001b[0;34m'HIST'\u001b[0m\u001b[0;34m]\u001b[0m\u001b[0;34m)\u001b[0m\u001b[0;34m\u001b[0m\u001b[0;34m\u001b[0m\u001b[0m\n\u001b[0m\u001b[1;32m      2\u001b[0m \u001b[0;34m\u001b[0m\u001b[0m\n\u001b[1;32m      3\u001b[0m lsm_model = xr.DataArray(\n\u001b[1;32m      4\u001b[0m      \u001b[0mdata\u001b[0m\u001b[0;34m=\u001b[0m\u001b[0mREGION_MODEL\u001b[0m\u001b[0;34m.\u001b[0m\u001b[0mT\u001b[0m\u001b[0;34m,\u001b[0m\u001b[0;34m\u001b[0m\u001b[0;34m\u001b[0m\u001b[0m\n\u001b[1;32m      5\u001b[0m      \u001b[0mdims\u001b[0m\u001b[0;34m=\u001b[0m\u001b[0;34m[\u001b[0m\u001b[0;34m\"lat\"\u001b[0m\u001b[0;34m,\u001b[0m \u001b[0;34m\"lon\"\u001b[0m\u001b[0;34m]\u001b[0m\u001b[0;34m,\u001b[0m\u001b[0;34m\u001b[0m\u001b[0;34m\u001b[0m\u001b[0m\n",
      "\u001b[0;32m<ipython-input-35-ace6911ea28a>\u001b[0m in \u001b[0;36mgenerate_region_mask\u001b[0;34m(region_ds, ds)\u001b[0m\n\u001b[1;32m     27\u001b[0m \u001b[0;34m\u001b[0m\u001b[0m\n\u001b[1;32m     28\u001b[0m         \u001b[0;31m# Interpolate Region Mask onto Model Grid using Nearest Grid Value\u001b[0m\u001b[0;34m\u001b[0m\u001b[0;34m\u001b[0m\u001b[0;34m\u001b[0m\u001b[0m\n\u001b[0;32m---> 29\u001b[0;31m         \u001b[0mlon\u001b[0m\u001b[0;34m=\u001b[0m\u001b[0mnp\u001b[0m\u001b[0;34m.\u001b[0m\u001b[0mcopy\u001b[0m\u001b[0;34m(\u001b[0m\u001b[0mds\u001b[0m\u001b[0;34m.\u001b[0m\u001b[0mlon\u001b[0m\u001b[0;34m.\u001b[0m\u001b[0mvalues\u001b[0m\u001b[0;34m)\u001b[0m\u001b[0;34m\u001b[0m\u001b[0;34m\u001b[0m\u001b[0m\n\u001b[0m\u001b[1;32m     30\u001b[0m         \u001b[0mlat\u001b[0m\u001b[0;34m=\u001b[0m\u001b[0mnp\u001b[0m\u001b[0;34m.\u001b[0m\u001b[0mcopy\u001b[0m\u001b[0;34m(\u001b[0m\u001b[0mds\u001b[0m\u001b[0;34m.\u001b[0m\u001b[0mlat\u001b[0m\u001b[0;34m.\u001b[0m\u001b[0mvalues\u001b[0m\u001b[0;34m)\u001b[0m\u001b[0;34m\u001b[0m\u001b[0;34m\u001b[0m\u001b[0m\n\u001b[1;32m     31\u001b[0m \u001b[0;34m\u001b[0m\u001b[0m\n",
      "\u001b[0;31mAttributeError\u001b[0m: 'NoneType' object has no attribute 'lon'"
     ]
    }
   ],
   "source": [
    "REGION_MODEL=generate_region_mask(REGION, ta_ds['HIST'])\n",
    "\n",
    "lsm_model = xr.DataArray(\n",
    "     data=REGION_MODEL.T,\n",
    "     dims=[\"lat\", \"lon\"],\n",
    "     coords=dict(\n",
    "         lon=(ta_ds['HIST'].lon),\n",
    "         lat=(ta_ds['HIST'].lat),\n",
    "     ),\n",
    "     attrs=dict(\n",
    "         description=\"Region Mask 0-Land, 1-IO, 2-ATL, 3-EPAC, 4-WPAC \"\n",
    "     ),)"
   ]
  },
  {
   "cell_type": "code",
   "execution_count": 234,
   "metadata": {},
   "outputs": [
    {
     "data": {
      "text/plain": [
       "<matplotlib.collections.QuadMesh at 0x7fc8c3ae42e0>"
      ]
     },
     "execution_count": 234,
     "metadata": {},
     "output_type": "execute_result"
    },
    {
     "data": {
      "image/png": "[encoded data removed]",
      "text/plain": [
       "<Figure size 432x288 with 2 Axes>"
      ]
     },
     "metadata": {
      "needs_background": "light"
     },
     "output_type": "display_data"
    }
   ],
   "source": [
    "lsm_model.plot()"
   ]
  },
  {
   "cell_type": "markdown",
   "metadata": {},
   "source": [
    "### Specify files to compare ###\n",
    "As an example, we will just compare the historical model outputs to SSP585 <br>"
   ]
  },
  {
   "cell_type": "markdown",
   "metadata": {},
   "source": [
    "### Set thresholds to compare ###\n",
    "#### default is set to 1 mm/hr; change to other thresholds to play around"
   ]
  },
  {
   "cell_type": "code",
   "execution_count": 26,
   "metadata": {},
   "outputs": [
    {
     "data": {
      "text/plain": [
       "[1.0]"
      ]
     },
     "execution_count": 26,
     "metadata": {},
     "output_type": "execute_result"
    }
   ],
   "source": [
    "### get list of precip. thresholds ###\n",
    "pthresh_list_full=list(cluster_dict[model_names_HIST[0]]['hist_pcp_sizes'].keys())\n",
    "pthresh_ix=pthresh_list_full.index(1.0)  ### change to 1.0, 0.75, 0.50, 0.25\n",
    "pthresh_list=pthresh_list_full[pthresh_ix:pthresh_ix+1]\n",
    "pthresh_list"
   ]
  },
  {
   "cell_type": "code",
   "execution_count": 27,
   "metadata": {},
   "outputs": [],
   "source": [
    "nthresh=25\n",
    "\n",
    "def extract_grid_info(dict_input):\n",
    "    \n",
    "    sizes=dict_input['sizes']\n",
    "    sz=(sizes[:-1]+sizes[1:])*0.5\n",
    "    sz_diff=np.diff(sizes)   \n",
    "    \n",
    "    precip_cluster_power_scale=dict_input['precip_cluster_power_scale']\n",
    "    pcp_clus_pow_bins=sizes*precip_cluster_power_scale*0.5\n",
    "    pcp_clust_sz=(pcp_clus_pow_bins[:-1]+pcp_clus_pow_bins[1:])*0.5\n",
    "    \n",
    "    pcp_clust_sz_diff=np.diff(pcp_clus_pow_bins)\n",
    "\n",
    "    power_scale=dict_input['precip_cluster_power_scale']\n",
    "    pixels_to_area=dict_input['pixels_to_area']\n",
    "\n",
    "    return sz,pcp_clust_sz,sz_diff,pcp_clust_sz_diff,power_scale,pixels_to_area\n",
    "\n",
    "\n",
    "\n",
    "def extract_com_info(cluster_dict,pthresh):\n",
    "    cluster_centroid_coords=cluster_dict['cluster_centroid_coords'][pthresh]\n",
    "    return  cluster_centroid_coords     \n",
    "\n",
    "def shift_pdf(pdf, ref_pdf, xval, ref_xval, offsets, second_shift ):\n",
    "    ind_max=np.nanargmax(pdf)\n",
    "    xmax=xval[ind_max]\n",
    "    ind_ref_max=np.argmin(abs(ref_xval-xmax))\n",
    "    first_shift=ref_pdf[ind_ref_max]/pdf[ind_max]    \n",
    "    shifted_pdf=pdf*first_shift*second_shift\n",
    "    offsets=offsets*first_shift*second_shift\n",
    "    return shifted_pdf,offsets\n",
    "    \n",
    "\n",
    "def wilson_score(ns,n,alpha):\n",
    "    \n",
    "        '''\n",
    "        Here ns is the number of sucesses in a Bernoulli Trial, i.e., the number of samples in a given bin\n",
    "        n is the number of Bernoulli trials, i.e., the number of samples overall\n",
    "        alpha is the percent of confidence interval (e.g. 5%)\n",
    "        '''        \n",
    "        z=norm.ppf(alpha/2) ## get the probit of the confidence interval\n",
    "#         err_upper=(ns/n)+z*np.sqrt(ns*(n-ns))/(n*np.sqrt(n))\n",
    "#         err_lower=(ns/n-z)*np.sqrt(ns*(n-ns))/(n*np.sqrt(n))\n",
    "    \n",
    "        err_upper=(ns+0.5*z**2)/(n+z**2)+z/(n+z**2)*np.sqrt(ns*(n-ns)/n+z**2/4)\n",
    "        err_lower=(ns+0.5*z**2)/(n+z**2)-z/(n+z**2)*np.sqrt(ns*(n-ns)/n+z**2/4)\n",
    "\n",
    "        return err_lower, err_upper\n",
    "\n",
    "def get_errors(hist, pdf, diff, alpha):\n",
    "\n",
    "    error_lower,error_upper=wilson_score(hist,hist.sum(),alpha)\n",
    "    error=np.array((error_lower/diff,error_upper/diff))\n",
    "    offsets=abs(pdf-error)## create error bars\n",
    "    \n",
    "    return offsets\n",
    "    "
   ]
  },
  {
   "cell_type": "code",
   "execution_count": 28,
   "metadata": {},
   "outputs": [],
   "source": [
    "def compute_regional_pdfs(cluster_dict,pthresh,centroid_info, region_mask, lsm):\n",
    "    \n",
    "    hist_pcp_sizes={}\n",
    "    hist_pcp_clust_pow={}\n",
    "    \n",
    "    hist_pcp_clust_size_pdf={}\n",
    "    hist_pcp_clust_pow_pdf={}\n",
    "    \n",
    "    pcp_sizes={}\n",
    "    pcp_power={}\n",
    "    \n",
    "    sz={}\n",
    "    pcp_clust_sz={}\n",
    "    sz_diff={}\n",
    "    pcp_clust_sz_diff={}\n",
    "    power_scale={}\n",
    "    pixels_to_area={}\n",
    "    am={}\n",
    "    cm={}\n",
    "    \n",
    "    lat=lsm.lat.values\n",
    "    lon=lsm.lon.values\n",
    "    lsm_vals=lsm.values\n",
    "        \n",
    "    lat_indx=np.int_((centroid_info[0,:]-(lat[0]))/np.diff(lat)[0])\n",
    "    lon_indx=np.int_((centroid_info[1,:]-(lon[0]))/np.diff(lon)[0])\n",
    "    lsm_region=lsm_vals[lat_indx,lon_indx]\n",
    "    lsm_region=lsm_vals[lat_indx,lon_indx]\n",
    "    ind_region=np.where(lsm_region==region_mask)[0]\n",
    "    \n",
    "    ### Read power and size\n",
    "    \n",
    "    pcp_sizes=cluster_dict['pcp_sizes'][pthresh][ind_region]\n",
    "    pcp_power=cluster_dict['pcp_power'][pthresh][ind_region]\n",
    "    \n",
    "    ### Get grid information\n",
    "        \n",
    "    sz,pcp_clust_sz,sz_diff,pcp_clust_sz_diff,power_scale, pixels_to_area=extract_grid_info(cluster_dict)\n",
    "\n",
    "    hist_pcp_sizes=np.histogram(pcp_sizes,\n",
    "                                bins=cluster_dict['sizes'])[0]\n",
    "    \n",
    "    hist_pcp_clust_pow=np.histogram(pcp_power,\n",
    "                                bins=cluster_dict['sizes']*cluster_dict['precip_cluster_power_scale'])[0]\n",
    "    \n",
    "    \n",
    "    hist_pcp_clust_size_pdf=hist_pcp_sizes/(sz_diff*hist_pcp_sizes.sum())\n",
    "    hist_pcp_clust_size_pdf[hist_pcp_sizes<nthresh]=np.nan\n",
    "\n",
    "    hist_pcp_clust_pow_pdf=hist_pcp_clust_pow/(pcp_clust_sz_diff*hist_pcp_clust_pow.sum())\n",
    "    hist_pcp_clust_pow_pdf[hist_pcp_clust_pow==0]=np.nan\n",
    "\n",
    "    am=np.mean(pcp_sizes**2)*pixels_to_area/np.mean(pcp_sizes)\n",
    "    cm=np.mean(pcp_power**2)/np.mean(pcp_power)\n",
    "    sz_scaled=sz*pixels_to_area\n",
    "        \n",
    "    return hist_pcp_sizes, hist_pcp_clust_pow, hist_pcp_clust_size_pdf, hist_pcp_clust_pow_pdf, am, cm, sz_scaled, pcp_clust_sz, sz_diff,pcp_clust_sz_diff"
   ]
  },
  {
   "cell_type": "code",
   "execution_count": 29,
   "metadata": {},
   "outputs": [],
   "source": [
    "### REGIONS: 0-Land; 1- IO; 2-AT; 3-EP; 4-WP; \n",
    "region_name={}\n",
    "region_name[0]='Land'\n",
    "region_name[1]='IO'\n",
    "region_name[2]='Atl.'\n",
    "region_name[3]='EPac.'\n",
    "region_name[4]='WPac.'"
   ]
  },
  {
   "cell_type": "code",
   "execution_count": 30,
   "metadata": {},
   "outputs": [
    {
     "ename": "NameError",
     "evalue": "name 'REGION' is not defined",
     "output_type": "error",
     "traceback": [
      "\u001b[0;31m---------------------------------------------------------------------------\u001b[0m",
      "\u001b[0;31mNameError\u001b[0m                                 Traceback (most recent call last)",
      "\u001b[0;32m<ipython-input-30-d0ac306febeb>\u001b[0m in \u001b[0;36m<module>\u001b[0;34m\u001b[0m\n\u001b[1;32m     13\u001b[0m     \u001b[0;32mfor\u001b[0m \u001b[0mkey\u001b[0m \u001b[0;32min\u001b[0m \u001b[0mobs_name\u001b[0m\u001b[0;34m:\u001b[0m\u001b[0;34m\u001b[0m\u001b[0;34m\u001b[0m\u001b[0m\n\u001b[1;32m     14\u001b[0m         \u001b[0mcentroid_info\u001b[0m\u001b[0;34m[\u001b[0m\u001b[0mkey\u001b[0m\u001b[0;34m]\u001b[0m\u001b[0;34m=\u001b[0m\u001b[0mextract_com_info\u001b[0m\u001b[0;34m(\u001b[0m\u001b[0mcluster_dict\u001b[0m\u001b[0;34m[\u001b[0m\u001b[0mkey\u001b[0m\u001b[0;34m]\u001b[0m\u001b[0;34m,\u001b[0m\u001b[0mpthresh_list\u001b[0m\u001b[0;34m[\u001b[0m\u001b[0;36m0\u001b[0m\u001b[0;34m]\u001b[0m\u001b[0;34m)\u001b[0m\u001b[0;34m\u001b[0m\u001b[0;34m\u001b[0m\u001b[0m\n\u001b[0;32m---> 15\u001b[0;31m         \u001b[0mret\u001b[0m\u001b[0;34m=\u001b[0m\u001b[0mcompute_regional_pdfs\u001b[0m\u001b[0;34m(\u001b[0m\u001b[0mcluster_dict\u001b[0m\u001b[0;34m[\u001b[0m\u001b[0mkey\u001b[0m\u001b[0;34m]\u001b[0m\u001b[0;34m,\u001b[0m\u001b[0mpthresh_list\u001b[0m\u001b[0;34m[\u001b[0m\u001b[0;36m0\u001b[0m\u001b[0;34m]\u001b[0m\u001b[0;34m,\u001b[0m\u001b[0mcentroid_info\u001b[0m\u001b[0;34m[\u001b[0m\u001b[0mkey\u001b[0m\u001b[0;34m]\u001b[0m\u001b[0;34m,\u001b[0m\u001b[0mregion_mask\u001b[0m\u001b[0;34m,\u001b[0m\u001b[0mREGION\u001b[0m\u001b[0;34m)\u001b[0m\u001b[0;34m\u001b[0m\u001b[0;34m\u001b[0m\u001b[0m\n\u001b[0m\u001b[1;32m     16\u001b[0m         \u001b[0mref_hist_sizes\u001b[0m\u001b[0;34m[\u001b[0m\u001b[0mregion_mask\u001b[0m\u001b[0;34m]\u001b[0m\u001b[0;34m,\u001b[0m \u001b[0mref_hist_pow\u001b[0m\u001b[0;34m[\u001b[0m\u001b[0mregion_mask\u001b[0m\u001b[0;34m]\u001b[0m\u001b[0;34m,\u001b[0m \u001b[0mref_size_pdf\u001b[0m\u001b[0;34m[\u001b[0m\u001b[0mregion_mask\u001b[0m\u001b[0;34m]\u001b[0m\u001b[0;34m,\u001b[0m \u001b[0mref_power_pdf\u001b[0m\u001b[0;34m[\u001b[0m\u001b[0mregion_mask\u001b[0m\u001b[0;34m]\u001b[0m\u001b[0;34m,\u001b[0m \u001b[0mref_am\u001b[0m\u001b[0;34m[\u001b[0m\u001b[0mregion_mask\u001b[0m\u001b[0;34m]\u001b[0m\u001b[0;34m,\u001b[0m \u001b[0mref_cm\u001b[0m\u001b[0;34m[\u001b[0m\u001b[0mregion_mask\u001b[0m\u001b[0;34m]\u001b[0m\u001b[0;34m,\u001b[0m \u001b[0mref_sz_scaled\u001b[0m\u001b[0;34m[\u001b[0m\u001b[0mregion_mask\u001b[0m\u001b[0;34m]\u001b[0m\u001b[0;34m,\u001b[0m \u001b[0mref_pow_scaled\u001b[0m\u001b[0;34m[\u001b[0m\u001b[0mregion_mask\u001b[0m\u001b[0;34m]\u001b[0m\u001b[0;34m,\u001b[0m \u001b[0msz_diff\u001b[0m\u001b[0;34m,\u001b[0m \u001b[0mpcp_clust_sz_diff\u001b[0m\u001b[0;34m=\u001b[0m\u001b[0mret\u001b[0m\u001b[0;34m\u001b[0m\u001b[0;34m\u001b[0m\u001b[0m\n",
      "\u001b[0;31mNameError\u001b[0m: name 'REGION' is not defined"
     ]
    }
   ],
   "source": [
    "ref_hist_sizes={}\n",
    "ref_hist_pow={}\n",
    "ref_size_pdf={}\n",
    "ref_power_pdf={}\n",
    "ref_am={}\n",
    "ref_cm={}\n",
    "ref_sz_scaled={}\n",
    "ref_pow_scaled={}\n",
    "centroid_info={}\n",
    "\n",
    "### REGIONS: 1- IO, 2-ATL 3-EP, 4-WP, 0-Land\n",
    "for region_mask in range(0,5):\n",
    "    for key in obs_name:\n",
    "        centroid_info[key]=extract_com_info(cluster_dict[key],pthresh_list[0])\n",
    "        ret=compute_regional_pdfs(cluster_dict[key],pthresh_list[0],centroid_info[key],region_mask,REGION)\n",
    "        ref_hist_sizes[region_mask], ref_hist_pow[region_mask], ref_size_pdf[region_mask], ref_power_pdf[region_mask], ref_am[region_mask], ref_cm[region_mask], ref_sz_scaled[region_mask], ref_pow_scaled[region_mask], sz_diff, pcp_clust_sz_diff=ret \n"
   ]
  },
  {
   "cell_type": "markdown",
   "metadata": {},
   "source": [
    "### Plot PDFS ###"
   ]
  },
  {
   "cell_type": "code",
   "execution_count": 241,
   "metadata": {},
   "outputs": [],
   "source": [
    "### set colors (same size as data keys)\n",
    "colors=['black','red','green','orange']\n",
    "data_keys=obs_name+model_names_HIST"
   ]
  },
  {
   "cell_type": "markdown",
   "metadata": {},
   "source": [
    "#### We will artificially shift the each pdf by a factor  of (default=$10^{-2}$) for visual clarity"
   ]
  },
  {
   "cell_type": "code",
   "execution_count": 242,
   "metadata": {},
   "outputs": [
    {
     "data": {
      "text/plain": [
       "['TRMM3B42_200201_201412', 'BCC-CSM2-MR_200201_201412']"
      ]
     },
     "execution_count": 242,
     "metadata": {},
     "output_type": "execute_result"
    }
   ],
   "source": [
    "data_keys"
   ]
  },
  {
   "cell_type": "code",
   "execution_count": 243,
   "metadata": {},
   "outputs": [],
   "source": [
    "shift_factor=-3 ### shift is 1e-2\n",
    "shifts={}\n",
    "color_dicts={}\n",
    "for i,j in enumerate(data_keys):\n",
    "    color_dicts[j]=colors[i]\n",
    "    shifts[j]=10**(shift_factor*i)"
   ]
  },
  {
   "cell_type": "code",
   "execution_count": 244,
   "metadata": {},
   "outputs": [],
   "source": [
    "def prep_pdf(hist, pdf, pdf_diff, ref_pdf, xvar, ref_xvar, shift):\n",
    "    offsets=get_errors(hist, pdf, pdf_diff, alpha)\n",
    "    pdf,offsets=shift_pdf(pdf, ref_pdf, xvar, ref_xvar, offsets, shift)\n",
    "    pdf[hist<nthresh]=np.nan\n",
    "    return pdf, offsets\n",
    "\n",
    "def fit_power_law_slope(xvar,ypdf,istrt,iend,thresh,plot_type='loglog'):\n",
    "    ### Use the slope and intercept from the linear regression to create the straight line ###\n",
    "\n",
    "    if plot_type=='loglog':\n",
    "        arrx,arry=np.log10(xvar),np.log10(ypdf)\n",
    "        arrx_fin,arry_fin=arrx[np.logical_and(arrx>istrt,arrx<iend)],arry[np.logical_and(arrx>istrt,arrx<iend)]\n",
    "        ret=linregress(arrx_fin[np.isfinite(arry_fin)],arry_fin[np.isfinite(arry_fin)])\n",
    "        pdf_fit=((xvar)**(ret[0]))*(10**(ret[1]))\n",
    "        \n",
    "        ## Remove portions of the straight line that extend too far beyond the cutoff\n",
    "        pdf_fit[xvar>thresh]=np.nan \n",
    "        return pdf_fit\n",
    "        \n",
    "    elif plot_type=='logylinearx':\n",
    "        arrx,arry=xvar,np.log10(ypdf)\n",
    "        arrx_fin,arry_fin=arrx[np.logical_and(arrx>istrt,arrx<iend)],arry[np.logical_and(arrx>istrt,arrx<iend)]\n",
    "        ret=linregress(arrx_fin[np.isfinite(arry_fin)],arry_fin[np.isfinite(arry_fin)])\n",
    "        pdf_fit=10**(xvar*ret[0]+ret[1])\n",
    "        pdf_fit[xvar>thresh]=np.nan \n",
    "        sL=-1./(ret[0]*np.log(10))\n",
    "        return pdf_fit,sL\n"
   ]
  },
  {
   "cell_type": "code",
   "execution_count": 245,
   "metadata": {},
   "outputs": [],
   "source": [
    "### Some user defined parameters ###\n",
    "nthresh=10 #Discard bins with fewer than nthresh samples\n",
    "istrt_sz,iend_sz=2.0,5.0 ## the power law range for size (10^3 to 10^5)\n",
    "istrt_pow,iend_pow=3.0,5.0 ### set a ballpark range for the power law, so the straight line fit is over that range\n",
    "\n",
    "title_fontsize=14\n",
    "xlabel_fontsize=16.5\n",
    "ylabel_fontsize=16.5\n",
    "\n",
    "## x and yaxis limits for cluster size\n",
    "xlim_sz=[1e2,1e7] \n",
    "ylim_sz=[1e-25,1e0] ##\n",
    "\n",
    "## x and yaxis limits for cluster power\n",
    "xlim_pow=[5e2,1.0e8] ##\n",
    "ylim_pow=[1e-28,1e-1] ##\n",
    "\n",
    "## threshold legend font size\n",
    "leg_fontsize=12.5\n",
    "\n",
    "## moment ratio * power law slope font size\n",
    "leg1_fontsize=13.5\n",
    "\n",
    "## ticklabel font size\n",
    "ticks_fontsize=14\n",
    "\n",
    "### legend location ###\n",
    "leg_loc=(.5, .65)\n",
    "\n",
    "### errorbar options ###\n",
    "errorbar=True\n",
    "alpha=0.05"
   ]
  },
  {
   "cell_type": "code",
   "execution_count": 246,
   "metadata": {},
   "outputs": [],
   "source": [
    "def compute_plot_region_pdf(ax1,ax2,model_name,dict_input,pthresh,region_mask,\n",
    "                            REGION, shift,marker_color, plot_fit, ln1, cutoff_list, annotate_region=False,\n",
    "                            plot_type='loglog', get_legend=False):\n",
    "    \n",
    "        centroid_info=extract_com_info(dict_input,pthresh)\n",
    "        ret=compute_regional_pdfs(dict_input,pthresh,centroid_info,region_mask,REGION) \n",
    "        histogram_size, histogram_pow, size_pdf, power_pdf, am, cm, sz_scaled, pcp_clust_sz, sz_diff, pcp_clust_sz_diff=ret\n",
    "\n",
    "\n",
    "        size_pdf,offsets_sz=prep_pdf(histogram_size,\n",
    "             size_pdf, sz_diff, ref_size_pdf[region_mask], sz_scaled, ref_sz_scaled[region_mask], shift)\n",
    "\n",
    "        power_pdf,offsets_pow=prep_pdf(histogram_pow,\n",
    "                 power_pdf, pcp_clust_sz_diff, ref_power_pdf[region_mask], pcp_clust_sz, ref_pow_scaled[region_mask], shift)\n",
    "        \n",
    "        ### there are the start and end of the power law range: adjust according to eye ###\n",
    "\n",
    "        if plot_type=='loglog':\n",
    "        \n",
    "            ax1.loglog(sz_scaled,size_pdf,marker='*',\n",
    "                                c=marker_color,markersize=5)\n",
    "            if get_legend:\n",
    "            \n",
    "                ln1[region_mask]=ax1.errorbar(sz_scaled, size_pdf, yerr=offsets_sz,fmt='*',\n",
    "                                    c=marker_color,markersize=5,capsize=2.25)\n",
    "\n",
    "            else:\n",
    "                ax1.errorbar(sz_scaled, size_pdf, yerr=offsets_sz,fmt='*',\n",
    "                    c=marker_color,markersize=5,capsize=2.25)\n",
    "                \n",
    "            if annotate_region:\n",
    "                ax1.text(xlim_sz[0]*1.25,np.nanmax(ref_size_pdf[region_mask][20]*shift),\n",
    "                         '%s'%(region_name[region_mask]),transform=ax1.transData,fontsize=13)\n",
    "\n",
    "            ax2.loglog(pcp_clust_sz, power_pdf, marker='*',c=marker_color,markersize=5)\n",
    "            ax2.errorbar(pcp_clust_sz, power_pdf, yerr=offsets_pow, fmt='*',\n",
    "                                c=marker_color,markersize=5,capsize=2.25)\n",
    "\n",
    "            ### The straight line fit to the power law range ###\n",
    "            ### select portions of the curve bounded by the power law range ###\n",
    "            pdf_pcp_sizes=fit_power_law_slope(sz_scaled,size_pdf,istrt_sz,iend_sz,5e6)\n",
    "            pdf_pcp_pow=fit_power_law_slope(pcp_clust_sz,power_pdf,istrt_pow,iend_pow,1e7)\n",
    "        \n",
    "            if plot_fit:\n",
    "                ax1.loglog(sz_scaled,pdf_pcp_sizes*1e0,linestyle='--',c=color_dicts[key])\n",
    "                ax2.loglog(pcp_clust_sz,pdf_pcp_pow*1e0,linestyle='--',c=color_dicts[key])\n",
    "                \n",
    "        elif plot_type=='logylinearx':\n",
    "            \n",
    "            aL,cL=cutoff_list[0],cutoff_list[1]\n",
    "\n",
    "            ax1.semilogy(sz_scaled,size_pdf,marker='*',\n",
    "                                c=marker_color,markersize=5)\n",
    "            if get_legend:\n",
    "                ln1[region_mask]=ax1.errorbar(sz_scaled, size_pdf, yerr=offsets_sz,fmt='*',\n",
    "                                    c=marker_color,markersize=5,capsize=2.25)\n",
    "\n",
    "            else:\n",
    "                ax1.errorbar(sz_scaled, size_pdf, yerr=offsets_sz,fmt='*',\n",
    "                                    c=marker_color,markersize=5,capsize=2.25)\n",
    "                \n",
    "            if annotate_region:\n",
    "\n",
    "                ax1.text(xlim_sz[-1]*0.75,np.nanmax(ref_size_pdf[4][30]*shift*10**-2),\n",
    "                         '%s'%(region_name[region_mask]),transform=ax1.transData,fontsize=13)\n",
    "\n",
    "\n",
    "            ax2.semilogy(pcp_clust_sz, power_pdf, marker='*',c=marker_color,markersize=5)\n",
    "            ax2.errorbar(pcp_clust_sz, power_pdf, yerr=offsets_pow, fmt='*',\n",
    "                                c=marker_color,markersize=5,capsize=2.25)\n",
    "            \n",
    "            pdf_pcp_sizes,aL[region_mask]=fit_power_law_slope(sz_scaled,size_pdf,istrt_sz,iend_sz,iend_sz,'logylinearx')\n",
    "            pdf_pcp_pow,cL[region_mask]=fit_power_law_slope(pcp_clust_sz,power_pdf,istrt_pow[region_mask],iend_pow[region_mask],\n",
    "                                                            iend_pow[region_mask],'logylinearx')\n",
    "            \n",
    "            if plot_fit:\n",
    "            \n",
    "                ax1.semilogy(sz_scaled,pdf_pcp_sizes,linestyle='--',c=marker_color)\n",
    "                ax2.semilogy(pcp_clust_sz,pdf_pcp_pow,linestyle='--',c=marker_color)\n",
    "                \n",
    "        \n",
    "        return pdf_pcp_sizes,pdf_pcp_pow\n"
   ]
  },
  {
   "cell_type": "code",
   "execution_count": 247,
   "metadata": {},
   "outputs": [],
   "source": [
    "### set colors for each region\n",
    "region_colors={0:'magenta',1:'green',2:'orange',3:'cyan',4:'black'}"
   ]
  },
  {
   "cell_type": "code",
   "execution_count": 248,
   "metadata": {},
   "outputs": [
    {
     "name": "stdout",
     "output_type": "stream",
     "text": [
      "TRMM3B42_200201_201412 []\n",
      "BCC-CSM2-MR_200201_201412 ['SSP585_BCC-CSM2-MR_209101_210012']\n",
      "plot saved as ./regional_pdfs_BCC-CSM2-MR_200201_201412_SSP585_BCC-CSM2-MR_209101_210012_1.0.pdf\n"
     ]
    },
    {
     "data": {
      "image/png": "[encoded data removed]",
      "text/plain": [
       "<Figure size 792x288 with 2 Axes>"
      ]
     },
     "metadata": {
      "needs_background": "light"
     },
     "output_type": "display_data"
    }
   ],
   "source": [
    "cutoff_list=[]\n",
    "### set the plot specs:\n",
    "### size\n",
    "fig=plt.figure(figsize=(11,4.))\n",
    "## grid: 1 row , 2 colum plot\n",
    "gs = gridspec.GridSpec(1, 2)\n",
    "## assign separate name for each axis\n",
    "ax1 = plt.subplot(gs[0, 0])\n",
    "ax2 = plt.subplot(gs[0, 1])\n",
    "\n",
    "plot_type='loglog'\n",
    "### create empty dictionaries to hold the legends \n",
    "ln1={}\n",
    "ln2={}\n",
    "\n",
    "### positions for some of the text on the plot\n",
    "posy=[ 0.85, 0.9, 0.95, 0.725, .8, .875 ]\n",
    "posx=[.65, 0.65, 0.65, .4, .4 ]\n",
    "pos_slope=[0.65, 0.9]\n",
    "pdf_pcp_sizes={}\n",
    "pdf_pcp_pow={}\n",
    "\n",
    "for j,key in enumerate(data_keys):\n",
    "    \n",
    "    ### check the model name and extract corresponding SSP file ###\n",
    "    model_name=(key.split('_')[0])\n",
    "    model_fil_ssp=[i for i in model_names_SSP if model_name in i]\n",
    "    print(key,model_fil_ssp)\n",
    "\n",
    "    ### if more than one SSP name is extracted, differentiate based on string split ###\n",
    "    if len(model_fil_ssp)>1:\n",
    "        for k in model_fil_ssp:\n",
    "            if(k.split('_')[1])==model_name:\n",
    "                model_fil_ssp=[k]\n",
    "                \n",
    "    plot_fit=True if key==obs_name[0] else False\n",
    "    \n",
    "    for region_mask in region_name.keys():\n",
    "        \n",
    "        \n",
    "        if model_name=='TRMM3B42':\n",
    "            marker_color=region_colors[region_mask]\n",
    "            shift=1\n",
    "            annotate_region=False\n",
    "            get_legend=True\n",
    "        else:\n",
    "            marker_color='blue'\n",
    "            shift=shifts[key]*10**(-3*region_mask) \n",
    "            annotate_region=True\n",
    "            get_legend=False\n",
    "        \n",
    "        pdf_pcp_sizes[key],pdf_pcp_pow[key]=compute_plot_region_pdf(ax1,ax2,model_name,cluster_dict[key],pthresh_list[0],\n",
    "                                                                    region_mask,REGION,shift,marker_color,plot_fit,ln1,\n",
    "                                                                    cutoff_list, annotate_region,\n",
    "                                                                    plot_type,get_legend)\n",
    "\n",
    "        ### if a matching SSP file is found, plot it on top\n",
    "\n",
    "        if model_fil_ssp:\n",
    "            marker_color='red'\n",
    "            annotate_region=False\n",
    "            compute_plot_region_pdf(ax1,ax2,model_name,cluster_dict[model_fil_ssp[0]],\n",
    "                                    pthresh_list[0],region_mask, REGION, shift,\n",
    "                                    marker_color, plot_fit,ln1,cutoff_list, \n",
    "                                    annotate_region, plot_type,get_legend)\n",
    "\n",
    "        \n",
    "    \n",
    "    if (j == 1):\n",
    "\n",
    "        ### Set plot title and axis labels\n",
    "        ax1.set_title(\"Cluster size distribution\\n%s(%.1f mm/hr)\"%(model_name,pthresh_list[0]),fontsize=title_fontsize)\n",
    "        ax1.set_xlabel(\"Size ($\\mathrm{km^2}$) \",fontsize=xlabel_fontsize)\n",
    "        ax1.set_ylabel(\"Probability density\",fontsize=ylabel_fontsize)\n",
    "        ax1.set_xlim(xlim_sz)\n",
    "        ax1.set_ylim(ylim_sz)\n",
    "#         ax1.yaxis.set_major_locator(plt.FixedLocator([1e0, 1e-2, 1e-4, 1e-6, 1e-8, 1e-10]))\n",
    "        ax1.tick_params(which='both', labelsize=ticks_fontsize)\n",
    "        \n",
    "        ax2.set_title(\"Cluster power distribution\\n(%s)%.1f mm/hr\"%(model_name,pthresh_list[0]),fontsize=title_fontsize)\n",
    "        ax2.set_xlabel(\"Power (GW) \",fontsize=xlabel_fontsize)\n",
    "        ax2.set_xlim(xlim_pow)\n",
    "        ax2.set_ylim(ylim_pow)\n",
    "#         ax2.yaxis.set_major_locator(plt.FixedLocator([1e-2, 1e-4, 1e-6, 1e-8, 1e-10,1e-12]))\n",
    "        ax2.tick_params(which='both', labelsize=ticks_fontsize)\n",
    "\n",
    "leg_artists=[]\n",
    "leg_labels=[]\n",
    "for keys in ln1:\n",
    "    leg_artists.append(ln1[keys])\n",
    "    leg_labels.append(region_name[keys])\n",
    "    \n",
    "leg=ax2.legend(leg_artists,leg_labels,bbox_to_anchor=[1.0, 0.5],fontsize=13)\n",
    "frame=leg.get_frame()\n",
    "frame.set_edgecolor('black')\n",
    "### Be careful to not overwrite figures, change file name as the number of models/time periods change\n",
    "    \n",
    "SAVE_FIG=True\n",
    "if SAVE_FIG:\n",
    "    dirp='./' ## current location, but change as needed\n",
    "    save_fig_name=dirp+\"regional_pdfs_%s_%s_%.1f\"%(model_names_HIST[0],model_names_SSP[0],pthresh_list[0])+\".pdf\"\n",
    "    plt.savefig(save_fig_name,format='pdf',dpi=150,bbox_inches='tight')\n",
    "    print('plot saved as {}'.format(save_fig_name))"
   ]
  },
  {
   "cell_type": "markdown",
   "metadata": {},
   "source": [
    "### Replot as a log linear ###"
   ]
  },
  {
   "cell_type": "code",
   "execution_count": 249,
   "metadata": {},
   "outputs": [],
   "source": [
    "## x and yaxis limits for cluster size\n",
    "xlim_sz=[1e2,0.5e7] \n",
    "ylim_sz=[1e-25,1e0] ##\n",
    "\n",
    "## x and yaxis limits for cluster power\n",
    "xlim_pow=[5e2,0.5e7] ##\n",
    "ylim_pow=[1e-28,1e-1] ##\n",
    "\n",
    "istrt_sz,iend_sz=0.5e6,5.0e6 \n",
    "# istrt_pow,iend_pow=1.8e6,8.0e6 \n",
    "\n",
    "### setting different ranges based on basin ###\n",
    "istrt_pow={}\n",
    "iend_pow={}\n",
    "\n",
    "\n",
    "istrt_pow[0],iend_pow[0]=0.5e6,5.2e6 \n",
    "istrt_pow[1],iend_pow[1]=0.5e6,5.2e6  \n",
    "istrt_pow[2],iend_pow[2]=0.5e6,5.2e6  \n",
    "istrt_pow[3],iend_pow[3]=0.5e6,5.2e6  \n",
    "istrt_pow[4],iend_pow[4]=0.5e6,5.2e6 \n"
   ]
  },
  {
   "cell_type": "code",
   "execution_count": 250,
   "metadata": {},
   "outputs": [
    {
     "data": {
      "text/plain": [
       "'SSP585_BCC-CSM2-MR_209101_210012'"
      ]
     },
     "execution_count": 250,
     "metadata": {},
     "output_type": "execute_result"
    }
   ],
   "source": [
    "model_names_SSP[0]"
   ]
  },
  {
   "cell_type": "code",
   "execution_count": 251,
   "metadata": {},
   "outputs": [],
   "source": [
    "am={}\n",
    "cm={}\n",
    "aL={}\n",
    "cL={}\n",
    "\n",
    "for key in data_keys+model_names_SSP:\n",
    "    am[key]={}\n",
    "    aL[key]={}\n",
    "    cm[key]={}\n",
    "    cL[key]={} \n"
   ]
  },
  {
   "cell_type": "code",
   "execution_count": 252,
   "metadata": {},
   "outputs": [
    {
     "name": "stdout",
     "output_type": "stream",
     "text": [
      "TRMM3B42_200201_201412 []\n",
      "BCC-CSM2-MR_200201_201412 ['SSP585_BCC-CSM2-MR_209101_210012']\n"
     ]
    },
    {
     "data": {
      "image/png": "[encoded data removed]",
      "text/plain": [
       "<Figure size 792x288 with 2 Axes>"
      ]
     },
     "metadata": {
      "needs_background": "light"
     },
     "output_type": "display_data"
    }
   ],
   "source": [
    "### set the plot specs:\n",
    "### size\n",
    "fig=plt.figure(figsize=(11,4.))\n",
    "## grid: 1 row , 2 colum plot\n",
    "gs = gridspec.GridSpec(1, 2)\n",
    "## assign separate name for each axis\n",
    "ax1 = plt.subplot(gs[0, 0])\n",
    "ax2 = plt.subplot(gs[0, 1])\n",
    "\n",
    "plot_type='logylinearx'\n",
    "### create empty dictionaries to hold the legends \n",
    "ln1={}\n",
    "ln2={}\n",
    "\n",
    "### positions for some of the text on the plot\n",
    "posy=[ 0.85, 0.9, 0.95, 0.725, .8, .875 ]\n",
    "posx=[.65, 0.65, 0.65, .4, .4 ]\n",
    "pos_slope=[0.65, 0.9]\n",
    "pdf_pcp_sizes={}\n",
    "pdf_pcp_pow={}\n",
    "\n",
    "for j,key in enumerate(data_keys):\n",
    "    \n",
    "    ### check the model name and extract corresponding SSP file ###\n",
    "    model_name=(key.split('_')[0])\n",
    "    model_fil_ssp=[i for i in model_names_SSP if model_name in i]\n",
    "    print(key,model_fil_ssp)\n",
    "\n",
    "    ### if more than one SSP name is extracted, differentiate based on string split ###\n",
    "    if len(model_fil_ssp)>1:\n",
    "        for k in model_fil_ssp:\n",
    "            if(k.split('_')[1])==model_name:\n",
    "                model_fil_ssp=[k]\n",
    "                \n",
    "#     plot_fit=True if key==obs_name[0] else False\n",
    "    \n",
    "    for region_mask in region_name.keys():\n",
    "#         print(region_mask)\n",
    "        \n",
    "        if model_name=='TRMM3B42':\n",
    "            marker_color=region_colors[region_mask]\n",
    "            shift=1\n",
    "            annotate_region=False\n",
    "            get_legend=True\n",
    "            plot_fit=True\n",
    "        else:\n",
    "            marker_color='blue'\n",
    "            shift=shifts[key]*10**(-3*region_mask) \n",
    "            annotate_region=True\n",
    "            get_legend=False\n",
    "            plot_fit=True\n",
    "            \n",
    "        cutoff_list=[aL[key],cL[key]]\n",
    "        pdf_pcp_sizes[key],pdf_pcp_pow[key]=compute_plot_region_pdf(ax1,ax2,model_name,cluster_dict[key],pthresh_list[0],\n",
    "                                                                    region_mask,REGION,shift,marker_color,plot_fit,ln1,\n",
    "                                                                    cutoff_list, annotate_region,\n",
    "                                                                    plot_type,get_legend)\n",
    "\n",
    "        \n",
    "        ### if a matching SSP file is found, plot it on top\n",
    "\n",
    "        if model_fil_ssp:\n",
    "            marker_color='red'\n",
    "            annotate_region=False\n",
    "            cutoff_list=[aL[model_fil_ssp[0]],cL[model_fil_ssp[0]]]\n",
    "\n",
    "\n",
    "            compute_plot_region_pdf(ax1,ax2,model_name,cluster_dict[model_fil_ssp[0]],\n",
    "                                    pthresh_list[0], region_mask, REGION, shift,\n",
    "                                    marker_color, plot_fit, ln1, cutoff_list, \n",
    "                                    annotate_region, plot_type, get_legend)\n",
    "\n",
    "        \n",
    "    if (j == 1):\n",
    "\n",
    "        ### Set plot title and axis labels\n",
    "        ax1.set_title(\"Cluster size distribution\\n%s(%.1f mm/hr)\"%(model_name,pthresh_list[0]),fontsize=title_fontsize)\n",
    "        ax1.set_xlabel(\"Size ($\\mathrm{km^2}$) \",fontsize=xlabel_fontsize)\n",
    "        ax1.set_ylabel(\"Probability density\",fontsize=ylabel_fontsize)\n",
    "        ax1.set_xlim(xlim_sz)\n",
    "        ax1.set_ylim(ylim_sz)\n",
    "#         ax1.yaxis.set_major_locator(plt.FixedLocator([1e0, 1e-2, 1e-4, 1e-6, 1e-8, 1e-10]))\n",
    "        ax1.tick_params(which='both', labelsize=ticks_fontsize)\n",
    "        \n",
    "        ax2.set_title(\"Cluster power distribution\\n(%s)%.1f mm/hr\"%(model_name,pthresh_list[0]),fontsize=title_fontsize)\n",
    "        ax2.set_xlabel(\"Power (GW) \",fontsize=xlabel_fontsize)\n",
    "        ax2.set_xlim(xlim_pow)\n",
    "        ax2.set_ylim(ylim_pow)\n",
    "#         ax2.yaxis.set_major_locator(plt.FixedLocator([1e-2, 1e-4, 1e-6, 1e-8, 1e-10,1e-12]))\n",
    "        ax2.tick_params(which='both', labelsize=ticks_fontsize)\n",
    "\n",
    "leg_artists=[]\n",
    "leg_labels=[]\n",
    "for keys in ln1:\n",
    "    leg_artists.append(ln1[keys])\n",
    "    leg_labels.append(region_name[keys])\n",
    "    \n",
    "leg=ax2.legend(leg_artists,leg_labels,bbox_to_anchor=[1.0, 0.5],fontsize=13)\n",
    "frame=leg.get_frame()\n",
    "frame.set_edgecolor('black')\n",
    "### Be careful to not overwrite figures, change file name as the number of models/time periods change\n",
    "    \n",
    "SAVE_FIG=False\n",
    "if SAVE_FIG:\n",
    "    dirp='./' ## current location, but change as needed\n",
    "    save_fig_name=dirp+\"loglinear_regional_pdfs_%s_%s_%.1f\"%(model_names_HIST[0],model_names_SSP[0],pthresh_list[0])+\".pdf\"\n",
    "    plt.savefig(save_fig_name,format='pdf',dpi=150,bbox_inches='tight')\n",
    "    print('plot saved as {}'.format(save_fig_name))"
   ]
  },
  {
   "cell_type": "markdown",
   "metadata": {},
   "source": [
    "### for a given model, what are the changes across basin ###"
   ]
  },
  {
   "cell_type": "code",
   "execution_count": 253,
   "metadata": {},
   "outputs": [],
   "source": [
    "cL_obs=list(cL[obs_name[0]].values())\n",
    "cL_HIST=list(cL[model_names_HIST[0]].values())\n",
    "cL_SSP=list(cL[model_names_SSP[0]].values())\n",
    "\n",
    "aL_obs=list(aL[obs_name[0]].values())\n",
    "aL_HIST=list(aL[model_names_HIST[0]].values())\n",
    "aL_SSP=list(aL[model_names_SSP[0]].values())\n",
    "\n",
    "delta_comp=lambda x,y:(y-x)*100./x\n",
    "delta_cL=list(map(delta_comp,cL_HIST,cL_SSP))\n",
    "delta_aL=list(map(delta_comp,aL_HIST,aL_SSP))\n",
    "\n"
   ]
  },
  {
   "cell_type": "code",
   "execution_count": 254,
   "metadata": {},
   "outputs": [],
   "source": [
    "class OOMFormatter(matplotlib.ticker.ScalarFormatter):\n",
    "    def __init__(self, order=0, fformat=\"%1.1f\", offset=True, mathText=True):\n",
    "        self.oom = order\n",
    "        self.fformat = fformat\n",
    "        matplotlib.ticker.ScalarFormatter.__init__(self,useOffset=offset,useMathText=mathText)\n",
    "    def _set_order_of_magnitude(self):\n",
    "        self.orderOfMagnitude = self.oom\n",
    "    def _set_format(self, vmin=None, vmax=None):\n",
    "        self.format = self.fformat\n",
    "        if self._useMathText:\n",
    "            self.format = r'$\\mathdefault{%s}$' % self.format"
   ]
  },
  {
   "cell_type": "code",
   "execution_count": 255,
   "metadata": {},
   "outputs": [
    {
     "data": {
      "image/png": "[encoded data removed]",
      "text/plain": [
       "<Figure size 792x288 with 2 Axes>"
      ]
     },
     "metadata": {
      "needs_background": "light"
     },
     "output_type": "display_data"
    }
   ],
   "source": [
    "fig=plt.figure(figsize=(11,4.))\n",
    "## grid: 1 row , 2 colum plot\n",
    "gs = gridspec.GridSpec(1, 2)\n",
    "## assign separate name for each axis\n",
    "ax1 = plt.subplot(gs[0, 0])\n",
    "ax1.bar(np.arange(0,15,3),aL_obs,color='black',width=0.5)\n",
    "ax1.bar(np.arange(0,15,3)+0.5,aL_HIST,color='blue',width=0.5)\n",
    "ax1.bar(np.arange(0,15,3)+1.0,aL_SSP,color='red',width=0.5)\n",
    "\n",
    "\n",
    "ax1.set_xticks(np.arange(0.25,15.25,3))\n",
    "ax1.set_xticklabels(['LAND','IO','ATL.','EPAC','WPAC'],fontsize=13)\n",
    "ax1.tick_params(which='both',labelsize=13)\n",
    "ax1.yaxis.set_major_formatter(OOMFormatter(5, \"%1.1f\"))\n",
    "ax1.ticklabel_format(axis='y', style='sci', scilimits=(-3,-3))\n",
    "ax1.yaxis.get_offset_text().set_fontsize(14)\n",
    "\n",
    "for n,i in enumerate(delta_aL):\n",
    "    ax1.text(0.05+n/len(delta_aL),0.8,\"%.2f\"%(i)+'%',\n",
    "             transform=ax1.transAxes,fontsize=14)\n",
    "\n",
    "ax1.set_ylabel(\"Size ($\\mathrm{km^2}$) \",fontsize=14)\n",
    "\n",
    "\n",
    "ax2 = plt.subplot(gs[0, 1])\n",
    "\n",
    "ax2.bar(np.arange(0,15,3),cL_obs,color='black',width=0.5)\n",
    "ax2.bar(np.arange(0,15,3)+0.5,cL_HIST,color='blue',width=0.5)\n",
    "ax2.bar(np.arange(0,15,3)+1.0,cL_SSP,color='red',width=0.5)\n",
    "\n",
    "ax2.set_xticks(np.arange(0.25,15.25,3))\n",
    "ax2.set_xticklabels(['LAND','IO','ATL.','EPAC','WPAC'],fontsize=13)\n",
    "ax2.tick_params(which='both',labelsize=13)\n",
    "ax2.yaxis.set_major_formatter(OOMFormatter(5, \"%1.1f\"))\n",
    "ax2.ticklabel_format(axis='y', style='sci', scilimits=(-3,-3))\n",
    "ax2.yaxis.get_offset_text().set_fontsize(14)\n",
    "\n",
    "for n,i in enumerate(delta_cL):\n",
    "    ax2.text(0.05+n/len(delta_cL),0.8,\"%.2f\"%(i)+'%',\n",
    "             transform=ax2.transAxes,fontsize=14)\n",
    "\n",
    "ax2.set_ylabel(\"Power (GW) \",fontsize=14)\n",
    "\n",
    "\n",
    "fig.suptitle('%s vs.\\n %s'%(model_names_HIST[0],model_names_SSP[0]),fontsize=13)\n",
    "plt.tight_layout()\n"
   ]
  },
  {
   "cell_type": "markdown",
   "metadata": {},
   "source": [
    "### Scaling these changes by surface temperature ###"
   ]
  },
  {
   "cell_type": "code",
   "execution_count": 256,
   "metadata": {},
   "outputs": [],
   "source": [
    "tas_values_hist=ta_ds['HIST'].load()\n",
    "tas_values_ssp=ta_ds['SSP'].load()"
   ]
  },
  {
   "cell_type": "code",
   "execution_count": 257,
   "metadata": {},
   "outputs": [],
   "source": [
    "region_tas_HIST={}\n",
    "region_tas_SSP={}\n",
    "\n",
    "\n",
    "for region_mask in region_name.keys():\n",
    "    \n",
    "    tas1=tas_values_hist.copy(deep=True)\n",
    "    region_tas_HIST[region_mask]=tas1.where(lsm_model==region_mask).mean().values\n",
    "\n",
    "    tas1=tas_values_ssp.copy(deep=True)\n",
    "    region_tas_SSP[region_mask]=tas1.where(lsm_model==region_mask).mean().values\n",
    "\n",
    "    "
   ]
  },
  {
   "cell_type": "code",
   "execution_count": 258,
   "metadata": {},
   "outputs": [],
   "source": [
    "delta_temp={}\n",
    "for region_mask in region_name.keys():\n",
    "    delta_temp[region_mask]=region_tas_SSP[region_mask]-region_tas_HIST[region_mask]"
   ]
  },
  {
   "cell_type": "code",
   "execution_count": 259,
   "metadata": {},
   "outputs": [
    {
     "name": "stdout",
     "output_type": "stream",
     "text": [
      "plot saved as ./regional_cutoff_scales_changes_BCC-CSM2-MR_200201_201412_SSP585_BCC-CSM2-MR_209101_210012_1.0.pdf\n"
     ]
    },
    {
     "data": {
      "image/png": "[encoded data removed]",
      "text/plain": [
       "<Figure size 792x288 with 2 Axes>"
      ]
     },
     "metadata": {
      "needs_background": "light"
     },
     "output_type": "display_data"
    }
   ],
   "source": [
    "fig=plt.figure(figsize=(11,4.))\n",
    "## grid: 1 row , 2 colum plot\n",
    "gs = gridspec.GridSpec(1, 2)\n",
    "## assign separate name for each axis\n",
    "ax1 = plt.subplot(gs[0, 0])\n",
    "ax1.bar(np.arange(0,15,3),aL_obs,color='black',width=0.5)\n",
    "ax1.bar(np.arange(0,15,3)+0.5,aL_HIST,color='blue',width=0.5)\n",
    "ax1.bar(np.arange(0,15,3)+1.0,aL_SSP,color='red',width=0.5)\n",
    "\n",
    "\n",
    "ax1.set_xticks(np.arange(0.25,15.25,3))\n",
    "ax1.set_xticklabels(['LAND','IO','ATL.','EPAC','WPAC'],fontsize=13)\n",
    "ax1.tick_params(which='both',labelsize=13)\n",
    "ax1.yaxis.set_major_formatter(OOMFormatter(5, \"%1.1f\"))\n",
    "ax1.ticklabel_format(axis='y', style='sci', scilimits=(-3,-3))\n",
    "ax1.yaxis.get_offset_text().set_fontsize(14)\n",
    "\n",
    "for n,i in enumerate(delta_aL):\n",
    "    ax1.text(0.05+n/len(delta_aL),0.9,\"%.1f\"%(i/delta_temp[n])+'%/K',\n",
    "             transform=ax1.transAxes,fontsize=11,weight='bold')\n",
    "\n",
    "    ax1.text(0.05+n/len(delta_aL),0.8,\"%.2f\"%(i)+'%',\n",
    "             transform=ax1.transAxes,fontsize=12)\n",
    "\n",
    "\n",
    "    \n",
    "ax1.set_ylabel(\"Size ($\\mathrm{km^2}$) \",fontsize=14)\n",
    "\n",
    "\n",
    "ax2 = plt.subplot(gs[0, 1])\n",
    "\n",
    "ax2.bar(np.arange(0,15,3),cL_obs,color='black',width=0.5)\n",
    "ax2.bar(np.arange(0,15,3)+0.5,cL_HIST,color='blue',width=0.5)\n",
    "ax2.bar(np.arange(0,15,3)+1.0,cL_SSP,color='red',width=0.5)\n",
    "\n",
    "ax2.set_xticks(np.arange(0.25,15.25,3))\n",
    "ax2.set_xticklabels(['LAND','IO','ATL.','EPAC','WPAC'],fontsize=13)\n",
    "ax2.tick_params(which='both',labelsize=13)\n",
    "ax2.yaxis.set_major_formatter(OOMFormatter(5, \"%1.1f\"))\n",
    "ax2.ticklabel_format(axis='y', style='sci', scilimits=(-3,-3))\n",
    "ax2.yaxis.get_offset_text().set_fontsize(14)\n",
    "\n",
    "for n,i in enumerate(delta_cL):\n",
    "    ax2.text(0.05+n/len(delta_cL),0.9,\"%.1f\"%(i/delta_temp[n])+'%/K',\n",
    "             transform=ax2.transAxes,fontsize=11,weight='bold')\n",
    "\n",
    "    ax2.text(0.05+n/len(delta_cL),0.8,\"%.2f\"%(i)+'%',\n",
    "             transform=ax2.transAxes,fontsize=12)\n",
    "\n",
    "ax2.set_ylabel(\"Power (GW) \",fontsize=14)\n",
    "\n",
    "\n",
    "fig.suptitle('%s vs.\\n %s'%(model_names_HIST[0],model_names_SSP[0]),fontsize=13)\n",
    "\n",
    "\n",
    "plt.tight_layout()\n",
    "\n",
    "\n",
    "SAVE_FIG=True\n",
    "if SAVE_FIG:\n",
    "    dirp='./' ## current location, but change as needed\n",
    "    save_fig_name=dirp+\"regional_cutoff_scales_changes_%s_%s_%.1f\"%(model_names_HIST[0],model_names_SSP[0],pthresh_list[0])+\".pdf\"\n",
    "    plt.savefig(save_fig_name,format='pdf',dpi=150,bbox_inches='tight')\n",
    "    print('plot saved as {}'.format(save_fig_name))\n"
   ]
  },
  {
   "cell_type": "markdown",
   "metadata": {},
   "source": [
    "### Plot cluster density on map \n",
    "\n"
   ]
  },
  {
   "cell_type": "markdown",
   "metadata": {},
   "source": [
    "### Optional analysis to visualize the change in regional cluster distribution ###"
   ]
  },
  {
   "cell_type": "code",
   "execution_count": 10,
   "metadata": {},
   "outputs": [
    {
     "ename": "NameError",
     "evalue": "name 'lat' is not defined",
     "output_type": "error",
     "traceback": [
      "\u001b[0;31m---------------------------------------------------------------------------\u001b[0m",
      "\u001b[0;31mNameError\u001b[0m                                 Traceback (most recent call last)",
      "\u001b[0;32m<ipython-input-10-504cbe14ce00>\u001b[0m in \u001b[0;36m<module>\u001b[0;34m\u001b[0m\n\u001b[0;32m----> 1\u001b[0;31m \u001b[0;34m(\u001b[0m\u001b[0;34m-\u001b[0m\u001b[0mnp\u001b[0m\u001b[0;34m.\u001b[0m\u001b[0mdiff\u001b[0m\u001b[0;34m(\u001b[0m\u001b[0mlat\u001b[0m\u001b[0;34m)\u001b[0m\u001b[0;34m[\u001b[0m\u001b[0;36m0\u001b[0m\u001b[0;34m]\u001b[0m\u001b[0;34m)\u001b[0m\u001b[0;34m\u001b[0m\u001b[0;34m\u001b[0m\u001b[0m\n\u001b[0m\u001b[1;32m      2\u001b[0m \u001b[0mcom_coords_large_power\u001b[0m\u001b[0;34m[\u001b[0m\u001b[0;36m0\u001b[0m\u001b[0;34m,\u001b[0m\u001b[0;34m:\u001b[0m\u001b[0;34m]\u001b[0m\u001b[0;34m.\u001b[0m\u001b[0mmax\u001b[0m\u001b[0;34m(\u001b[0m\u001b[0;34m)\u001b[0m\u001b[0;34m-\u001b[0m\u001b[0mlat\u001b[0m\u001b[0;34m[\u001b[0m\u001b[0;36m0\u001b[0m\u001b[0;34m]\u001b[0m\u001b[0;34m\u001b[0m\u001b[0;34m\u001b[0m\u001b[0m\n\u001b[1;32m      3\u001b[0m \u001b[0mnp\u001b[0m\u001b[0;34m.\u001b[0m\u001b[0mint_\u001b[0m\u001b[0;34m(\u001b[0m\u001b[0mcom_coords_large_power\u001b[0m\u001b[0;34m[\u001b[0m\u001b[0;36m0\u001b[0m\u001b[0;34m,\u001b[0m\u001b[0;34m:\u001b[0m\u001b[0;34m]\u001b[0m\u001b[0;34m.\u001b[0m\u001b[0mmax\u001b[0m\u001b[0;34m(\u001b[0m\u001b[0;34m)\u001b[0m\u001b[0;34m-\u001b[0m\u001b[0mlat\u001b[0m\u001b[0;34m[\u001b[0m\u001b[0;36m0\u001b[0m\u001b[0;34m]\u001b[0m\u001b[0;34m)\u001b[0m\u001b[0;34m\u001b[0m\u001b[0;34m\u001b[0m\u001b[0m\n\u001b[1;32m      4\u001b[0m \u001b[0mlat\u001b[0m\u001b[0;34m[\u001b[0m\u001b[0;36m63\u001b[0m\u001b[0;34m]\u001b[0m\u001b[0;34m,\u001b[0m\u001b[0mcom_coords_large_power\u001b[0m\u001b[0;34m[\u001b[0m\u001b[0;36m0\u001b[0m\u001b[0;34m,\u001b[0m\u001b[0;34m:\u001b[0m\u001b[0;34m]\u001b[0m\u001b[0;34m.\u001b[0m\u001b[0mmax\u001b[0m\u001b[0;34m(\u001b[0m\u001b[0;34m)\u001b[0m\u001b[0;34m\u001b[0m\u001b[0;34m\u001b[0m\u001b[0m\n",
      "\u001b[0;31mNameError\u001b[0m: name 'lat' is not defined"
     ]
    }
   ],
   "source": [
    "(-np.diff(lat)[0])\n",
    "com_coords_large_power[0,:].max()-lat[0]\n",
    "np.int_(com_coords_large_power[0,:].max()-lat[0])\n",
    "lat[63],com_coords_large_power[0,:].max()"
   ]
  },
  {
   "cell_type": "code",
   "execution_count": 14,
   "metadata": {},
   "outputs": [],
   "source": [
    "cluster_density={}\n",
    "lat=np.arange(-35,36,1.0)\n",
    "lon=np.arange(-180,180,1)\n",
    "\n",
    "\n",
    "def compute_cluster_density(key,centroid_info,cluster_power,pow_thresh,\n",
    "                            cluster_density):\n",
    "    '''\n",
    "    Compute number of clusters per 1 deg lat x lon \n",
    "    '''\n",
    "    \n",
    "    cluster_density[key]=np.zeros((lat.size,lon.size))\n",
    "\n",
    "    com_coords_large_power=centroid_info[key][:,np.where(cluster_power[key]>pow_thresh)[0]]\n",
    "    com_coords_large_power_lat_idx=np.int_((com_coords_large_power[0,:]-lat[0])/(np.diff(lat)[0]))\n",
    "    com_coords_large_power_lon_idx=np.int_((com_coords_large_power[1,:]-lon[0])/(np.diff(lon)[0]))\n",
    "    \n",
    "    for j in np.arange(lon.size):\n",
    "        for i in np.arange(lat.size):\n",
    "            number=np.where(np.logical_and(com_coords_large_power_lat_idx==i,com_coords_large_power_lon_idx==j))\n",
    "            cluster_density[key][i,j]=number[0].size\n",
    "        \n",
    "    cluster_density[key]=cluster_density[key]/(cluster_density[key].sum()*np.diff(lat)[0]*np.diff(lon)[0])"
   ]
  },
  {
   "cell_type": "code",
   "execution_count": 12,
   "metadata": {
    "scrolled": false
   },
   "outputs": [
    {
     "ename": "NameError",
     "evalue": "name 'centroid_info' is not defined",
     "output_type": "error",
     "traceback": [
      "\u001b[0;31m---------------------------------------------------------------------------\u001b[0m",
      "\u001b[0;31mNameError\u001b[0m                                 Traceback (most recent call last)",
      "\u001b[0;32m<ipython-input-12-3a19b45eed4e>\u001b[0m in \u001b[0;36m<module>\u001b[0;34m\u001b[0m\n\u001b[0;32m----> 1\u001b[0;31m \u001b[0;32mfor\u001b[0m \u001b[0mkey\u001b[0m \u001b[0;32min\u001b[0m \u001b[0mcentroid_info\u001b[0m\u001b[0;34m.\u001b[0m\u001b[0mkeys\u001b[0m\u001b[0;34m(\u001b[0m\u001b[0;34m)\u001b[0m\u001b[0;34m:\u001b[0m\u001b[0;34m\u001b[0m\u001b[0;34m\u001b[0m\u001b[0m\n\u001b[0m\u001b[1;32m      2\u001b[0m     \u001b[0mprint\u001b[0m\u001b[0;34m(\u001b[0m\u001b[0mkey\u001b[0m\u001b[0;34m)\u001b[0m\u001b[0;34m\u001b[0m\u001b[0;34m\u001b[0m\u001b[0m\n\u001b[1;32m      3\u001b[0m     \u001b[0mcompute_cluster_density\u001b[0m\u001b[0;34m(\u001b[0m\u001b[0mkey\u001b[0m\u001b[0;34m,\u001b[0m\u001b[0mcentroid_region_info\u001b[0m\u001b[0;34m,\u001b[0m\u001b[0mcluster_power\u001b[0m\u001b[0;34m,\u001b[0m\u001b[0mcm\u001b[0m\u001b[0;34m[\u001b[0m\u001b[0mkey\u001b[0m\u001b[0;34m]\u001b[0m\u001b[0;34m,\u001b[0m\u001b[0mcluster_density\u001b[0m\u001b[0;34m)\u001b[0m\u001b[0;34m\u001b[0m\u001b[0;34m\u001b[0m\u001b[0m\n",
      "\u001b[0;31mNameError\u001b[0m: name 'centroid_info' is not defined"
     ]
    }
   ],
   "source": [
    "for key in centroid_info.keys():\n",
    "    print(key)\n",
    "    compute_cluster_density(key,centroid_region_info,cluster_power,cm[key],cluster_density)\n"
   ]
  },
  {
   "cell_type": "code",
   "execution_count": 13,
   "metadata": {},
   "outputs": [],
   "source": [
    "cmap=plt.get_cmap('RdYlBu_r')\n",
    "cmap_dif=plt.get_cmap('RdBu_r')"
   ]
  },
  {
   "cell_type": "code",
   "execution_count": null,
   "metadata": {},
   "outputs": [],
   "source": [
    "key_obs='TRMM3B42_200201_201412'\n",
    "\n",
    "\n",
    "(cluster_density[key]).max()\n",
    "contour_levels=np.arange(0,0.525,0.025)\n",
    "contour_levels_diff=np.arange(-0.3,0.325,0.025)\n",
    "\n",
    "da = xr.DataArray(data=cluster_density[key_obs],\n",
    "                  dims=[\"lat\", \"lon\"],\n",
    "                 coords={\"lat\":lat,\"lon\":lon})"
   ]
  },
  {
   "cell_type": "code",
   "execution_count": null,
   "metadata": {},
   "outputs": [],
   "source": [
    "cm"
   ]
  },
  {
   "cell_type": "markdown",
   "metadata": {},
   "source": [
    "### Fix error in plotting ###"
   ]
  },
  {
   "cell_type": "code",
   "execution_count": null,
   "metadata": {},
   "outputs": [],
   "source": [
    "fig,axx = plt.subplots(3,1,figsize=(10, 8),subplot_kw={'projection': ccrs.PlateCarree(central_longitude=180)},\n",
    "                      constrained_layout=False)\n",
    "# thresh=1.0\n",
    "pow_thresh=1.0e6\n",
    "# ## only plot the largest cluster centroids ###\n",
    "\n",
    "ax=axx[0]\n",
    "ax.coastlines()\n",
    "ax.set_extent([lon[0],lon[-1],lat[0],lat[-1]], \n",
    "              crs=ccrs.PlateCarree())\n",
    "\n",
    "key_obs='TRMM3B42_200201_201412'\n",
    "\n",
    "ax.contourf(lon,lat,cluster_density[key_obs]*1e3,levels=contour_levels,extend='both',cmap=cmap,\n",
    "            transform=ccrs.PlateCarree())\n",
    "ax.set_aspect('auto')\n",
    "gl = ax.gridlines(crs=ccrs.PlateCarree(), draw_labels=True,\n",
    "                  linewidth=2, color='gray', alpha=0.5, linestyle='--')\n",
    "gl.xlabels_top = False\n",
    "gl.ylabels_left = False\n",
    "gl.xlines = True\n",
    "gl.ylines = False\n",
    "\n",
    "gl.xlocator = mticker.FixedLocator([-180, -120, -60, 0, 60, 120, 180])\n",
    "gl.xformatter = LONGITUDE_FORMATTER\n",
    "gl.yformatter = LATITUDE_FORMATTER\n",
    "ax.set_title(obs_name[0],fontsize=14)\n",
    "\n",
    "\n",
    "# ax.set_title('Precipitation cluster centroid distribution (%.2f mm/hr,$>%.0e$)\\n%s-%s'%(thresh,pow_thresh,\n",
    "#                                                                                   strt_date.strftime(\"%Y\"),end_date.strftime(\"%Y\")),\n",
    "#              fontsize=15)\n",
    "\n",
    "# plt.tight_layout()\n",
    "# plt.subplots_adjust(left=None, bottom=None, right=None, top=None, wspace=None, hspace=0.3)\n",
    "# if forcing=='SSP':\n",
    "#     fname='precip_cluster_density_SSP585_%s_%s'%(model_list[model_index],select_date)+'.pdf'\n",
    "# elif forcing=='HIST':\n",
    "#     fname='precip_cluster_density_HIST_%s_%s'%(model_list[model_index],select_date)+'.pdf'    \n",
    "# elif forcing=='obs':\n",
    "#     fname='TRMM3B42_precip_cluster_density_HIST_%s_%s'%(time_slice.start.strftime(\"%Y%m\"),time_slice.stop.strftime(\"%Y%m\"))+'.pdf'    \n",
    "\n",
    "ax=axx[1]\n",
    "ax.coastlines()\n",
    "ax.set_extent([lon[0],lon[-1],lat[0],lat[-1]], \n",
    "              crs=ccrs.PlateCarree())\n",
    "\n",
    "key_hist='CNRM-CM6-1_200201_201412'\n",
    "\n",
    "ax.contourf(lon,lat,cluster_density[key_hist]*1e3,levels=contour_levels,extend='both',cmap=cmap,\n",
    "            transform=ccrs.PlateCarree())\n",
    "ax.set_aspect('auto')\n",
    "gl = ax.gridlines(crs=ccrs.PlateCarree(), draw_labels=True,\n",
    "                  linewidth=2, color='gray', alpha=0.5, linestyle='--')\n",
    "gl.xlabels_top = False\n",
    "gl.ylabels_left = False\n",
    "gl.xlines = True\n",
    "gl.ylines = False\n",
    "\n",
    "gl.xlocator = mticker.FixedLocator([-180, -120, -60, 0, 60, 120, 180])\n",
    "gl.xformatter = LONGITUDE_FORMATTER\n",
    "gl.yformatter = LATITUDE_FORMATTER\n",
    "ax.set_title(model_names_HIST[0],fontsize=14)\n",
    "\n",
    "\n",
    "\n",
    "ax=axx[2]\n",
    "ax.coastlines()\n",
    "ax.set_extent([lon[0],lon[-1],lat[0],lat[-1]], \n",
    "              crs=ccrs.PlateCarree())\n",
    "\n",
    "key_ssp='SSP585_CNRM-CM6-1_209101_210012'\n",
    "\n",
    "ax.contourf(lon,lat,cluster_density[key_ssp]*1e3,levels=contour_levels,extend='both',cmap=cmap,\n",
    "            transform=ccrs.PlateCarree())\n",
    "ax.set_aspect('auto')\n",
    "gl = ax.gridlines(crs=ccrs.PlateCarree(), draw_labels=True,\n",
    "                  linewidth=2, color='gray', alpha=0.5, linestyle='--')\n",
    "gl.xlabels_top = False\n",
    "gl.ylabels_left = False\n",
    "gl.xlines = True\n",
    "gl.ylines = False\n",
    "\n",
    "gl.xlocator = mticker.FixedLocator([-180, -120, -60, 0, 60, 120, 180])\n",
    "gl.xformatter = LONGITUDE_FORMATTER\n",
    "gl.yformatter = LATITUDE_FORMATTER\n",
    "ax.set_title(model_names_SSP[0],fontsize=14)\n",
    "plt.tight_layout()\n",
    "plt.subplots_adjust(hspace=0.3)\n",
    "# SAVE=False\n",
    "# if SAVE:\n",
    "#     plt.savefig('./plots/'+fname,format='pdf',dpi=150,bbox_inches='tight')"
   ]
  },
  {
   "cell_type": "code",
   "execution_count": null,
   "metadata": {},
   "outputs": [],
   "source": [
    "fig,axx = plt.subplots(1,1,figsize=(10, 3),subplot_kw={'projection': ccrs.PlateCarree(central_longitude=180)},\n",
    "                      constrained_layout=False)\n",
    "# thresh=1.0\n",
    "pow_thresh=1.0e6\n",
    "# ## only plot the largest cluster centroids ###\n",
    "\n",
    "ax=axx\n",
    "ax.coastlines()\n",
    "ax.set_extent([lon[0],lon[-1],lat[0],lat[-1]], \n",
    "              crs=ccrs.PlateCarree())\n",
    "\n",
    "ax.contourf(lon,lat,(cluster_density[key_ssp]-cluster_density[key_hist])*1e3,\n",
    "            levels=contour_levels_diff,extend='both',cmap=cmap_dif,\n",
    "            transform=ccrs.PlateCarree())\n",
    "ax.set_aspect('auto')\n",
    "gl = ax.gridlines(crs=ccrs.PlateCarree(), draw_labels=True,\n",
    "                  linewidth=2, color='gray', alpha=0.5, linestyle='--')\n",
    "gl.xlabels_top = False\n",
    "gl.ylabels_left = False\n",
    "gl.xlines = True\n",
    "gl.ylines = False\n",
    "\n",
    "gl.xlocator = mticker.FixedLocator([-180, -120, -60, 0, 60, 120, 180])\n",
    "gl.xformatter = LONGITUDE_FORMATTER\n",
    "gl.yformatter = LATITUDE_FORMATTER\n",
    "ax.set_title('Difference:%s\\n%s'%(model_names_SSP[0],model_names_HIST[0]),fontsize=14)"
   ]
  },
  {
   "cell_type": "code",
   "execution_count": null,
   "metadata": {},
   "outputs": [],
   "source": [
    "### Some user defined parameters ###\n",
    "nthresh=25 #Discard bins with fewer than nthresh samples\n",
    "istrt_sz,iend_sz=3.0,5.0 ## the power law range for size (10^3 to 10^5)\n",
    "istrt_pow,iend_pow=4.0,5.5 ### set a ballpark range for the power law, so the straight line fit is over that range\n",
    "\n",
    "title_fontsize=15\n",
    "xlabel_fontsize=16.5\n",
    "ylabel_fontsize=16.5\n",
    "\n",
    "## x and yaxis limits for cluster size\n",
    "xlim_sz=[1e2,0.5e7] \n",
    "ylim_sz=[1e-21,1e0] ##\n",
    "\n",
    "## x and yaxis limits for cluster power\n",
    "xlim_pow=[1e2,2.5e8] ##\n",
    "ylim_pow=[1e-21,1e-1] ##\n",
    "\n",
    "## threshold legend font size\n",
    "leg_fontsize=12.5\n",
    "\n",
    "## moment ratio * power law slope font size\n",
    "leg1_fontsize=13.5\n",
    "\n",
    "## ticklabel font size\n",
    "ticks_fontsize=14\n",
    "\n",
    "### vertical offset ###\n",
    "\n"
   ]
  },
  {
   "cell_type": "code",
   "execution_count": null,
   "metadata": {},
   "outputs": [],
   "source": []
  }
 ],
 "metadata": {
  "kernelspec": {
   "display_name": "aos112",
   "language": "python",
   "name": "aos112"
  },
  "language_info": {
   "codemirror_mode": {
    "name": "ipython",
    "version": 3
   },
   "file_extension": ".py",
   "mimetype": "text/x-python",
   "name": "python",
   "nbconvert_exporter": "python",
   "pygments_lexer": "ipython3",
   "version": "3.8.5"
  }
 },
 "nbformat": 4,
 "nbformat_minor": 2
}
