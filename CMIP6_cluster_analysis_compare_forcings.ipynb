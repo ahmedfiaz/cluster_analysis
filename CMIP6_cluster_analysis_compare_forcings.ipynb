{
 "cells": [
  {
   "cell_type": "markdown",
   "metadata": {},
   "source": [
    "The goal here is to modify the notebook that calculates and plots the TRMM clusters to work on <b> CMIP6 </b> model output. "
   ]
  },
  {
   "cell_type": "markdown",
   "metadata": {},
   "source": [
    "Import modules\n"
   ]
  },
  {
   "cell_type": "code",
   "execution_count": 1,
   "metadata": {},
   "outputs": [],
   "source": [
    "import numpy as np\n",
    "import matplotlib.pyplot as plt\n",
    "from netCDF4 import Dataset\n",
    "import matplotlib\n",
    "from matplotlib.ticker import MaxNLocator,FormatStrFormatter\n",
    "import pickle\n",
    "from glob import glob\n",
    "import sys  \n",
    "import matplotlib.gridspec as gridspec\n",
    "from scipy.stats import linregress\n",
    "from dateutil.relativedelta import relativedelta\n",
    "import itertools\n",
    "import pickle\n",
    "from cartopy.util import add_cyclic_point\n",
    "\n",
    "\n",
    "from scipy.ndimage import label,find_objects\n",
    "import scipy.ndimage as ndimage\n",
    "from matplotlib.colors import LinearSegmentedColormap\n",
    "\n",
    "import datetime as dt\n",
    "### Hack to import basemap. Comment if not using basemap ###\n",
    "# import os\n",
    "# import conda\n",
    "\n",
    "# conda_file_dir = conda.__file__\n",
    "# conda_dir = conda_file_dir.split('lib')[0]\n",
    "# proj_lib = os.path.join(os.path.join(conda_dir, 'share'), 'proj')\n",
    "# os.environ[\"PROJ_LIB\"] = proj_lib\n",
    "\n",
    "# from mpl_toolkits import basemap\n",
    "\n",
    "### If not using basemap, use cartopy ##\n",
    "import cartopy\n",
    "import cartopy.crs as ccrs\n",
    "import matplotlib.ticker as mticker\n",
    "from cartopy.mpl.gridliner import LONGITUDE_FORMATTER, LATITUDE_FORMATTER\n",
    "import xarray as xr\n",
    "\n",
    "\n",
    "%matplotlib inline"
   ]
  },
  {
   "cell_type": "markdown",
   "metadata": {},
   "source": [
    "### Read inputs ###"
   ]
  },
  {
   "cell_type": "code",
   "execution_count": 2,
   "metadata": {},
   "outputs": [
    {
     "name": "stdout",
     "output_type": "stream",
     "text": [
      "-rw-r--r--. 1 fiaz fiaz  178426313 Jun 26 09:50 /home/fiaz/cluster_analysis/clusters_output_200801_200905.out\r\n",
      "-rw-r--r--. 1 fiaz fiaz 1628735785 Jul  1 21:34 /home/fiaz/cluster_analysis/clusters_output_TRMM3B42_200201_201501.out\r\n",
      "-rw-r--r--. 1 fiaz fiaz   30673433 Jul  8 16:48 /home/fiaz/cluster_analysis/clusters_output_SNU.SAM0-UNICON.out\r\n",
      "-rw-r--r--. 1 fiaz fiaz  167709433 Jul  9 10:42 /home/fiaz/cluster_analysis/clusters_output_CESM.out\r\n",
      "-rw-r--r--. 1 fiaz fiaz   46067257 Jul  9 10:44 /home/fiaz/cluster_analysis/clusters_output_NASA-GISS.out\r\n",
      "-rw-rw-r--. 1 fiaz fiaz   73646137 Aug  9 16:17 /home/fiaz/cluster_analysis/clusters_output_CNRM-CM6-1.out\r\n",
      "-rw-rw-r--. 1 fiaz fiaz   73646137 Aug  9 16:17 /home/fiaz/cluster_analysis/clusters_output_SSP585_CNRM-CM6-1.out\r\n",
      "-rw-rw-r--. 1 fiaz fiaz   76313081 Aug  9 16:46 /home/fiaz/cluster_analysis/clusters_output_CNRM-CM6-1_201001_201212.out\r\n",
      "-rw-rw-r--. 1 fiaz fiaz   73646137 Aug 14 11:33 /home/fiaz/cluster_analysis/clusters_output_SSP585_CNRM-CM6-1_209801_210012.out\r\n",
      "-rw-r--r--. 1 fiaz fiaz  178426313 Aug 18 09:21 /home/fiaz/cluster_analysis/clusters_output_TRMM3B42_200801_200905.out\r\n",
      "-rw-r--r--. 1 fiaz fiaz   60596649 Aug 27 18:12 /home/fiaz/cluster_analysis/clusters_output_SSP585_MIROC6_209801_210012.out\r\n",
      "-rw-r--r--. 1 fiaz fiaz   18480713 Aug 28 07:37 /home/fiaz/cluster_analysis/clusters_output_SSP585_@NorESM2-MM_209801_210012.out\r\n",
      "-rw-r--r--. 1 fiaz fiaz  132658489 Sep  9 09:27 /home/fiaz/cluster_analysis/clusters_output_SSP585_@BCC-CSM2-MR_209801_210012.out\r\n",
      "-rw-r--r--. 1 fiaz fiaz   91924649 Sep  9 09:30 /home/fiaz/cluster_analysis/clusters_output_BCC_3hr_201301_201412.out\r\n",
      "-rw-r--r--. 1 fiaz fiaz  522594249 Sep  9 14:53 /home/fiaz/cluster_analysis/clusters_output_CNRM-CM6-1-HR_201301_201412.out\r\n",
      "-rw-r--r--. 1 fiaz fiaz  763959961 Sep  9 15:01 /home/fiaz/cluster_analysis/clusters_output_SSP585_CNRM-CM6-1-HR_209801_210012.out\r\n"
     ]
    }
   ],
   "source": [
    "! ls -altr /home/fiaz/cluster_analysis/*.out"
   ]
  },
  {
   "cell_type": "code",
   "execution_count": 52,
   "metadata": {},
   "outputs": [],
   "source": [
    "## replace directories with the folder where the .out files are stored for the \n",
    "## HIST and SSP models\n",
    "direc_SSP=\"/home/fiaz/cluster_analysis/\"\n",
    "direc_HIST=\"/home/fiaz/cluster_analysis/\"\n",
    "\n",
    "# direc_SSP=\"/home/leilanid/\"\n",
    "# direc_HIST=\"/home/leilanid/Clusters/CMIP6 Files/\"\n",
    "\n",
    "# model_name_HIST='CNRM-CM6-1_201001_201212'\n",
    "# model_name_SSP='SSP585_CNRM-CM6-1_209801_210012'\n",
    "\n",
    "model_name='CNRM-CM6-HR'\n",
    "model_name_HIST='CNRM-CM6-1-HR_201301_201412'\n",
    "model_name_SSP='SSP585_CNRM-CM6-1-HR_209801_210012'\n",
    "\n",
    "def read_files (direc,model):\n",
    "    file_path=direc+'clusters_output_'+model+'.out'\n",
    "    file_name=glob(file_path)[0]\n",
    "    with open(file_name, 'rb') as handle:\n",
    "        fil_dict = pickle.load(handle)\n",
    "    return fil_dict\n",
    "\n",
    "dict_SSP=read_files(direc_SSP,model_name_SSP)\n",
    "dict_HIST=read_files(direc_HIST,model_name_HIST)\n"
   ]
  },
  {
   "cell_type": "markdown",
   "metadata": {},
   "source": [
    "### Specify files to compare ###"
   ]
  },
  {
   "cell_type": "code",
   "execution_count": 53,
   "metadata": {},
   "outputs": [],
   "source": [
    "### get list of files to compare ###\n",
    "files_comp=[dict_HIST,dict_SSP]"
   ]
  },
  {
   "cell_type": "markdown",
   "metadata": {},
   "source": [
    "### Set thresholds to compare ###\n",
    "#### default is set to 1 mm/hr; change to other thresholds to play around"
   ]
  },
  {
   "cell_type": "code",
   "execution_count": 54,
   "metadata": {},
   "outputs": [],
   "source": [
    "### get list of precip. thresholds ###\n",
    "pthresh_list_full=list(dict_SSP['hist_pcp_sizes'].keys())\n",
    "pthresh_ix=pthresh_list_full.index(1.0)  ### change to 1.0, 0.75, 0.50, 0.25\n",
    "pthresh_list=pthresh_list_full[pthresh_ix:pthresh_ix+1]"
   ]
  },
  {
   "cell_type": "code",
   "execution_count": 55,
   "metadata": {},
   "outputs": [
    {
     "data": {
      "text/plain": [
       "dict_keys(['hist_pcp_sizes', 'hist_pcp_clust_pow', 'pcp_sizes', 'pcp_power', 'sizes', 'precip_cluster_power_scale', 'pixels_to_area'])"
      ]
     },
     "execution_count": 55,
     "metadata": {},
     "output_type": "execute_result"
    }
   ],
   "source": [
    "dict_HIST.keys()"
   ]
  },
  {
   "cell_type": "code",
   "execution_count": 56,
   "metadata": {},
   "outputs": [
    {
     "name": "stderr",
     "output_type": "stream",
     "text": [
      "/home/fiaz/anaconda3/envs/aos112/lib/python3.7/site-packages/ipykernel_launcher.py:77: RuntimeWarning: divide by zero encountered in true_divide\n",
      "/home/fiaz/anaconda3/envs/aos112/lib/python3.7/site-packages/ipykernel_launcher.py:77: RuntimeWarning: invalid value encountered in true_divide\n"
     ]
    }
   ],
   "source": [
    "### Compute risk ratios ###\n",
    "\n",
    "nthresh=25\n",
    "\n",
    "def extract_grid_info(dict_input):\n",
    "    \n",
    "    sizes=dict_input['sizes']\n",
    "    sz=(sizes[:-1]+sizes[1:])*0.5\n",
    "    sz_diff=np.diff(sizes)   \n",
    "    \n",
    "    precip_cluster_power_scale=dict_input['precip_cluster_power_scale']\n",
    "    pcp_clus_pow_bins=sizes*precip_cluster_power_scale*0.5\n",
    "    pcp_clust_sz=(pcp_clus_pow_bins[:-1]+pcp_clus_pow_bins[1:])*0.5\n",
    "    \n",
    "    pcp_clust_sz_diff=np.diff(pcp_clus_pow_bins)\n",
    "\n",
    "    power_scale=dict_input['precip_cluster_power_scale']\n",
    "    pixels_to_area=dict_input['pixels_to_area']\n",
    "\n",
    "    return sz,pcp_clust_sz,sz_diff,pcp_clust_sz_diff,power_scale,pixels_to_area\n",
    "\n",
    "\n",
    "def compute_risk_ratios(dict_HIST,dict_SSP,pthresh):\n",
    "    \n",
    "    hist_pcp_sizes={}\n",
    "    hist_pcp_clust_pow={}\n",
    "    \n",
    "    hist_pcp_clust_size_pdf={}\n",
    "    hist_pcp_clust_pow_pdf={}\n",
    "    \n",
    "    pcp_sizes={}\n",
    "    pcp_power={}\n",
    "    \n",
    "    sz={}\n",
    "    pcp_clust_sz={}\n",
    "    sz_diff={}\n",
    "    pcp_clust_sz_diff={}\n",
    "    power_scale={}\n",
    "    pixels_to_area={}\n",
    "    am={}\n",
    "    cm={}\n",
    "    sz_scaled={}\n",
    "    \n",
    "    ### Read power and size\n",
    "    \n",
    "    hist_pcp_sizes['HIST']=dict_HIST['hist_pcp_sizes'][pthresh]\n",
    "    hist_pcp_sizes['SSP']=dict_SSP['hist_pcp_sizes'][pthresh]\n",
    "    \n",
    "    hist_pcp_clust_pow['HIST']=dict_HIST['hist_pcp_clust_pow'][pthresh]\n",
    "    hist_pcp_clust_pow['SSP']=dict_SSP['hist_pcp_clust_pow'][pthresh]\n",
    "    \n",
    "    pcp_sizes['HIST']=dict_HIST['pcp_sizes'][pthresh]\n",
    "    pcp_sizes['SSP']=dict_SSP['pcp_sizes'][pthresh]\n",
    "\n",
    "    pcp_power['HIST']=dict_HIST['pcp_power'][pthresh]\n",
    "    pcp_power['SSP']=dict_SSP['pcp_power'][pthresh]\n",
    "\n",
    "    ### Get grid information\n",
    "        \n",
    "    sz['HIST'],pcp_clust_sz['HIST'],sz_diff['HIST'],pcp_clust_sz_diff['HIST'],power_scale['HIST'], pixels_to_area['HIST']=extract_grid_info(dict_HIST)\n",
    "\n",
    "    sz['SSP'],pcp_clust_sz['SSP'],sz_diff['SSP'],pcp_clust_sz_diff['SSP'], power_scale['SSP'], pixels_to_area['SSP']=extract_grid_info(dict_SSP)\n",
    "        \n",
    "    for key in hist_pcp_sizes.keys():\n",
    "    \n",
    "        hist_pcp_clust_size_pdf[key]=hist_pcp_sizes[key]/(sz_diff[key]*hist_pcp_sizes[key].sum())\n",
    "        hist_pcp_clust_size_pdf[key][hist_pcp_sizes[key]<nthresh]=np.nan\n",
    "        \n",
    "        hist_pcp_clust_pow_pdf[key]=hist_pcp_clust_pow[key]/(pcp_clust_sz_diff[key]*hist_pcp_clust_pow[key].sum())\n",
    "        hist_pcp_clust_pow_pdf[key][hist_pcp_clust_pow[key]==0]=np.nan\n",
    "        \n",
    "        am[key]=np.mean(pcp_sizes[key]**2)*pixels_to_area[key]/np.mean(pcp_sizes[key])\n",
    "        cm[key]=np.mean(pcp_power[key]**2)/np.mean(pcp_power[key])\n",
    "        sz_scaled[key]=sz[key]*pixels_to_area[key]\n",
    "\n",
    "    risk_ratio_size=hist_pcp_clust_size_pdf['SSP']/hist_pcp_clust_size_pdf['HIST']\n",
    "    risk_ratio_power=hist_pcp_clust_pow['SSP']/hist_pcp_clust_pow['HIST']\n",
    "        \n",
    "    return hist_pcp_clust_size_pdf, hist_pcp_clust_pow_pdf, am, cm, risk_ratio_size, risk_ratio_power, sz_scaled, pcp_clust_sz\n",
    "\n",
    "size_pdf, power_pdf, am, cm, risk_ratio_size, risk_ratio_power, sz_scaled, pcp_clust_sz=compute_risk_ratios(dict_HIST,dict_SSP,pthresh_list[0])"
   ]
  },
  {
   "cell_type": "markdown",
   "metadata": {},
   "source": [
    "### Plot PDFs ##"
   ]
  },
  {
   "cell_type": "code",
   "execution_count": 57,
   "metadata": {},
   "outputs": [
    {
     "data": {
      "image/png": "[encoded data removed]",
      "text/plain": [
       "<Figure size 792x288 with 2 Axes>"
      ]
     },
     "metadata": {
      "needs_background": "light"
     },
     "output_type": "display_data"
    }
   ],
   "source": [
    "### Some user defined parameters ###\n",
    "nthresh=25 #Discard bins with fewer than nthresh samples\n",
    "istrt_sz,iend_sz=3.0,5.0 ## the power law range for size (10^3 to 10^5)\n",
    "istrt_pow,iend_pow=4.0,5.5 ### set a ballpark range for the power law, so the straight line fit is over that range\n",
    "\n",
    "title_fontsize=15\n",
    "xlabel_fontsize=16.5\n",
    "ylabel_fontsize=16.5\n",
    "\n",
    "## x and yaxis limits for cluster size\n",
    "xlim_sz=[1e4,1e7] \n",
    "ylim_sz=[1e-7,1e1] ##\n",
    "\n",
    "## x and yaxis limits for cluster power\n",
    "xlim_pow=[1e3,2.5e8] ##\n",
    "ylim_pow=[1e-13,1e-1] ##\n",
    "\n",
    "## threshold legend font size\n",
    "leg_fontsize=12.5\n",
    "\n",
    "## moment ratio * power law slope font size\n",
    "leg1_fontsize=13.5\n",
    "\n",
    "## ticklabel font size\n",
    "ticks_fontsize=14\n",
    "\n",
    "### set the plot specs:\n",
    "### size\n",
    "fig=plt.figure(figsize=(11,4.))\n",
    "## grid: 1 row , 2 colum plot\n",
    "gs = gridspec.GridSpec(1, 2)\n",
    "## assign separate name for each axis\n",
    "ax1 = plt.subplot(gs[0, 0])\n",
    "ax2 = plt.subplot(gs[0, 1])\n",
    "\n",
    "### set four colors here for the different precip. thresholds ###\n",
    "c=['black','red']\n",
    "\n",
    "### create empty dictionaries to hold the legends \n",
    "ln1={}\n",
    "ln2={}\n",
    "\n",
    "### positions for some of the text on the plot\n",
    "posy=[ 0.65,  .85,.65, 0.725, .8, .875 ]\n",
    "posx=[.65,  0.65, .35, .4, .4 ]\n",
    "iendt=[5, 4.5, 4, 3.5, 3.0, 3.0, 3.0, 3.0]\n",
    "\n",
    "ax=ax1\n",
    "\n",
    "for j,key in enumerate(size_pdf.keys()):\n",
    "    ### there are the start and end of the power law range: adjust according to eye ###\n",
    "    istrt,iend=istrt_sz,iend_sz\n",
    "\n",
    "    ln1[key],=ax.loglog(sz_scaled[key],size_pdf[key],marker='*',c=c[j],markersize=5)\n",
    "\n",
    "    ### The straight line fit to the power law range ###\n",
    "    ### select portions of the curve bounded by the power law range ###\n",
    "    arrx,arry=np.log10(sz_scaled[key]),np.log10(size_pdf[key])\n",
    "    arrx_fin,arry_fin=arrx[np.logical_and(arrx>istrt,arrx<iend)],arry[np.logical_and(arrx>istrt,arrx<iend)]\n",
    "\n",
    "    ### perform a linear regression over this selected portion ###\n",
    "    ret=linregress(arrx_fin[np.isfinite(arry_fin)],arry_fin[np.isfinite(arry_fin)])\n",
    "\n",
    "    ### Use the slope and intercept from the linear regression to create the straight line ###\n",
    "    pdf_pcp_sizes=((sz_scaled[key])**(ret[0]))*(10**(ret[1]))\n",
    "\n",
    "    ## Remove portions of the straight line that extend too far beyond the cutoff\n",
    "    pdf_pcp_sizes[sz_scaled[key]>5e6]=np.nan \n",
    "#     sm=np.mean(pcp_sizes[key]**2)*pixels_to_area/np.mean(pcp_sizes[key])\n",
    "    ax.text(posx[j],posy[j],'$a_M$=%.2e'%(am[key]),transform=ax.transAxes,fontsize=leg1_fontsize,color=c[j])\n",
    "\n",
    "\n",
    "    \n",
    "#     ### Now compute the moment ratio and print it in on plot ##\n",
    "    if (j == 1):\n",
    "        ax.loglog(sz_scaled[key],pdf_pcp_sizes*1e0,linestyle='--',c=c[j])\n",
    "\n",
    "        ### Set plot title and axis labels\n",
    "        ax.set_title(\"%s size distribution\\n%.2f mm/hr\"%(model_name,pthresh_list[0]),fontsize=title_fontsize)\n",
    "        ax.set_xlabel(\"Size ($\\mathrm{km^2}$) \",fontsize=xlabel_fontsize)\n",
    "        ax.set_ylabel(\"Probability density\",fontsize=ylabel_fontsize)\n",
    "        ax.set_xlim(xlim_sz)\n",
    "        ax.set_ylim(ylim_sz)\n",
    "        ax.yaxis.set_major_locator(plt.FixedLocator([1e0, 1e-2, 1e-4, 1e-6, 1e-8, 1e-10]))\n",
    "        ax.tick_params(which='both', labelsize=ticks_fontsize)\n",
    "#         ax.text(0.001, 0.475,' Rain threshold\\n (mm/hr)',transform=ax.transAxes,fontsize=leg_fontsize,fontweight='bold')\n",
    "        ax.text(posx[j]-0.25,posy[j],'$\\\\tau$=%.1f'%(-ret[0]),transform=ax.transAxes,fontsize=leg1_fontsize,color='black')\n",
    "        ax.loglog(sz_scaled[key],pdf_pcp_sizes*1e0,linestyle='--',c='black')\n",
    "\n",
    "\n",
    "        leg=ax.legend((ln1['HIST'],ln1['SSP']), \\\n",
    "        ( \"HIST\", \"SSP\"),fontsize=leg_fontsize, loc=(.025, .05),ncol=1 )\n",
    "        ## make legend box color black ##\n",
    "        frame=leg.get_frame()\n",
    "        frame.set_edgecolor('black')\n",
    "\n",
    "\n",
    "\n",
    "ax=ax2\n",
    "for j,key in enumerate(size_pdf.keys()):\n",
    "    istrt,iend=istrt_pow,iend_pow \n",
    "    ln2[key],=ax.loglog(pcp_clust_sz[key],power_pdf[key],marker='*',c=c[j],markersize=5)\n",
    "    arrx,arry=np.log10(pcp_clust_sz[key]),np.log10(power_pdf[key])\n",
    "    \n",
    "    arrx_fin,arry_fin=arrx[np.logical_and(arrx>istrt,arrx<=iend)],arry[np.logical_and(arrx>istrt,arrx<=iend)]\n",
    "    try:\n",
    "        ret=linregress(arrx_fin[np.isfinite(arry_fin)],arry_fin[np.isfinite(arry_fin)])\n",
    "        pdf_pcp_power=((pcp_clust_sz[key])**(ret[0]))*(10**(ret[1]))\n",
    "        pdf_pcp_power[pcp_clust_sz[key]>1e7]=np.nan\n",
    "    except:\n",
    "        ## if the power law range does not exist within the specified window,\n",
    "        ## don't plot it \n",
    "        pdf_pcp_power=np.zeros_like(pcp_clust_sz[key])\n",
    "\n",
    "    ax.text(posx[j],posy[j],'$c_M$=%.2e'%(cm[key]),transform=ax.transAxes,fontsize=leg1_fontsize,color=c[j])\n",
    "    ax.tick_params(which='both', labelsize=ticks_fontsize)\n",
    "\n",
    "    if (j==1):\n",
    "        ax.loglog(pcp_clust_sz[key],pdf_pcp_power*1e0,linestyle='--',c=c[j])\n",
    "        leg=ax.legend((ln2['HIST'],ln2['SSP']), \\\n",
    "        (\"HIST\", \"SSP\"),\n",
    "        fontsize=leg_fontsize, loc=(.025, .05),ncol=1 )\n",
    "        ## make legend box color black ##\n",
    "        frame=leg.get_frame()\n",
    "        frame.set_edgecolor('black')\n",
    "        ax.loglog(pcp_clust_sz[key],pdf_pcp_power*1e0,linestyle='--',c='black')\n",
    "\n",
    "        ax.text(posx[j]-0.25,posy[j],'$\\\\tau$=%.1f'%(-ret[0]),transform=ax.transAxes,fontsize=leg1_fontsize,color='black')\n",
    "        ax.set_title(\"%s cluster power distribution\\n%.2f mm/hr\"%(model_name,pthresh_list[0]),fontsize=title_fontsize)\n",
    "        ax.set_xlabel(\"Power (GW) \",fontsize=xlabel_fontsize)\n",
    "        ax.set_xlim(xlim_pow)\n",
    "        ax.set_ylim(ylim_pow)\n",
    "        ax.yaxis.set_major_locator(plt.FixedLocator([1e-2, 1e-4, 1e-6, 1e-8, 1e-10,1e-12]))\n",
    "\n",
    "plt.tight_layout()\n",
    "plt.subplots_adjust(top=0.9)\n",
    "\n",
    "\n",
    "SAVE_FIG=False\n",
    "if SAVE_FIG:\n",
    "    dirp='./' ## current location, but change as needed\n",
    "    save_fig_name=dirp+\"clusters_pdfs_%.2f_%s\"%(pthresh_list[0],model_list[model_index])+\".pdf\"\n",
    "\n",
    "    plt.savefig(save_fig_name,format='pdf',dpi=150,bbox_inches='tight')\n"
   ]
  },
  {
   "cell_type": "markdown",
   "metadata": {},
   "source": [
    "### Plot risk ratios ###"
   ]
  },
  {
   "cell_type": "code",
   "execution_count": 49,
   "metadata": {},
   "outputs": [
    {
     "data": {
      "image/png": "[encoded data removed]",
      "text/plain": [
       "<Figure size 792x288 with 2 Axes>"
      ]
     },
     "metadata": {
      "needs_background": "light"
     },
     "output_type": "display_data"
    }
   ],
   "source": [
    "### Some user defined parameters ###\n",
    "nthresh=25 #Discard bins with fewer than nthresh samples\n",
    "istrt_sz,iend_sz=3.0,5.0 ## the power law range for size (10^3 to 10^5)\n",
    "istrt_pow,iend_pow=4.0,5.5 ### set a ballpark range for the power law, so the straight line fit is over that range\n",
    "\n",
    "title_fontsize=15\n",
    "xlabel_fontsize=16.5\n",
    "ylabel_fontsize=16.5\n",
    "\n",
    "## x and yaxis limits for cluster size\n",
    "xlim_sz=[1e4,1e7] \n",
    "ylim_sz=[0.5,5] ##\n",
    "\n",
    "## x and yaxis limits for cluster power\n",
    "xlim_pow=[1e3,2.5e8] ##\n",
    "ylim_pow=[0.5,35] ##\n",
    "\n",
    "## threshold legend font size\n",
    "leg_fontsize=12.5\n",
    "\n",
    "## moment ratio * power law slope font size\n",
    "leg1_fontsize=13.5\n",
    "\n",
    "## ticklabel font size\n",
    "ticks_fontsize=14\n",
    "\n",
    "### set the plot specs:\n",
    "### size\n",
    "fig=plt.figure(figsize=(11,4.))\n",
    "## grid: 1 row , 2 colum plot\n",
    "gs = gridspec.GridSpec(1, 2)\n",
    "## assign separate name for each axis\n",
    "ax1 = plt.subplot(gs[0, 0])\n",
    "ax2 = plt.subplot(gs[0, 1])\n",
    "\n",
    "### set four colors here for the different precip. thresholds ###\n",
    "c=['black','red']\n",
    "\n",
    "### create empty dictionaries to hold the legends \n",
    "ln1={}\n",
    "ln2={}\n",
    "\n",
    "### positions for some of the text on the plot\n",
    "posy=[ 0.65,  .85,.65, 0.725, .8, .875 ]\n",
    "posx=[.65,  0.65, .35, .4, .4 ]\n",
    "iendt=[5, 4.5, 4, 3.5, 3.0, 3.0, 3.0, 3.0]\n",
    "\n",
    "ax=ax1\n",
    "ax.semilogx(sz_scaled[key],risk_ratio_size,marker='*',c='blue',markersize=5)\n",
    "ax.set_title(\"%s size risk ratio\\n%.2f mm/hr\"%(model_name,pthresh_list[0]),fontsize=title_fontsize)\n",
    "ax.set_xlabel(\"Size ($\\mathrm{km^2}$) \",fontsize=xlabel_fontsize)\n",
    "ax.set_ylabel(\"Risk Ratio\",fontsize=ylabel_fontsize)\n",
    "ax.set_xlim(xlim_sz)\n",
    "ax.set_ylim(ylim_sz)\n",
    "# ax.yaxis.set_major_locator(plt.FixedLocator([1e0, 1e-2, 1e-4, 1e-6, 1e-8, 1e-10]))\n",
    "ax.tick_params(which='both', labelsize=ticks_fontsize)\n",
    "\n",
    "\n",
    "ax=ax2\n",
    "ax.semilogx(pcp_clust_sz[key],risk_ratio_power,marker='*',c=c[j],markersize=5)\n",
    "ax.set_title(\"%s power risk ratio\\n%.2f mm/hr\"%(model_name,pthresh_list[0]),fontsize=title_fontsize)\n",
    "ax.set_xlabel(\"Power (GW) \",fontsize=xlabel_fontsize)\n",
    "ax.set_ylabel(\"Risk Ratio\",fontsize=ylabel_fontsize)\n",
    "ax.set_xlim(xlim_pow)\n",
    "ax.set_ylim(ylim_pow)\n",
    "# ax.yaxis.set_major_locator(plt.FixedLocator([1e0, 1e-2, 1e-4, 1e-6, 1e-8, 1e-10]))\n",
    "ax.tick_params(which='both', labelsize=ticks_fontsize)\n",
    "\n",
    "SAVE_FIG=False\n",
    "if SAVE_FIG:\n",
    "    dirp='./' ## current location, but change as needed\n",
    "    save_fig_name=dirp+\"risk_ratios_%.2f_%s\"%(pthresh_list[0],model_list[model_index])+\".pdf\"\n",
    "\n",
    "    plt.savefig(save_fig_name,format='pdf',dpi=150,bbox_inches='tight')\n",
    "\n"
   ]
  },
  {
   "cell_type": "code",
   "execution_count": null,
   "metadata": {},
   "outputs": [],
   "source": []
  }
 ],
 "metadata": {
  "kernelspec": {
   "display_name": "aos112",
   "language": "python",
   "name": "aos112"
  },
  "language_info": {
   "codemirror_mode": {
    "name": "ipython",
    "version": 3
   },
   "file_extension": ".py",
   "mimetype": "text/x-python",
   "name": "python",
   "nbconvert_exporter": "python",
   "pygments_lexer": "ipython3",
   "version": "3.7.7"
  }
 },
 "nbformat": 4,
 "nbformat_minor": 4
}
